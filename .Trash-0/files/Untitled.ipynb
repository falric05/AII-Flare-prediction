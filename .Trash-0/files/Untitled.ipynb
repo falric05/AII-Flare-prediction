{
 "cells": [
  {
   "cell_type": "code",
   "execution_count": 1,
   "id": "7c42ac3d",
   "metadata": {},
   "outputs": [],
   "source": [
    "from Libs.load_data import DataLoader\n",
    "from Libs import flares_plot as fplt\n",
    "from Libs.threshold import get_labels_physic, get_labels_KDE"
   ]
  },
  {
   "cell_type": "code",
   "execution_count": 2,
   "id": "5174327d",
   "metadata": {},
   "outputs": [],
   "source": [
    "# initialize data loader\n",
    "data_loader = DataLoader()\n",
    "# get the grid\n",
    "grid = data_loader.get_grid()\n",
    "# get params dictionary\n",
    "params = data_loader.get_params()\n",
    "\n",
    "params"
   ]
  },
  {
   "cell_type": "code",
   "execution_count": null,
   "id": "e1dd64ee",
   "metadata": {},
   "outputs": [],
   "source": []
  }
 ],
 "metadata": {
  "kernelspec": {
   "display_name": "Python 3 (ipykernel)",
   "language": "python",
   "name": "python3"
  },
  "language_info": {
   "codemirror_mode": {
    "name": "ipython",
    "version": 3
   },
   "file_extension": ".py",
   "mimetype": "text/x-python",
   "name": "python",
   "nbconvert_exporter": "python",
   "pygments_lexer": "ipython3",
   "version": "3.8.16"
  }
 },
 "nbformat": 4,
 "nbformat_minor": 5
}
