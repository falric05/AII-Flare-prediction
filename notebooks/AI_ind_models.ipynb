{
 "cells": [
  {
   "cell_type": "markdown",
   "metadata": {
    "id": "BZUhJEvf-tKM"
   },
   "source": [
    "# AI in Industry project\n",
    "# Flare prediction\n",
    "- Ildebrando Simeoni - ildebrando.simeoni@studio.unibo.it\n",
    "- Davide Femia - davide.femia@studio.unibo.it\n",
    "- Riccardo Falco - riccardo.falco2@tudio.unibo.it\n",
    "- Vincenzo Collura - vincenzo.collura2@studio.unibo.it\n"
   ]
  },
  {
   "cell_type": "markdown",
   "metadata": {
    "id": "q_Rs7TGB9lqq"
   },
   "source": [
    "## Libraries"
   ]
  },
  {
   "cell_type": "code",
   "execution_count": 1,
   "metadata": {
    "id": "IMy1hxhX-tKP"
   },
   "outputs": [
    {
     "name": "stderr",
     "output_type": "stream",
     "text": [
      "2023-03-15 11:34:35.080009: I tensorflow/core/platform/cpu_feature_guard.cc:193] This TensorFlow binary is optimized with oneAPI Deep Neural Network Library (oneDNN) to use the following CPU instructions in performance-critical operations:  AVX2 FMA\n",
      "To enable them in other operations, rebuild TensorFlow with the appropriate compiler flags.\n",
      "2023-03-15 11:34:35.254190: W tensorflow/compiler/xla/stream_executor/platform/default/dso_loader.cc:64] Could not load dynamic library 'libcudart.so.11.0'; dlerror: libcudart.so.11.0: cannot open shared object file: No such file or directory\n",
      "2023-03-15 11:34:35.254241: I tensorflow/compiler/xla/stream_executor/cuda/cudart_stub.cc:29] Ignore above cudart dlerror if you do not have a GPU set up on your machine.\n",
      "2023-03-15 11:34:36.734358: W tensorflow/compiler/xla/stream_executor/platform/default/dso_loader.cc:64] Could not load dynamic library 'libnvinfer.so.7'; dlerror: libnvinfer.so.7: cannot open shared object file: No such file or directory\n",
      "2023-03-15 11:34:36.734557: W tensorflow/compiler/xla/stream_executor/platform/default/dso_loader.cc:64] Could not load dynamic library 'libnvinfer_plugin.so.7'; dlerror: libnvinfer_plugin.so.7: cannot open shared object file: No such file or directory\n",
      "2023-03-15 11:34:36.734571: W tensorflow/compiler/tf2tensorrt/utils/py_utils.cc:38] TF-TRT Warning: Cannot dlopen some TensorRT libraries. If you would like to use Nvidia GPU with TensorRT, please make sure the missing libraries mentioned above are installed properly.\n"
     ]
    }
   ],
   "source": [
    "%load_ext autoreload\n",
    "%autoreload 2\n",
    "\n",
    "from Libs.load_data import DataLoader, ClassificationDataLoader, get_dataset_split\n",
    "import Libs.flares_plot as fplt\n",
    "from Libs.threshold import get_labels_physic, get_labels_KDE, get_labels_quantile, get_labels_quantile_on_run\n",
    "from Libs.keras_f1score import f1_m\n",
    "\n",
    "import numpy as np\n",
    "import pandas as pd\n",
    "import os\n",
    "from itertools import product\n",
    "from tqdm import tqdm\n",
    "import matplotlib.pyplot as plt\n",
    "# NON SAPPIAMO SE FUNZIONANO NEL CASO INSTALLA\n",
    "# import plotly.graph_objects as go\n",
    "# from plotly.subplots import make_subplots\n",
    "\n",
    "from sklearn.preprocessing import StandardScaler\n",
    "from sklearn.svm import SVC\n",
    "from sklearn.ensemble import RandomForestClassifier\n",
    "from sklearn.naive_bayes import GaussianNB\n",
    "from sklearn.neighbors import KNeighborsClassifier\n",
    "from sklearn.linear_model import LogisticRegression\n",
    "from sklearn.model_selection import train_test_split\n",
    "from sklearn.metrics import f1_score, accuracy_score, classification_report, confusion_matrix\n",
    "\n",
    "from tensorflow import keras\n",
    "# from keras import backend as K\n",
    "from keras.models import Sequential\n",
    "from keras.layers import Dense, LSTM, Bidirectional\n",
    "from keras.callbacks import ModelCheckpoint, ReduceLROnPlateau, EarlyStopping\n",
    "from keras.initializers import Constant"
   ]
  },
  {
   "cell_type": "markdown",
   "metadata": {
    "id": "k-P2pI3e92tC"
   },
   "source": [
    "## Dataframe building"
   ]
  },
  {
   "cell_type": "code",
   "execution_count": 2,
   "metadata": {
    "id": "AMoQ55Y194rM"
   },
   "outputs": [
    {
     "data": {
      "text/plain": [
       "{'run': 1000,\n",
       " 'sigma': [0.5],\n",
       " 'theta': [0.01],\n",
       " 'mu': [1],\n",
       " 'delta': [0.2],\n",
       " 'N': 1000}"
      ]
     },
     "execution_count": 2,
     "metadata": {},
     "output_type": "execute_result"
    }
   ],
   "source": [
    "# TO DO: sostituire tutte le seguenti celle con la funzione di Davide per creare il dataframe con cui traineremo tutti i modelli\n",
    "data_loader = ClassificationDataLoader(run=1000, N=1000, s=0.5, t=0.01, d=0.2, m=1)\n",
    "params = data_loader.get_params()\n",
    "params"
   ]
  },
  {
   "cell_type": "code",
   "execution_count": 3,
   "metadata": {},
   "outputs": [
    {
     "name": "stdout",
     "output_type": "stream",
     "text": [
      "Loading Data\n",
      "Loading Labels\n",
      "Labels Loaded\n"
     ]
    }
   ],
   "source": [
    "Xs, best_labels = data_loader.load_data()"
   ]
  },
  {
   "cell_type": "code",
   "execution_count": 4,
   "metadata": {},
   "outputs": [
    {
     "data": {
      "text/html": [
       "<div>\n",
       "<style scoped>\n",
       "    .dataframe tbody tr th:only-of-type {\n",
       "        vertical-align: middle;\n",
       "    }\n",
       "\n",
       "    .dataframe tbody tr th {\n",
       "        vertical-align: top;\n",
       "    }\n",
       "\n",
       "    .dataframe thead th {\n",
       "        text-align: right;\n",
       "    }\n",
       "</style>\n",
       "<table border=\"1\" class=\"dataframe\">\n",
       "  <thead>\n",
       "    <tr style=\"text-align: right;\">\n",
       "      <th></th>\n",
       "      <th>t_0</th>\n",
       "      <th>t_1</th>\n",
       "      <th>t_2</th>\n",
       "      <th>t_3</th>\n",
       "      <th>t_4</th>\n",
       "      <th>t_5</th>\n",
       "      <th>t_6</th>\n",
       "      <th>t_7</th>\n",
       "      <th>t_8</th>\n",
       "      <th>t_9</th>\n",
       "      <th>...</th>\n",
       "      <th>t_91</th>\n",
       "      <th>t_92</th>\n",
       "      <th>t_93</th>\n",
       "      <th>t_94</th>\n",
       "      <th>t_95</th>\n",
       "      <th>t_96</th>\n",
       "      <th>t_97</th>\n",
       "      <th>t_98</th>\n",
       "      <th>t_99</th>\n",
       "      <th>future_flare</th>\n",
       "    </tr>\n",
       "  </thead>\n",
       "  <tbody>\n",
       "    <tr>\n",
       "      <th>0</th>\n",
       "      <td>1.000000</td>\n",
       "      <td>0.975000</td>\n",
       "      <td>0.817655</td>\n",
       "      <td>0.732000</td>\n",
       "      <td>0.707988</td>\n",
       "      <td>0.867460</td>\n",
       "      <td>0.901462</td>\n",
       "      <td>0.797849</td>\n",
       "      <td>0.987134</td>\n",
       "      <td>0.971664</td>\n",
       "      <td>...</td>\n",
       "      <td>0.822077</td>\n",
       "      <td>0.581339</td>\n",
       "      <td>0.584996</td>\n",
       "      <td>0.483774</td>\n",
       "      <td>0.409096</td>\n",
       "      <td>0.628952</td>\n",
       "      <td>0.611390</td>\n",
       "      <td>0.671805</td>\n",
       "      <td>0.726003</td>\n",
       "      <td>0</td>\n",
       "    </tr>\n",
       "    <tr>\n",
       "      <th>1</th>\n",
       "      <td>0.531933</td>\n",
       "      <td>0.435960</td>\n",
       "      <td>0.432361</td>\n",
       "      <td>0.614583</td>\n",
       "      <td>0.597788</td>\n",
       "      <td>0.458015</td>\n",
       "      <td>0.488854</td>\n",
       "      <td>0.456466</td>\n",
       "      <td>0.369691</td>\n",
       "      <td>0.327013</td>\n",
       "      <td>...</td>\n",
       "      <td>0.047971</td>\n",
       "      <td>0.036906</td>\n",
       "      <td>0.048021</td>\n",
       "      <td>0.045313</td>\n",
       "      <td>0.034575</td>\n",
       "      <td>0.046860</td>\n",
       "      <td>0.050922</td>\n",
       "      <td>0.044483</td>\n",
       "      <td>0.047844</td>\n",
       "      <td>0</td>\n",
       "    </tr>\n",
       "    <tr>\n",
       "      <th>2</th>\n",
       "      <td>0.047619</td>\n",
       "      <td>0.062404</td>\n",
       "      <td>0.055264</td>\n",
       "      <td>0.058290</td>\n",
       "      <td>0.063605</td>\n",
       "      <td>0.056496</td>\n",
       "      <td>0.069958</td>\n",
       "      <td>0.068656</td>\n",
       "      <td>0.086370</td>\n",
       "      <td>0.102211</td>\n",
       "      <td>...</td>\n",
       "      <td>0.097451</td>\n",
       "      <td>0.098361</td>\n",
       "      <td>0.120303</td>\n",
       "      <td>0.102902</td>\n",
       "      <td>0.089424</td>\n",
       "      <td>0.053104</td>\n",
       "      <td>0.060239</td>\n",
       "      <td>0.062240</td>\n",
       "      <td>0.071243</td>\n",
       "      <td>0</td>\n",
       "    </tr>\n",
       "    <tr>\n",
       "      <th>3</th>\n",
       "      <td>0.050108</td>\n",
       "      <td>0.065251</td>\n",
       "      <td>0.050780</td>\n",
       "      <td>0.080958</td>\n",
       "      <td>0.095826</td>\n",
       "      <td>0.059014</td>\n",
       "      <td>0.055918</td>\n",
       "      <td>0.042569</td>\n",
       "      <td>0.053499</td>\n",
       "      <td>0.053687</td>\n",
       "      <td>...</td>\n",
       "      <td>0.054316</td>\n",
       "      <td>0.049972</td>\n",
       "      <td>0.051270</td>\n",
       "      <td>0.052997</td>\n",
       "      <td>0.055689</td>\n",
       "      <td>0.058918</td>\n",
       "      <td>0.069401</td>\n",
       "      <td>0.072926</td>\n",
       "      <td>0.073865</td>\n",
       "      <td>0</td>\n",
       "    </tr>\n",
       "    <tr>\n",
       "      <th>4</th>\n",
       "      <td>0.061779</td>\n",
       "      <td>0.050530</td>\n",
       "      <td>0.048617</td>\n",
       "      <td>0.041376</td>\n",
       "      <td>0.032464</td>\n",
       "      <td>0.033079</td>\n",
       "      <td>0.027042</td>\n",
       "      <td>0.027896</td>\n",
       "      <td>0.021426</td>\n",
       "      <td>0.037713</td>\n",
       "      <td>...</td>\n",
       "      <td>0.138653</td>\n",
       "      <td>0.105199</td>\n",
       "      <td>0.093476</td>\n",
       "      <td>0.110627</td>\n",
       "      <td>0.144723</td>\n",
       "      <td>0.146574</td>\n",
       "      <td>0.134962</td>\n",
       "      <td>0.153007</td>\n",
       "      <td>0.122369</td>\n",
       "      <td>0</td>\n",
       "    </tr>\n",
       "    <tr>\n",
       "      <th>...</th>\n",
       "      <td>...</td>\n",
       "      <td>...</td>\n",
       "      <td>...</td>\n",
       "      <td>...</td>\n",
       "      <td>...</td>\n",
       "      <td>...</td>\n",
       "      <td>...</td>\n",
       "      <td>...</td>\n",
       "      <td>...</td>\n",
       "      <td>...</td>\n",
       "      <td>...</td>\n",
       "      <td>...</td>\n",
       "      <td>...</td>\n",
       "      <td>...</td>\n",
       "      <td>...</td>\n",
       "      <td>...</td>\n",
       "      <td>...</td>\n",
       "      <td>...</td>\n",
       "      <td>...</td>\n",
       "      <td>...</td>\n",
       "      <td>...</td>\n",
       "    </tr>\n",
       "    <tr>\n",
       "      <th>5395</th>\n",
       "      <td>0.221462</td>\n",
       "      <td>0.147254</td>\n",
       "      <td>0.131077</td>\n",
       "      <td>0.143705</td>\n",
       "      <td>0.161798</td>\n",
       "      <td>0.224983</td>\n",
       "      <td>0.224525</td>\n",
       "      <td>0.242884</td>\n",
       "      <td>0.196367</td>\n",
       "      <td>0.223873</td>\n",
       "      <td>...</td>\n",
       "      <td>0.023894</td>\n",
       "      <td>0.024400</td>\n",
       "      <td>0.028591</td>\n",
       "      <td>0.028799</td>\n",
       "      <td>0.026831</td>\n",
       "      <td>0.021999</td>\n",
       "      <td>0.022993</td>\n",
       "      <td>0.026112</td>\n",
       "      <td>0.037321</td>\n",
       "      <td>0</td>\n",
       "    </tr>\n",
       "    <tr>\n",
       "      <th>5396</th>\n",
       "      <td>0.032010</td>\n",
       "      <td>0.036129</td>\n",
       "      <td>0.038647</td>\n",
       "      <td>0.031055</td>\n",
       "      <td>0.031585</td>\n",
       "      <td>0.031262</td>\n",
       "      <td>0.025490</td>\n",
       "      <td>0.019504</td>\n",
       "      <td>0.033207</td>\n",
       "      <td>0.041235</td>\n",
       "      <td>...</td>\n",
       "      <td>0.271392</td>\n",
       "      <td>0.300269</td>\n",
       "      <td>0.288944</td>\n",
       "      <td>0.304309</td>\n",
       "      <td>0.343996</td>\n",
       "      <td>0.225139</td>\n",
       "      <td>0.312487</td>\n",
       "      <td>0.179253</td>\n",
       "      <td>0.220719</td>\n",
       "      <td>1</td>\n",
       "    </tr>\n",
       "    <tr>\n",
       "      <th>5397</th>\n",
       "      <td>0.186569</td>\n",
       "      <td>0.200493</td>\n",
       "      <td>0.241656</td>\n",
       "      <td>0.259690</td>\n",
       "      <td>0.210648</td>\n",
       "      <td>0.214042</td>\n",
       "      <td>0.146446</td>\n",
       "      <td>0.162904</td>\n",
       "      <td>0.170839</td>\n",
       "      <td>0.171019</td>\n",
       "      <td>...</td>\n",
       "      <td>0.734232</td>\n",
       "      <td>1.049890</td>\n",
       "      <td>0.887703</td>\n",
       "      <td>0.530217</td>\n",
       "      <td>0.405928</td>\n",
       "      <td>0.447269</td>\n",
       "      <td>0.448764</td>\n",
       "      <td>0.432999</td>\n",
       "      <td>0.284422</td>\n",
       "      <td>0</td>\n",
       "    </tr>\n",
       "    <tr>\n",
       "      <th>5398</th>\n",
       "      <td>0.274142</td>\n",
       "      <td>0.358352</td>\n",
       "      <td>0.300896</td>\n",
       "      <td>0.240062</td>\n",
       "      <td>0.200058</td>\n",
       "      <td>0.297091</td>\n",
       "      <td>0.232296</td>\n",
       "      <td>0.235283</td>\n",
       "      <td>0.176103</td>\n",
       "      <td>0.183586</td>\n",
       "      <td>...</td>\n",
       "      <td>0.097322</td>\n",
       "      <td>0.101552</td>\n",
       "      <td>0.146819</td>\n",
       "      <td>0.212846</td>\n",
       "      <td>0.272731</td>\n",
       "      <td>0.339866</td>\n",
       "      <td>0.325003</td>\n",
       "      <td>0.263367</td>\n",
       "      <td>0.306598</td>\n",
       "      <td>0</td>\n",
       "    </tr>\n",
       "    <tr>\n",
       "      <th>5399</th>\n",
       "      <td>0.341514</td>\n",
       "      <td>0.251129</td>\n",
       "      <td>0.238112</td>\n",
       "      <td>0.260418</td>\n",
       "      <td>0.326675</td>\n",
       "      <td>0.345829</td>\n",
       "      <td>0.435811</td>\n",
       "      <td>0.275330</td>\n",
       "      <td>0.265483</td>\n",
       "      <td>0.210341</td>\n",
       "      <td>...</td>\n",
       "      <td>0.298169</td>\n",
       "      <td>0.297610</td>\n",
       "      <td>0.229882</td>\n",
       "      <td>0.178674</td>\n",
       "      <td>0.123507</td>\n",
       "      <td>0.107917</td>\n",
       "      <td>0.123261</td>\n",
       "      <td>0.144032</td>\n",
       "      <td>0.156872</td>\n",
       "      <td>0</td>\n",
       "    </tr>\n",
       "  </tbody>\n",
       "</table>\n",
       "<p>5400 rows × 101 columns</p>\n",
       "</div>"
      ],
      "text/plain": [
       "           t_0       t_1       t_2       t_3       t_4       t_5       t_6  \\\n",
       "0     1.000000  0.975000  0.817655  0.732000  0.707988  0.867460  0.901462   \n",
       "1     0.531933  0.435960  0.432361  0.614583  0.597788  0.458015  0.488854   \n",
       "2     0.047619  0.062404  0.055264  0.058290  0.063605  0.056496  0.069958   \n",
       "3     0.050108  0.065251  0.050780  0.080958  0.095826  0.059014  0.055918   \n",
       "4     0.061779  0.050530  0.048617  0.041376  0.032464  0.033079  0.027042   \n",
       "...        ...       ...       ...       ...       ...       ...       ...   \n",
       "5395  0.221462  0.147254  0.131077  0.143705  0.161798  0.224983  0.224525   \n",
       "5396  0.032010  0.036129  0.038647  0.031055  0.031585  0.031262  0.025490   \n",
       "5397  0.186569  0.200493  0.241656  0.259690  0.210648  0.214042  0.146446   \n",
       "5398  0.274142  0.358352  0.300896  0.240062  0.200058  0.297091  0.232296   \n",
       "5399  0.341514  0.251129  0.238112  0.260418  0.326675  0.345829  0.435811   \n",
       "\n",
       "           t_7       t_8       t_9  ...      t_91      t_92      t_93  \\\n",
       "0     0.797849  0.987134  0.971664  ...  0.822077  0.581339  0.584996   \n",
       "1     0.456466  0.369691  0.327013  ...  0.047971  0.036906  0.048021   \n",
       "2     0.068656  0.086370  0.102211  ...  0.097451  0.098361  0.120303   \n",
       "3     0.042569  0.053499  0.053687  ...  0.054316  0.049972  0.051270   \n",
       "4     0.027896  0.021426  0.037713  ...  0.138653  0.105199  0.093476   \n",
       "...        ...       ...       ...  ...       ...       ...       ...   \n",
       "5395  0.242884  0.196367  0.223873  ...  0.023894  0.024400  0.028591   \n",
       "5396  0.019504  0.033207  0.041235  ...  0.271392  0.300269  0.288944   \n",
       "5397  0.162904  0.170839  0.171019  ...  0.734232  1.049890  0.887703   \n",
       "5398  0.235283  0.176103  0.183586  ...  0.097322  0.101552  0.146819   \n",
       "5399  0.275330  0.265483  0.210341  ...  0.298169  0.297610  0.229882   \n",
       "\n",
       "          t_94      t_95      t_96      t_97      t_98      t_99  future_flare  \n",
       "0     0.483774  0.409096  0.628952  0.611390  0.671805  0.726003             0  \n",
       "1     0.045313  0.034575  0.046860  0.050922  0.044483  0.047844             0  \n",
       "2     0.102902  0.089424  0.053104  0.060239  0.062240  0.071243             0  \n",
       "3     0.052997  0.055689  0.058918  0.069401  0.072926  0.073865             0  \n",
       "4     0.110627  0.144723  0.146574  0.134962  0.153007  0.122369             0  \n",
       "...        ...       ...       ...       ...       ...       ...           ...  \n",
       "5395  0.028799  0.026831  0.021999  0.022993  0.026112  0.037321             0  \n",
       "5396  0.304309  0.343996  0.225139  0.312487  0.179253  0.220719             1  \n",
       "5397  0.530217  0.405928  0.447269  0.448764  0.432999  0.284422             0  \n",
       "5398  0.212846  0.272731  0.339866  0.325003  0.263367  0.306598             0  \n",
       "5399  0.178674  0.123507  0.107917  0.123261  0.144032  0.156872             0  \n",
       "\n",
       "[5400 rows x 101 columns]"
      ]
     },
     "execution_count": 4,
     "metadata": {},
     "output_type": "execute_result"
    }
   ],
   "source": [
    "bindexes = data_loader.get_standard_indexes()\n",
    "df_train, df_val, df_test = get_dataset_split(Xs, best_labels, bindexes, window_size=100, overlap_size=0, label_treshold=1,\n",
    "                                      split_on_run=True, shuffle_run=False, shuffle_window=False,\n",
    "                                      test_size = 0.2, val_size=0.2, get_validation=True, random_state=42)\n",
    "df_train"
   ]
  },
  {
   "cell_type": "code",
   "execution_count": 6,
   "metadata": {},
   "outputs": [
    {
     "data": {
      "text/html": [
       "<div>\n",
       "<style scoped>\n",
       "    .dataframe tbody tr th:only-of-type {\n",
       "        vertical-align: middle;\n",
       "    }\n",
       "\n",
       "    .dataframe tbody tr th {\n",
       "        vertical-align: top;\n",
       "    }\n",
       "\n",
       "    .dataframe thead th {\n",
       "        text-align: right;\n",
       "    }\n",
       "</style>\n",
       "<table border=\"1\" class=\"dataframe\">\n",
       "  <thead>\n",
       "    <tr style=\"text-align: right;\">\n",
       "      <th></th>\n",
       "      <th>t_0</th>\n",
       "      <th>t_1</th>\n",
       "      <th>t_2</th>\n",
       "      <th>t_3</th>\n",
       "      <th>t_4</th>\n",
       "      <th>t_5</th>\n",
       "      <th>t_6</th>\n",
       "      <th>t_7</th>\n",
       "      <th>t_8</th>\n",
       "      <th>t_9</th>\n",
       "      <th>...</th>\n",
       "      <th>t_91</th>\n",
       "      <th>t_92</th>\n",
       "      <th>t_93</th>\n",
       "      <th>t_94</th>\n",
       "      <th>t_95</th>\n",
       "      <th>t_96</th>\n",
       "      <th>t_97</th>\n",
       "      <th>t_98</th>\n",
       "      <th>t_99</th>\n",
       "      <th>future_flare</th>\n",
       "    </tr>\n",
       "  </thead>\n",
       "  <tbody>\n",
       "    <tr>\n",
       "      <th>0</th>\n",
       "      <td>1.000000</td>\n",
       "      <td>0.975000</td>\n",
       "      <td>0.910019</td>\n",
       "      <td>0.676438</td>\n",
       "      <td>0.614820</td>\n",
       "      <td>0.579506</td>\n",
       "      <td>0.477794</td>\n",
       "      <td>0.431486</td>\n",
       "      <td>0.460110</td>\n",
       "      <td>0.390031</td>\n",
       "      <td>...</td>\n",
       "      <td>0.049888</td>\n",
       "      <td>0.048055</td>\n",
       "      <td>0.065509</td>\n",
       "      <td>0.038221</td>\n",
       "      <td>0.045773</td>\n",
       "      <td>0.065423</td>\n",
       "      <td>0.066232</td>\n",
       "      <td>0.065195</td>\n",
       "      <td>0.051173</td>\n",
       "      <td>0</td>\n",
       "    </tr>\n",
       "    <tr>\n",
       "      <th>1</th>\n",
       "      <td>0.057899</td>\n",
       "      <td>0.065381</td>\n",
       "      <td>0.071612</td>\n",
       "      <td>0.074996</td>\n",
       "      <td>0.089329</td>\n",
       "      <td>0.083485</td>\n",
       "      <td>0.053914</td>\n",
       "      <td>0.039144</td>\n",
       "      <td>0.040692</td>\n",
       "      <td>0.030953</td>\n",
       "      <td>...</td>\n",
       "      <td>0.437690</td>\n",
       "      <td>0.451191</td>\n",
       "      <td>0.432133</td>\n",
       "      <td>0.358773</td>\n",
       "      <td>0.374072</td>\n",
       "      <td>0.346017</td>\n",
       "      <td>0.329312</td>\n",
       "      <td>0.342237</td>\n",
       "      <td>0.313290</td>\n",
       "      <td>1</td>\n",
       "    </tr>\n",
       "    <tr>\n",
       "      <th>2</th>\n",
       "      <td>0.261432</td>\n",
       "      <td>0.314994</td>\n",
       "      <td>0.335895</td>\n",
       "      <td>0.503127</td>\n",
       "      <td>0.900586</td>\n",
       "      <td>0.986400</td>\n",
       "      <td>0.980522</td>\n",
       "      <td>0.627758</td>\n",
       "      <td>0.556900</td>\n",
       "      <td>0.753651</td>\n",
       "      <td>...</td>\n",
       "      <td>1.098298</td>\n",
       "      <td>1.300588</td>\n",
       "      <td>1.303656</td>\n",
       "      <td>1.149473</td>\n",
       "      <td>1.153794</td>\n",
       "      <td>1.292521</td>\n",
       "      <td>1.254695</td>\n",
       "      <td>0.721144</td>\n",
       "      <td>0.942372</td>\n",
       "      <td>1</td>\n",
       "    </tr>\n",
       "    <tr>\n",
       "      <th>3</th>\n",
       "      <td>1.292142</td>\n",
       "      <td>1.279439</td>\n",
       "      <td>1.241022</td>\n",
       "      <td>1.602959</td>\n",
       "      <td>1.501136</td>\n",
       "      <td>1.547422</td>\n",
       "      <td>1.321715</td>\n",
       "      <td>1.082633</td>\n",
       "      <td>1.052799</td>\n",
       "      <td>1.027049</td>\n",
       "      <td>...</td>\n",
       "      <td>0.064869</td>\n",
       "      <td>0.049882</td>\n",
       "      <td>0.050507</td>\n",
       "      <td>0.063416</td>\n",
       "      <td>0.094414</td>\n",
       "      <td>0.091401</td>\n",
       "      <td>0.075952</td>\n",
       "      <td>0.092999</td>\n",
       "      <td>0.069195</td>\n",
       "      <td>0</td>\n",
       "    </tr>\n",
       "    <tr>\n",
       "      <th>4</th>\n",
       "      <td>0.072306</td>\n",
       "      <td>0.064582</td>\n",
       "      <td>0.047139</td>\n",
       "      <td>0.055889</td>\n",
       "      <td>0.038526</td>\n",
       "      <td>0.042790</td>\n",
       "      <td>0.032053</td>\n",
       "      <td>0.040335</td>\n",
       "      <td>0.040471</td>\n",
       "      <td>0.036346</td>\n",
       "      <td>...</td>\n",
       "      <td>0.105382</td>\n",
       "      <td>0.098587</td>\n",
       "      <td>0.075462</td>\n",
       "      <td>0.104451</td>\n",
       "      <td>0.111964</td>\n",
       "      <td>0.117516</td>\n",
       "      <td>0.104060</td>\n",
       "      <td>0.086955</td>\n",
       "      <td>0.134245</td>\n",
       "      <td>1</td>\n",
       "    </tr>\n",
       "    <tr>\n",
       "      <th>...</th>\n",
       "      <td>...</td>\n",
       "      <td>...</td>\n",
       "      <td>...</td>\n",
       "      <td>...</td>\n",
       "      <td>...</td>\n",
       "      <td>...</td>\n",
       "      <td>...</td>\n",
       "      <td>...</td>\n",
       "      <td>...</td>\n",
       "      <td>...</td>\n",
       "      <td>...</td>\n",
       "      <td>...</td>\n",
       "      <td>...</td>\n",
       "      <td>...</td>\n",
       "      <td>...</td>\n",
       "      <td>...</td>\n",
       "      <td>...</td>\n",
       "      <td>...</td>\n",
       "      <td>...</td>\n",
       "      <td>...</td>\n",
       "      <td>...</td>\n",
       "    </tr>\n",
       "    <tr>\n",
       "      <th>1795</th>\n",
       "      <td>0.050178</td>\n",
       "      <td>0.059373</td>\n",
       "      <td>0.070573</td>\n",
       "      <td>0.061751</td>\n",
       "      <td>0.073467</td>\n",
       "      <td>0.084725</td>\n",
       "      <td>0.095542</td>\n",
       "      <td>0.079884</td>\n",
       "      <td>0.060261</td>\n",
       "      <td>0.051440</td>\n",
       "      <td>...</td>\n",
       "      <td>0.042096</td>\n",
       "      <td>0.029991</td>\n",
       "      <td>0.036869</td>\n",
       "      <td>0.051091</td>\n",
       "      <td>0.050225</td>\n",
       "      <td>0.046252</td>\n",
       "      <td>0.043208</td>\n",
       "      <td>0.037943</td>\n",
       "      <td>0.030940</td>\n",
       "      <td>0</td>\n",
       "    </tr>\n",
       "    <tr>\n",
       "      <th>1796</th>\n",
       "      <td>0.025610</td>\n",
       "      <td>0.048762</td>\n",
       "      <td>0.044738</td>\n",
       "      <td>0.073016</td>\n",
       "      <td>0.072641</td>\n",
       "      <td>0.055691</td>\n",
       "      <td>0.072215</td>\n",
       "      <td>0.119277</td>\n",
       "      <td>0.106216</td>\n",
       "      <td>0.105193</td>\n",
       "      <td>...</td>\n",
       "      <td>0.073034</td>\n",
       "      <td>0.070488</td>\n",
       "      <td>0.070851</td>\n",
       "      <td>0.065779</td>\n",
       "      <td>0.069810</td>\n",
       "      <td>0.079705</td>\n",
       "      <td>0.089808</td>\n",
       "      <td>0.093569</td>\n",
       "      <td>0.065901</td>\n",
       "      <td>0</td>\n",
       "    </tr>\n",
       "    <tr>\n",
       "      <th>1797</th>\n",
       "      <td>0.051544</td>\n",
       "      <td>0.062285</td>\n",
       "      <td>0.045714</td>\n",
       "      <td>0.036734</td>\n",
       "      <td>0.053487</td>\n",
       "      <td>0.052140</td>\n",
       "      <td>0.047668</td>\n",
       "      <td>0.048065</td>\n",
       "      <td>0.042902</td>\n",
       "      <td>0.053016</td>\n",
       "      <td>...</td>\n",
       "      <td>0.035172</td>\n",
       "      <td>0.045439</td>\n",
       "      <td>0.035914</td>\n",
       "      <td>0.040348</td>\n",
       "      <td>0.038591</td>\n",
       "      <td>0.044373</td>\n",
       "      <td>0.055059</td>\n",
       "      <td>0.043246</td>\n",
       "      <td>0.043858</td>\n",
       "      <td>0</td>\n",
       "    </tr>\n",
       "    <tr>\n",
       "      <th>1798</th>\n",
       "      <td>0.046658</td>\n",
       "      <td>0.041885</td>\n",
       "      <td>0.051654</td>\n",
       "      <td>0.057801</td>\n",
       "      <td>0.052525</td>\n",
       "      <td>0.088456</td>\n",
       "      <td>0.095103</td>\n",
       "      <td>0.077858</td>\n",
       "      <td>0.071627</td>\n",
       "      <td>0.056934</td>\n",
       "      <td>...</td>\n",
       "      <td>0.030728</td>\n",
       "      <td>0.030415</td>\n",
       "      <td>0.033288</td>\n",
       "      <td>0.032904</td>\n",
       "      <td>0.037700</td>\n",
       "      <td>0.031231</td>\n",
       "      <td>0.029702</td>\n",
       "      <td>0.043416</td>\n",
       "      <td>0.066493</td>\n",
       "      <td>0</td>\n",
       "    </tr>\n",
       "    <tr>\n",
       "      <th>1799</th>\n",
       "      <td>0.053135</td>\n",
       "      <td>0.073055</td>\n",
       "      <td>0.077383</td>\n",
       "      <td>0.068292</td>\n",
       "      <td>0.085696</td>\n",
       "      <td>0.103009</td>\n",
       "      <td>0.118814</td>\n",
       "      <td>0.102013</td>\n",
       "      <td>0.067066</td>\n",
       "      <td>0.051331</td>\n",
       "      <td>...</td>\n",
       "      <td>0.093988</td>\n",
       "      <td>0.148129</td>\n",
       "      <td>0.189505</td>\n",
       "      <td>0.127610</td>\n",
       "      <td>0.132070</td>\n",
       "      <td>0.163446</td>\n",
       "      <td>0.175339</td>\n",
       "      <td>0.139797</td>\n",
       "      <td>0.156158</td>\n",
       "      <td>0</td>\n",
       "    </tr>\n",
       "  </tbody>\n",
       "</table>\n",
       "<p>1800 rows × 101 columns</p>\n",
       "</div>"
      ],
      "text/plain": [
       "           t_0       t_1       t_2       t_3       t_4       t_5       t_6  \\\n",
       "0     1.000000  0.975000  0.910019  0.676438  0.614820  0.579506  0.477794   \n",
       "1     0.057899  0.065381  0.071612  0.074996  0.089329  0.083485  0.053914   \n",
       "2     0.261432  0.314994  0.335895  0.503127  0.900586  0.986400  0.980522   \n",
       "3     1.292142  1.279439  1.241022  1.602959  1.501136  1.547422  1.321715   \n",
       "4     0.072306  0.064582  0.047139  0.055889  0.038526  0.042790  0.032053   \n",
       "...        ...       ...       ...       ...       ...       ...       ...   \n",
       "1795  0.050178  0.059373  0.070573  0.061751  0.073467  0.084725  0.095542   \n",
       "1796  0.025610  0.048762  0.044738  0.073016  0.072641  0.055691  0.072215   \n",
       "1797  0.051544  0.062285  0.045714  0.036734  0.053487  0.052140  0.047668   \n",
       "1798  0.046658  0.041885  0.051654  0.057801  0.052525  0.088456  0.095103   \n",
       "1799  0.053135  0.073055  0.077383  0.068292  0.085696  0.103009  0.118814   \n",
       "\n",
       "           t_7       t_8       t_9  ...      t_91      t_92      t_93  \\\n",
       "0     0.431486  0.460110  0.390031  ...  0.049888  0.048055  0.065509   \n",
       "1     0.039144  0.040692  0.030953  ...  0.437690  0.451191  0.432133   \n",
       "2     0.627758  0.556900  0.753651  ...  1.098298  1.300588  1.303656   \n",
       "3     1.082633  1.052799  1.027049  ...  0.064869  0.049882  0.050507   \n",
       "4     0.040335  0.040471  0.036346  ...  0.105382  0.098587  0.075462   \n",
       "...        ...       ...       ...  ...       ...       ...       ...   \n",
       "1795  0.079884  0.060261  0.051440  ...  0.042096  0.029991  0.036869   \n",
       "1796  0.119277  0.106216  0.105193  ...  0.073034  0.070488  0.070851   \n",
       "1797  0.048065  0.042902  0.053016  ...  0.035172  0.045439  0.035914   \n",
       "1798  0.077858  0.071627  0.056934  ...  0.030728  0.030415  0.033288   \n",
       "1799  0.102013  0.067066  0.051331  ...  0.093988  0.148129  0.189505   \n",
       "\n",
       "          t_94      t_95      t_96      t_97      t_98      t_99  future_flare  \n",
       "0     0.038221  0.045773  0.065423  0.066232  0.065195  0.051173             0  \n",
       "1     0.358773  0.374072  0.346017  0.329312  0.342237  0.313290             1  \n",
       "2     1.149473  1.153794  1.292521  1.254695  0.721144  0.942372             1  \n",
       "3     0.063416  0.094414  0.091401  0.075952  0.092999  0.069195             0  \n",
       "4     0.104451  0.111964  0.117516  0.104060  0.086955  0.134245             1  \n",
       "...        ...       ...       ...       ...       ...       ...           ...  \n",
       "1795  0.051091  0.050225  0.046252  0.043208  0.037943  0.030940             0  \n",
       "1796  0.065779  0.069810  0.079705  0.089808  0.093569  0.065901             0  \n",
       "1797  0.040348  0.038591  0.044373  0.055059  0.043246  0.043858             0  \n",
       "1798  0.032904  0.037700  0.031231  0.029702  0.043416  0.066493             0  \n",
       "1799  0.127610  0.132070  0.163446  0.175339  0.139797  0.156158             0  \n",
       "\n",
       "[1800 rows x 101 columns]"
      ]
     },
     "execution_count": 6,
     "metadata": {},
     "output_type": "execute_result"
    }
   ],
   "source": [
    "df_val"
   ]
  },
  {
   "cell_type": "code",
   "execution_count": 7,
   "metadata": {},
   "outputs": [
    {
     "data": {
      "text/html": [
       "<div>\n",
       "<style scoped>\n",
       "    .dataframe tbody tr th:only-of-type {\n",
       "        vertical-align: middle;\n",
       "    }\n",
       "\n",
       "    .dataframe tbody tr th {\n",
       "        vertical-align: top;\n",
       "    }\n",
       "\n",
       "    .dataframe thead th {\n",
       "        text-align: right;\n",
       "    }\n",
       "</style>\n",
       "<table border=\"1\" class=\"dataframe\">\n",
       "  <thead>\n",
       "    <tr style=\"text-align: right;\">\n",
       "      <th></th>\n",
       "      <th>t_0</th>\n",
       "      <th>t_1</th>\n",
       "      <th>t_2</th>\n",
       "      <th>t_3</th>\n",
       "      <th>t_4</th>\n",
       "      <th>t_5</th>\n",
       "      <th>t_6</th>\n",
       "      <th>t_7</th>\n",
       "      <th>t_8</th>\n",
       "      <th>t_9</th>\n",
       "      <th>...</th>\n",
       "      <th>t_91</th>\n",
       "      <th>t_92</th>\n",
       "      <th>t_93</th>\n",
       "      <th>t_94</th>\n",
       "      <th>t_95</th>\n",
       "      <th>t_96</th>\n",
       "      <th>t_97</th>\n",
       "      <th>t_98</th>\n",
       "      <th>t_99</th>\n",
       "      <th>future_flare</th>\n",
       "    </tr>\n",
       "  </thead>\n",
       "  <tbody>\n",
       "    <tr>\n",
       "      <th>0</th>\n",
       "      <td>1.000000</td>\n",
       "      <td>0.975000</td>\n",
       "      <td>1.136066</td>\n",
       "      <td>1.355935</td>\n",
       "      <td>0.902577</td>\n",
       "      <td>1.159450</td>\n",
       "      <td>1.588770</td>\n",
       "      <td>1.270311</td>\n",
       "      <td>1.152838</td>\n",
       "      <td>1.033070</td>\n",
       "      <td>...</td>\n",
       "      <td>1.594065</td>\n",
       "      <td>1.935965</td>\n",
       "      <td>1.857650</td>\n",
       "      <td>1.746675</td>\n",
       "      <td>1.364483</td>\n",
       "      <td>1.340700</td>\n",
       "      <td>1.477525</td>\n",
       "      <td>1.538220</td>\n",
       "      <td>1.445781</td>\n",
       "      <td>1</td>\n",
       "    </tr>\n",
       "    <tr>\n",
       "      <th>1</th>\n",
       "      <td>1.190511</td>\n",
       "      <td>0.995372</td>\n",
       "      <td>0.743651</td>\n",
       "      <td>0.715531</td>\n",
       "      <td>0.486729</td>\n",
       "      <td>0.587928</td>\n",
       "      <td>0.477054</td>\n",
       "      <td>0.630427</td>\n",
       "      <td>0.882465</td>\n",
       "      <td>1.046006</td>\n",
       "      <td>...</td>\n",
       "      <td>10.349094</td>\n",
       "      <td>7.139540</td>\n",
       "      <td>6.255424</td>\n",
       "      <td>3.838026</td>\n",
       "      <td>4.195385</td>\n",
       "      <td>5.620070</td>\n",
       "      <td>5.540732</td>\n",
       "      <td>4.487938</td>\n",
       "      <td>4.888735</td>\n",
       "      <td>1</td>\n",
       "    </tr>\n",
       "    <tr>\n",
       "      <th>2</th>\n",
       "      <td>4.443912</td>\n",
       "      <td>2.538261</td>\n",
       "      <td>2.420874</td>\n",
       "      <td>2.442260</td>\n",
       "      <td>2.414107</td>\n",
       "      <td>1.980401</td>\n",
       "      <td>1.394704</td>\n",
       "      <td>1.431673</td>\n",
       "      <td>1.347288</td>\n",
       "      <td>1.554923</td>\n",
       "      <td>...</td>\n",
       "      <td>0.075640</td>\n",
       "      <td>0.059306</td>\n",
       "      <td>0.044836</td>\n",
       "      <td>0.064486</td>\n",
       "      <td>0.073816</td>\n",
       "      <td>0.065052</td>\n",
       "      <td>0.052840</td>\n",
       "      <td>0.069500</td>\n",
       "      <td>0.072190</td>\n",
       "      <td>0</td>\n",
       "    </tr>\n",
       "    <tr>\n",
       "      <th>3</th>\n",
       "      <td>0.097886</td>\n",
       "      <td>0.108784</td>\n",
       "      <td>0.103992</td>\n",
       "      <td>0.084788</td>\n",
       "      <td>0.072219</td>\n",
       "      <td>0.092133</td>\n",
       "      <td>0.060435</td>\n",
       "      <td>0.068325</td>\n",
       "      <td>0.052513</td>\n",
       "      <td>0.045056</td>\n",
       "      <td>...</td>\n",
       "      <td>0.037423</td>\n",
       "      <td>0.038280</td>\n",
       "      <td>0.045276</td>\n",
       "      <td>0.060368</td>\n",
       "      <td>0.062827</td>\n",
       "      <td>0.066282</td>\n",
       "      <td>0.093729</td>\n",
       "      <td>0.078098</td>\n",
       "      <td>0.079507</td>\n",
       "      <td>0</td>\n",
       "    </tr>\n",
       "    <tr>\n",
       "      <th>4</th>\n",
       "      <td>0.072212</td>\n",
       "      <td>0.081210</td>\n",
       "      <td>0.071054</td>\n",
       "      <td>0.074997</td>\n",
       "      <td>0.071082</td>\n",
       "      <td>0.093991</td>\n",
       "      <td>0.104283</td>\n",
       "      <td>0.096287</td>\n",
       "      <td>0.127628</td>\n",
       "      <td>0.155636</td>\n",
       "      <td>...</td>\n",
       "      <td>0.244434</td>\n",
       "      <td>0.246767</td>\n",
       "      <td>0.310468</td>\n",
       "      <td>0.307184</td>\n",
       "      <td>0.278527</td>\n",
       "      <td>0.274819</td>\n",
       "      <td>0.320453</td>\n",
       "      <td>0.431115</td>\n",
       "      <td>0.420734</td>\n",
       "      <td>1</td>\n",
       "    </tr>\n",
       "    <tr>\n",
       "      <th>...</th>\n",
       "      <td>...</td>\n",
       "      <td>...</td>\n",
       "      <td>...</td>\n",
       "      <td>...</td>\n",
       "      <td>...</td>\n",
       "      <td>...</td>\n",
       "      <td>...</td>\n",
       "      <td>...</td>\n",
       "      <td>...</td>\n",
       "      <td>...</td>\n",
       "      <td>...</td>\n",
       "      <td>...</td>\n",
       "      <td>...</td>\n",
       "      <td>...</td>\n",
       "      <td>...</td>\n",
       "      <td>...</td>\n",
       "      <td>...</td>\n",
       "      <td>...</td>\n",
       "      <td>...</td>\n",
       "      <td>...</td>\n",
       "      <td>...</td>\n",
       "    </tr>\n",
       "    <tr>\n",
       "      <th>1795</th>\n",
       "      <td>0.046822</td>\n",
       "      <td>0.056508</td>\n",
       "      <td>0.050810</td>\n",
       "      <td>0.047033</td>\n",
       "      <td>0.048166</td>\n",
       "      <td>0.057849</td>\n",
       "      <td>0.059350</td>\n",
       "      <td>0.069462</td>\n",
       "      <td>0.070214</td>\n",
       "      <td>0.069295</td>\n",
       "      <td>...</td>\n",
       "      <td>0.240207</td>\n",
       "      <td>0.212689</td>\n",
       "      <td>0.337337</td>\n",
       "      <td>0.296125</td>\n",
       "      <td>0.252650</td>\n",
       "      <td>0.241877</td>\n",
       "      <td>0.216817</td>\n",
       "      <td>0.263979</td>\n",
       "      <td>0.311165</td>\n",
       "      <td>0</td>\n",
       "    </tr>\n",
       "    <tr>\n",
       "      <th>1796</th>\n",
       "      <td>0.290904</td>\n",
       "      <td>0.273074</td>\n",
       "      <td>0.243153</td>\n",
       "      <td>0.265574</td>\n",
       "      <td>0.304029</td>\n",
       "      <td>0.330552</td>\n",
       "      <td>0.278046</td>\n",
       "      <td>0.204328</td>\n",
       "      <td>0.177124</td>\n",
       "      <td>0.118847</td>\n",
       "      <td>...</td>\n",
       "      <td>0.433658</td>\n",
       "      <td>0.408397</td>\n",
       "      <td>0.481602</td>\n",
       "      <td>0.443134</td>\n",
       "      <td>0.515456</td>\n",
       "      <td>0.640585</td>\n",
       "      <td>0.596393</td>\n",
       "      <td>0.497651</td>\n",
       "      <td>0.451846</td>\n",
       "      <td>0</td>\n",
       "    </tr>\n",
       "    <tr>\n",
       "      <th>1797</th>\n",
       "      <td>0.528299</td>\n",
       "      <td>0.612005</td>\n",
       "      <td>0.719523</td>\n",
       "      <td>0.726010</td>\n",
       "      <td>0.910680</td>\n",
       "      <td>0.871442</td>\n",
       "      <td>0.780425</td>\n",
       "      <td>0.518017</td>\n",
       "      <td>0.534429</td>\n",
       "      <td>0.517841</td>\n",
       "      <td>...</td>\n",
       "      <td>0.028357</td>\n",
       "      <td>0.020717</td>\n",
       "      <td>0.015206</td>\n",
       "      <td>0.022709</td>\n",
       "      <td>0.033863</td>\n",
       "      <td>0.032191</td>\n",
       "      <td>0.039301</td>\n",
       "      <td>0.028970</td>\n",
       "      <td>0.025797</td>\n",
       "      <td>1</td>\n",
       "    </tr>\n",
       "    <tr>\n",
       "      <th>1798</th>\n",
       "      <td>0.034187</td>\n",
       "      <td>0.033451</td>\n",
       "      <td>0.041974</td>\n",
       "      <td>0.048059</td>\n",
       "      <td>0.049261</td>\n",
       "      <td>0.050354</td>\n",
       "      <td>0.047208</td>\n",
       "      <td>0.057370</td>\n",
       "      <td>0.058937</td>\n",
       "      <td>0.058662</td>\n",
       "      <td>...</td>\n",
       "      <td>1.188446</td>\n",
       "      <td>0.914749</td>\n",
       "      <td>0.878636</td>\n",
       "      <td>1.033430</td>\n",
       "      <td>1.465295</td>\n",
       "      <td>1.367177</td>\n",
       "      <td>2.070074</td>\n",
       "      <td>1.761440</td>\n",
       "      <td>1.640113</td>\n",
       "      <td>1</td>\n",
       "    </tr>\n",
       "    <tr>\n",
       "      <th>1799</th>\n",
       "      <td>1.608462</td>\n",
       "      <td>1.443011</td>\n",
       "      <td>1.506592</td>\n",
       "      <td>1.875968</td>\n",
       "      <td>2.128250</td>\n",
       "      <td>2.745154</td>\n",
       "      <td>1.891145</td>\n",
       "      <td>2.323517</td>\n",
       "      <td>2.266072</td>\n",
       "      <td>2.018668</td>\n",
       "      <td>...</td>\n",
       "      <td>0.078699</td>\n",
       "      <td>0.099471</td>\n",
       "      <td>0.107089</td>\n",
       "      <td>0.123291</td>\n",
       "      <td>0.142137</td>\n",
       "      <td>0.161681</td>\n",
       "      <td>0.155380</td>\n",
       "      <td>0.157112</td>\n",
       "      <td>0.157503</td>\n",
       "      <td>0</td>\n",
       "    </tr>\n",
       "  </tbody>\n",
       "</table>\n",
       "<p>1800 rows × 101 columns</p>\n",
       "</div>"
      ],
      "text/plain": [
       "           t_0       t_1       t_2       t_3       t_4       t_5       t_6  \\\n",
       "0     1.000000  0.975000  1.136066  1.355935  0.902577  1.159450  1.588770   \n",
       "1     1.190511  0.995372  0.743651  0.715531  0.486729  0.587928  0.477054   \n",
       "2     4.443912  2.538261  2.420874  2.442260  2.414107  1.980401  1.394704   \n",
       "3     0.097886  0.108784  0.103992  0.084788  0.072219  0.092133  0.060435   \n",
       "4     0.072212  0.081210  0.071054  0.074997  0.071082  0.093991  0.104283   \n",
       "...        ...       ...       ...       ...       ...       ...       ...   \n",
       "1795  0.046822  0.056508  0.050810  0.047033  0.048166  0.057849  0.059350   \n",
       "1796  0.290904  0.273074  0.243153  0.265574  0.304029  0.330552  0.278046   \n",
       "1797  0.528299  0.612005  0.719523  0.726010  0.910680  0.871442  0.780425   \n",
       "1798  0.034187  0.033451  0.041974  0.048059  0.049261  0.050354  0.047208   \n",
       "1799  1.608462  1.443011  1.506592  1.875968  2.128250  2.745154  1.891145   \n",
       "\n",
       "           t_7       t_8       t_9  ...       t_91      t_92      t_93  \\\n",
       "0     1.270311  1.152838  1.033070  ...   1.594065  1.935965  1.857650   \n",
       "1     0.630427  0.882465  1.046006  ...  10.349094  7.139540  6.255424   \n",
       "2     1.431673  1.347288  1.554923  ...   0.075640  0.059306  0.044836   \n",
       "3     0.068325  0.052513  0.045056  ...   0.037423  0.038280  0.045276   \n",
       "4     0.096287  0.127628  0.155636  ...   0.244434  0.246767  0.310468   \n",
       "...        ...       ...       ...  ...        ...       ...       ...   \n",
       "1795  0.069462  0.070214  0.069295  ...   0.240207  0.212689  0.337337   \n",
       "1796  0.204328  0.177124  0.118847  ...   0.433658  0.408397  0.481602   \n",
       "1797  0.518017  0.534429  0.517841  ...   0.028357  0.020717  0.015206   \n",
       "1798  0.057370  0.058937  0.058662  ...   1.188446  0.914749  0.878636   \n",
       "1799  2.323517  2.266072  2.018668  ...   0.078699  0.099471  0.107089   \n",
       "\n",
       "          t_94      t_95      t_96      t_97      t_98      t_99  future_flare  \n",
       "0     1.746675  1.364483  1.340700  1.477525  1.538220  1.445781             1  \n",
       "1     3.838026  4.195385  5.620070  5.540732  4.487938  4.888735             1  \n",
       "2     0.064486  0.073816  0.065052  0.052840  0.069500  0.072190             0  \n",
       "3     0.060368  0.062827  0.066282  0.093729  0.078098  0.079507             0  \n",
       "4     0.307184  0.278527  0.274819  0.320453  0.431115  0.420734             1  \n",
       "...        ...       ...       ...       ...       ...       ...           ...  \n",
       "1795  0.296125  0.252650  0.241877  0.216817  0.263979  0.311165             0  \n",
       "1796  0.443134  0.515456  0.640585  0.596393  0.497651  0.451846             0  \n",
       "1797  0.022709  0.033863  0.032191  0.039301  0.028970  0.025797             1  \n",
       "1798  1.033430  1.465295  1.367177  2.070074  1.761440  1.640113             1  \n",
       "1799  0.123291  0.142137  0.161681  0.155380  0.157112  0.157503             0  \n",
       "\n",
       "[1800 rows x 101 columns]"
      ]
     },
     "execution_count": 7,
     "metadata": {},
     "output_type": "execute_result"
    }
   ],
   "source": [
    "df_test"
   ]
  },
  {
   "cell_type": "code",
   "execution_count": 8,
   "metadata": {},
   "outputs": [
    {
     "data": {
      "text/plain": [
       "0    4459\n",
       "1     941\n",
       "Name: future_flare, dtype: int64"
      ]
     },
     "execution_count": 8,
     "metadata": {},
     "output_type": "execute_result"
    }
   ],
   "source": [
    "train_counts = df_train['future_flare'].value_counts()\n",
    "train_counts"
   ]
  },
  {
   "cell_type": "code",
   "execution_count": 9,
   "metadata": {},
   "outputs": [
    {
     "data": {
      "text/plain": [
       "0    1507\n",
       "1     293\n",
       "Name: future_flare, dtype: int64"
      ]
     },
     "execution_count": 9,
     "metadata": {},
     "output_type": "execute_result"
    }
   ],
   "source": [
    "val_counts = df_val['future_flare'].value_counts()\n",
    "val_counts"
   ]
  },
  {
   "cell_type": "code",
   "execution_count": 10,
   "metadata": {},
   "outputs": [
    {
     "data": {
      "text/plain": [
       "0    1489\n",
       "1     311\n",
       "Name: future_flare, dtype: int64"
      ]
     },
     "execution_count": 10,
     "metadata": {},
     "output_type": "execute_result"
    }
   ],
   "source": [
    "test_counts = df_test['future_flare'].value_counts()\n",
    "test_counts"
   ]
  },
  {
   "cell_type": "code",
   "execution_count": 11,
   "metadata": {},
   "outputs": [
    {
     "data": {
      "text/plain": [
       "0    7455\n",
       "1    1545\n",
       "Name: future_flare, dtype: int64"
      ]
     },
     "execution_count": 11,
     "metadata": {},
     "output_type": "execute_result"
    }
   ],
   "source": [
    "total_counts = train_counts.add(val_counts).add(test_counts)\n",
    "total_counts"
   ]
  },
  {
   "cell_type": "code",
   "execution_count": 12,
   "metadata": {},
   "outputs": [
    {
     "name": "stdout",
     "output_type": "stream",
     "text": [
      "(5400, 100) (1800, 100) (1800, 100) (9000, 100)\n",
      "(5400,) (1800,) (1800,) (9000,)\n"
     ]
    }
   ],
   "source": [
    "X_train, y_train = df_train.iloc[:,:-1].to_numpy(), df_train.future_flare.to_numpy()\n",
    "X_val, y_val = df_val.iloc[:,:-1].to_numpy(), df_val.future_flare.to_numpy()\n",
    "X_test, y_test = df_test.iloc[:,:-1].to_numpy(), df_test.future_flare.to_numpy()\n",
    "X = np.vstack((X_train, X_val, X_test))\n",
    "y = np.hstack((y_train, y_val, y_test))\n",
    "print(X_train.shape, X_val.shape, X_test.shape, X.shape)\n",
    "print(y_train.shape, y_val.shape, y_test.shape, y.shape)"
   ]
  },
  {
   "cell_type": "markdown",
   "metadata": {
    "id": "10f6eWyl-Kq1"
   },
   "source": [
    "## Models"
   ]
  },
  {
   "cell_type": "markdown",
   "metadata": {
    "id": "xCcYSR-z-M3Q"
   },
   "source": [
    "### Simple models"
   ]
  },
  {
   "cell_type": "code",
   "execution_count": null,
   "metadata": {
    "id": "C__AnjSy_FFD"
   },
   "outputs": [],
   "source": [
    "class_weights = {0: 1, 1: 5}"
   ]
  },
  {
   "cell_type": "code",
   "execution_count": null,
   "metadata": {
    "id": "Nbxqjb4A-crf"
   },
   "outputs": [],
   "source": [
    "# TO DO: valutare se spostare queste funzioni nella libreria, e se tenere solo alcuni di questi modelli (i.e. quelli le cui predizioni probabilistiche non sono 1/0)"
   ]
  },
  {
   "cell_type": "code",
   "execution_count": null,
   "metadata": {
    "id": "eXHGzVqM9Mfu"
   },
   "outputs": [],
   "source": [
    "def train_classifier(X_train, y_train, class_weights):\n",
    "\n",
    "    model_svc = SVC(class_weight= class_weights, probability=True).fit(X_train, y_train)\n",
    "    model_rf = RandomForestClassifier(class_weight= class_weights).fit(X_train, y_train)\n",
    "    model_nb = GaussianNB().fit(X_train, y_train)\n",
    "    model_lr = LogisticRegression(class_weight= class_weights).fit(X_train, y_train)\n",
    "    model_knn = KNeighborsClassifier().fit(X_train, y_train)\n",
    "\n",
    "    return model_svc, model_rf, model_nb, model_lr, model_knn"
   ]
  },
  {
   "cell_type": "code",
   "execution_count": null,
   "metadata": {
    "id": "VCVs6emL9Mfv"
   },
   "outputs": [],
   "source": [
    "def test_predictions(model_svc, model_rf, model_nb, model_lr, model_knn):\n",
    "\n",
    "    y_pred_svc = model_svc.predict(X_test)\n",
    "    y_pred_rf = model_rf.predict(X_test)\n",
    "    y_pred_nb = model_nb.predict(X_test)\n",
    "    y_pred_lr = model_lr.predict(X_test)\n",
    "    y_pred_knn = model_knn.predict(X_test)\n",
    "\n",
    "    return y_pred_svc, y_pred_rf, y_pred_nb, y_pred_lr, y_pred_knn"
   ]
  },
  {
   "cell_type": "code",
   "execution_count": null,
   "metadata": {
    "id": "9jncHlme9Mfw"
   },
   "outputs": [],
   "source": [
    "def print_classification_reports(y_test, y_pred_svc, y_pred_rf, y_pred_nb, y_pred_lr, y_pred_knn):\n",
    "    \n",
    "    print(\"classification reports:\\n\")\n",
    "    print(\"SVC\\n\\n\")\n",
    "    print(classification_report(y_test, y_pred_svc))\n",
    "    report_svc = classification_report(y_test, y_pred_svc, output_dict=True)\n",
    "    print(\"\\nRANDOM FOREST\\n\\n\")\n",
    "    print(classification_report(y_test, y_pred_rf))\n",
    "    report_rf = classification_report(y_test, y_pred_rf, output_dict=True)\n",
    "    print(\"\\nNAIVE BAYES\\n\\n\")\n",
    "    print(classification_report(y_test, y_pred_nb))\n",
    "    report_nb = classification_report(y_test, y_pred_nb, output_dict=True)\n",
    "    print(\"\\nLOGISTIC REGRESSION\\n\\n\")\n",
    "    print(classification_report(y_test, y_pred_lr))\n",
    "    report_lr = classification_report(y_test, y_pred_lr, output_dict=True)\n",
    "    print(\"\\nKNN\\n\\n\")\n",
    "    print(classification_report(y_test, y_pred_knn))\n",
    "    report_knn = classification_report(y_test, y_pred_knn, output_dict=True)\n",
    "\n",
    "    return report_svc, report_rf, report_nb, report_lr, report_knn"
   ]
  },
  {
   "cell_type": "code",
   "execution_count": null,
   "metadata": {
    "id": "Q0bOzLA8-tKb"
   },
   "outputs": [],
   "source": [
    "def print_confusion_matrices(y_test, y_pred_svc, y_pred_rf, y_pred_nb, y_pred_lr, y_pred_knn):\n",
    "    \n",
    "    cm = []\n",
    "\n",
    "    print(\"classification reports:\\n\")\n",
    "    print(\"SVC\\n\\n\")\n",
    "    print(confusion_matrix(y_test, y_pred_svc))\n",
    "    cm.append(confusion_matrix(y_test, y_pred_svc))\n",
    "    print(\"\\nRANDOM FOREST\\n\\n\")\n",
    "    print(confusion_matrix(y_test, y_pred_rf))\n",
    "    cm.append(confusion_matrix(y_test, y_pred_rf))\n",
    "    print(\"\\nNAIVE BAYES\\n\\n\")\n",
    "    print(confusion_matrix(y_test, y_pred_nb))\n",
    "    cm.append(confusion_matrix(y_test, y_pred_nb))\n",
    "    print(\"\\nLOGISTIC REGRESSION\\n\\n\")\n",
    "    print(confusion_matrix(y_test, y_pred_lr))\n",
    "    cm.append(confusion_matrix(y_test, y_pred_lr))\n",
    "    print(\"\\nKNN\\n\\n\")\n",
    "    print(confusion_matrix(y_test, y_pred_knn))\n",
    "    cm.append(confusion_matrix(y_test, y_pred_knn))\n",
    "\n",
    "    return cm"
   ]
  },
  {
   "cell_type": "code",
   "execution_count": null,
   "metadata": {
    "id": "ghRNZOYX-vJn"
   },
   "outputs": [],
   "source": [
    "model_svc, model_rf, model_nb, model_lr, model_knn = train_classifier(X_train, y_train, class_weights)\n",
    "print(\"Probability prediction examples:\\n\")\n",
    "print(\"SVC\\n\\n\")\n",
    "print(model_svc.predict_proba(X_test))\n",
    "print(\"\\nRANDOM FOREST\\n\\n\")\n",
    "print(model_rf.predict_proba(X_test))\n",
    "print(\"\\nNAIVE BAYES\\n\\n\")\n",
    "print(model_nb.predict_proba(X_test))\n",
    "print(\"\\nLOGISTIC REGRESSION\\n\\n\")\n",
    "print(model_lr.predict_proba(X_test))\n",
    "print(\"\\nKNN\\n\\n\")\n",
    "print(model_knn.predict_proba(X_test))"
   ]
  },
  {
   "cell_type": "code",
   "execution_count": null,
   "metadata": {
    "id": "fCt1TzhS9Mfw"
   },
   "outputs": [],
   "source": [
    "y_pred_svc, y_pred_rf, y_pred_nb, y_pred_lr, y_pred_knn = test_predictions(model_svc, model_rf, model_nb, model_lr, model_knn)"
   ]
  },
  {
   "cell_type": "code",
   "execution_count": null,
   "metadata": {
    "id": "NS8cB63E9Mfx",
    "outputId": "84714991-2445-447c-d2d7-72f09b088e19"
   },
   "outputs": [
    {
     "name": "stdout",
     "output_type": "stream",
     "text": [
      "classification reports:\n",
      "\n",
      "SVC\n",
      "\n",
      "\n",
      "              precision    recall  f1-score   support\n",
      "\n",
      "           0       0.99      0.99      0.99       835\n",
      "           1       0.86      0.89      0.88        56\n",
      "\n",
      "    accuracy                           0.98       891\n",
      "   macro avg       0.93      0.94      0.93       891\n",
      "weighted avg       0.98      0.98      0.98       891\n",
      "\n",
      "\n",
      "RANDOM FOREST\n",
      "\n",
      "\n",
      "              precision    recall  f1-score   support\n",
      "\n",
      "           0       0.98      1.00      0.99       835\n",
      "           1       0.95      0.62      0.75        56\n",
      "\n",
      "    accuracy                           0.97       891\n",
      "   macro avg       0.96      0.81      0.87       891\n",
      "weighted avg       0.97      0.97      0.97       891\n",
      "\n",
      "\n",
      "NAIVE BAYES\n",
      "\n",
      "\n",
      "              precision    recall  f1-score   support\n",
      "\n",
      "           0       0.99      0.98      0.99       835\n",
      "           1       0.74      0.89      0.81        56\n",
      "\n",
      "    accuracy                           0.97       891\n",
      "   macro avg       0.86      0.94      0.90       891\n",
      "weighted avg       0.98      0.97      0.97       891\n",
      "\n",
      "\n",
      "LOGISTIC REGRESSION\n",
      "\n",
      "\n",
      "              precision    recall  f1-score   support\n",
      "\n",
      "           0       0.98      1.00      0.99       835\n",
      "           1       0.91      0.77      0.83        56\n",
      "\n",
      "    accuracy                           0.98       891\n",
      "   macro avg       0.95      0.88      0.91       891\n",
      "weighted avg       0.98      0.98      0.98       891\n",
      "\n",
      "\n",
      "KNN\n",
      "\n",
      "\n",
      "              precision    recall  f1-score   support\n",
      "\n",
      "           0       0.98      1.00      0.99       835\n",
      "           1       0.91      0.75      0.82        56\n",
      "\n",
      "    accuracy                           0.98       891\n",
      "   macro avg       0.95      0.87      0.91       891\n",
      "weighted avg       0.98      0.98      0.98       891\n",
      "\n"
     ]
    }
   ],
   "source": [
    "report_svc, report_rf, report_nb, report_lr, report_knn = print_classification_reports(y_test, y_pred_svc, y_pred_rf, y_pred_nb, y_pred_lr, y_pred_knn)"
   ]
  },
  {
   "cell_type": "code",
   "execution_count": null,
   "metadata": {
    "id": "Fd1OqVl99Mfz",
    "outputId": "4b3a2120-4896-438e-d978-79ffe7300b9d"
   },
   "outputs": [
    {
     "name": "stdout",
     "output_type": "stream",
     "text": [
      "classification reports:\n",
      "\n",
      "SVC\n",
      "\n",
      "\n",
      "[[827   8]\n",
      " [  6  50]]\n",
      "\n",
      "RANDOM FOREST\n",
      "\n",
      "\n",
      "[[833   2]\n",
      " [ 21  35]]\n",
      "\n",
      "NAIVE BAYES\n",
      "\n",
      "\n",
      "[[817  18]\n",
      " [  6  50]]\n",
      "\n",
      "LOGISTIC REGRESSION\n",
      "\n",
      "\n",
      "[[831   4]\n",
      " [ 13  43]]\n",
      "\n",
      "KNN\n",
      "\n",
      "\n",
      "[[831   4]\n",
      " [ 14  42]]\n"
     ]
    }
   ],
   "source": [
    "cm = print_confusion_matrices(y_test, y_pred_svc, y_pred_rf, y_pred_nb, y_pred_lr, y_pred_knn)"
   ]
  },
  {
   "cell_type": "markdown",
   "metadata": {},
   "source": [
    "### CNN"
   ]
  },
  {
   "cell_type": "markdown",
   "metadata": {
    "id": "sY415R-r-OkG"
   },
   "source": [
    "### LSTM"
   ]
  },
  {
   "cell_type": "markdown",
   "metadata": {},
   "source": [
    "For this test we attempted the following configuration\n",
    "```\n",
    "{'run': 100,\n",
    " 'sigma': [0.5],\n",
    " 'theta': [0.01],\n",
    " 'mu': [1],\n",
    " 'delta': [0.2],\n",
    " 'N': 1000}\n",
    "```"
   ]
  },
  {
   "cell_type": "code",
   "execution_count": null,
   "metadata": {},
   "outputs": [
    {
     "data": {
      "text/plain": [
       "{'run': 100,\n",
       " 'sigma': [0.5],\n",
       " 'theta': [0.01],\n",
       " 'mu': [1],\n",
       " 'delta': [0.2],\n",
       " 'N': 1000}"
      ]
     },
     "metadata": {},
     "output_type": "display_data"
    }
   ],
   "source": [
    "data_loader = ClassificationDataLoader(run=100, N=1000, s=0.5, t=0.01, d=0.2, m=1)\n",
    "params = data_loader.get_params()\n",
    "params"
   ]
  },
  {
   "cell_type": "code",
   "execution_count": null,
   "metadata": {},
   "outputs": [
    {
     "name": "stdout",
     "output_type": "stream",
     "text": [
      "Loading Data\n"
     ]
    },
    {
     "name": "stderr",
     "output_type": "stream",
     "text": [
      "100%|██████████| 100/100 [00:00<00:00, 322.71it/s]"
     ]
    },
    {
     "name": "stdout",
     "output_type": "stream",
     "text": [
      "Loading Labels\n",
      "Labels Loaded\n"
     ]
    },
    {
     "name": "stderr",
     "output_type": "stream",
     "text": [
      "\n"
     ]
    }
   ],
   "source": [
    "Xs, best_labels = data_loader.load_data(override=True)"
   ]
  },
  {
   "cell_type": "code",
   "execution_count": null,
   "metadata": {},
   "outputs": [],
   "source": [
    "bindexes = data_loader.get_standard_indexes()\n",
    "df_train,df_val,df_test = get_dataset_split(Xs, best_labels, bindexes, window_size=20, overlap_size=19,\n",
    "                                            label_treshold=1, split_on_run=True, shuffle_run=False, \n",
    "                                            shuffle_window=False, test_size = 0.3, val_size=0.2, \n",
    "                                            get_validation=True, random_state=42)"
   ]
  },
  {
   "cell_type": "code",
   "execution_count": null,
   "metadata": {},
   "outputs": [
    {
     "name": "stdout",
     "output_type": "stream",
     "text": [
      "Training set:\n",
      "0    43768\n",
      "1     4252\n",
      "Name: future_flare, dtype: int64 \n",
      "\n",
      "validation set:\n",
      "0    18233\n",
      "1     2347\n",
      "Name: future_flare, dtype: int64 \n",
      "\n",
      "Test set:\n",
      "0    26357\n",
      "1     3043\n",
      "Name: future_flare, dtype: int64 \n",
      "\n"
     ]
    }
   ],
   "source": [
    "# number of classes\n",
    "print('Training set:')\n",
    "print(df_train['future_flare'].value_counts(), '\\n')\n",
    "pos = df_train['future_flare'].value_counts()[0]\n",
    "true = df_train['future_flare'].value_counts()[1]\n",
    "print('validation set:')\n",
    "print(df_val['future_flare'].value_counts(), '\\n')\n",
    "print('Test set:')\n",
    "print(df_test['future_flare'].value_counts(), '\\n')"
   ]
  },
  {
   "cell_type": "code",
   "execution_count": null,
   "metadata": {},
   "outputs": [
    {
     "name": "stdout",
     "output_type": "stream",
     "text": [
      "X ## Train: (48020, 20) Val: (20580, 20) Test: (29400, 20)\n",
      "y ## Train: (48020,) Val: (20580,) Test: (29400,)\n"
     ]
    }
   ],
   "source": [
    "X_train, y_train = df_train.iloc[:,:-1].to_numpy(), df_train.future_flare.to_numpy()\n",
    "X_val, y_val = df_val.iloc[:,:-1].to_numpy(), df_val.future_flare.to_numpy()\n",
    "X_test, y_test = df_test.iloc[:,:-1].to_numpy(), df_test.future_flare.to_numpy()\n",
    "X = np.vstack((X_train, X_val, X_test))\n",
    "y = np.hstack((y_train, y_val, y_test))\n",
    "print('X ## Train:', X_train.shape, 'Val:', X_val.shape, 'Test:', X_test.shape)\n",
    "print('y ## Train:', y_train.shape, 'Val:', y_val.shape, 'Test:', y_test.shape)"
   ]
  },
  {
   "cell_type": "code",
   "execution_count": null,
   "metadata": {},
   "outputs": [
    {
     "name": "stderr",
     "output_type": "stream",
     "text": [
      "2023-03-11 16:40:53.192431: W tensorflow/compiler/xla/stream_executor/platform/default/dso_loader.cc:64] Could not load dynamic library 'libcuda.so.1'; dlerror: libcuda.so.1: cannot open shared object file: No such file or directory\n",
      "2023-03-11 16:40:53.192637: W tensorflow/compiler/xla/stream_executor/cuda/cuda_driver.cc:265] failed call to cuInit: UNKNOWN ERROR (303)\n",
      "2023-03-11 16:40:53.192689: I tensorflow/compiler/xla/stream_executor/cuda/cuda_diagnostics.cc:156] kernel driver does not appear to be running on this host (83dc2cdd3c94): /proc/driver/nvidia/version does not exist\n",
      "2023-03-11 16:40:53.193367: I tensorflow/core/platform/cpu_feature_guard.cc:193] This TensorFlow binary is optimized with oneAPI Deep Neural Network Library (oneDNN) to use the following CPU instructions in performance-critical operations:  AVX2 FMA\n",
      "To enable them in other operations, rebuild TensorFlow with the appropriate compiler flags.\n"
     ]
    },
    {
     "name": "stdout",
     "output_type": "stream",
     "text": [
      "Model: \"sequential\"\n",
      "_________________________________________________________________\n",
      " Layer (type)                Output Shape              Param #   \n",
      "=================================================================\n",
      " bidirectional (Bidirectiona  (None, 40)               3520      \n",
      " l)                                                              \n",
      "                                                                 \n",
      " dense (Dense)               (None, 30)                1230      \n",
      "                                                                 \n",
      " dense_1 (Dense)             (None, 10)                310       \n",
      "                                                                 \n",
      " dense_2 (Dense)             (None, 1)                 11        \n",
      "                                                                 \n",
      "=================================================================\n",
      "Total params: 5,071\n",
      "Trainable params: 5,071\n",
      "Non-trainable params: 0\n",
      "_________________________________________________________________\n",
      "None\n"
     ]
    }
   ],
   "source": [
    "initial_bias = Constant([np.log(true/pos)])\n",
    "# define model\n",
    "model = Sequential()\n",
    "model.add(Bidirectional(LSTM(20, activation='relu'), input_shape=(X_train.shape[1], 1)))\n",
    "model.add(Dense(30, activation='relu'))\n",
    "model.add(Dense(10, activation='relu'))\n",
    "model.add(Dense(1, activation='sigmoid',bias_initializer=initial_bias))\n",
    "model.compile(loss='binary_crossentropy', \n",
    "              optimizer='adam', \n",
    "              metrics=[f1_m, 'accuracy'])\n",
    "\n",
    "print(model.summary())"
   ]
  },
  {
   "cell_type": "code",
   "execution_count": null,
   "metadata": {},
   "outputs": [
    {
     "name": "stdout",
     "output_type": "stream",
     "text": [
      "Epoch 1/20\n",
      "WARNING:tensorflow:From /usr/local/lib/python3.8/site-packages/tensorflow/python/autograph/pyct/static_analysis/liveness.py:83: Analyzer.lamba_check (from tensorflow.python.autograph.pyct.static_analysis.liveness) is deprecated and will be removed after 2023-09-23.\n",
      "Instructions for updating:\n",
      "Lambda fuctions will be no more assumed to be used in the statement where they are used, or at least in the same block. https://github.com/tensorflow/tensorflow/issues/56089\n",
      "1501/1501 [==============================] - 37s 22ms/step - loss: 0.0517 - f1_m: 0.8051 - accuracy: 0.9811 - val_loss: 0.0219 - val_f1_m: 0.1485 - val_accuracy: 0.9926\n",
      "Epoch 2/20\n",
      "1501/1501 [==============================] - 48s 32ms/step - loss: 0.0277 - f1_m: 0.8642 - accuracy: 0.9883 - val_loss: 0.0182 - val_f1_m: 0.1450 - val_accuracy: 0.9934\n",
      "Epoch 3/20\n",
      "1501/1501 [==============================] - 44s 29ms/step - loss: 0.0254 - f1_m: 0.8643 - accuracy: 0.9893 - val_loss: 0.0196 - val_f1_m: 0.1477 - val_accuracy: 0.9926\n",
      "Epoch 4/20\n",
      "1501/1501 [==============================] - 41s 28ms/step - loss: 0.0240 - f1_m: 0.8847 - accuracy: 0.9900 - val_loss: 0.0211 - val_f1_m: 0.1450 - val_accuracy: 0.9917\n",
      "Epoch 5/20\n",
      "1501/1501 [==============================] - 37s 25ms/step - loss: 0.0217 - f1_m: 0.8854 - accuracy: 0.9907 - val_loss: 0.0142 - val_f1_m: 0.1474 - val_accuracy: 0.9945\n",
      "Epoch 6/20\n",
      "1501/1501 [==============================] - 39s 26ms/step - loss: 0.0197 - f1_m: 0.8947 - accuracy: 0.9916 - val_loss: 0.0163 - val_f1_m: 0.1483 - val_accuracy: 0.9937\n",
      "Epoch 7/20\n",
      "1501/1501 [==============================] - 44s 29ms/step - loss: 0.0173 - f1_m: 0.9071 - accuracy: 0.9931 - val_loss: 0.0120 - val_f1_m: 0.1505 - val_accuracy: 0.9954\n",
      "Epoch 8/20\n",
      "1501/1501 [==============================] - 46s 31ms/step - loss: 0.0156 - f1_m: 0.9076 - accuracy: 0.9937 - val_loss: 0.0105 - val_f1_m: 0.1502 - val_accuracy: 0.9963\n",
      "Epoch 9/20\n",
      "1501/1501 [==============================] - 39s 26ms/step - loss: 0.0143 - f1_m: 0.9182 - accuracy: 0.9946 - val_loss: 0.0095 - val_f1_m: 0.1513 - val_accuracy: 0.9967\n",
      "Epoch 10/20\n",
      "1501/1501 [==============================] - 38s 25ms/step - loss: 0.0124 - f1_m: 0.9158 - accuracy: 0.9952 - val_loss: 0.0158 - val_f1_m: 0.1502 - val_accuracy: 0.9932\n",
      "Epoch 11/20\n",
      "1501/1501 [==============================] - 38s 25ms/step - loss: 0.0127 - f1_m: 0.9207 - accuracy: 0.9947 - val_loss: 0.0083 - val_f1_m: 0.1513 - val_accuracy: 0.9970\n",
      "Epoch 12/20\n",
      "1501/1501 [==============================] - 43s 29ms/step - loss: 0.0116 - f1_m: 0.9208 - accuracy: 0.9953 - val_loss: 0.0104 - val_f1_m: 0.1511 - val_accuracy: 0.9961\n",
      "Epoch 13/20\n",
      "1501/1501 [==============================] - 40s 26ms/step - loss: 0.0109 - f1_m: 0.9161 - accuracy: 0.9957 - val_loss: 0.0152 - val_f1_m: 0.1507 - val_accuracy: 0.9944\n",
      "Epoch 14/20\n",
      "1501/1501 [==============================] - 39s 26ms/step - loss: 0.0110 - f1_m: 0.9237 - accuracy: 0.9959 - val_loss: 0.0078 - val_f1_m: 0.1520 - val_accuracy: 0.9975\n",
      "Epoch 15/20\n",
      "1501/1501 [==============================] - 43s 29ms/step - loss: 0.0102 - f1_m: 0.9215 - accuracy: 0.9960 - val_loss: 0.0074 - val_f1_m: 0.1520 - val_accuracy: 0.9974\n",
      "Epoch 16/20\n",
      "1501/1501 [==============================] - 41s 27ms/step - loss: 0.0102 - f1_m: 0.9358 - accuracy: 0.9963 - val_loss: 0.0077 - val_f1_m: 0.1511 - val_accuracy: 0.9970\n",
      "Epoch 17/20\n",
      "1501/1501 [==============================] - 43s 29ms/step - loss: 0.0094 - f1_m: 0.9317 - accuracy: 0.9965 - val_loss: 0.0096 - val_f1_m: 0.1517 - val_accuracy: 0.9960\n",
      "Epoch 18/20\n",
      "1501/1501 [==============================] - 41s 27ms/step - loss: 0.0092 - f1_m: 0.9289 - accuracy: 0.9965 - val_loss: 0.0068 - val_f1_m: 0.1516 - val_accuracy: 0.9978\n",
      "Epoch 19/20\n",
      "1501/1501 [==============================] - 42s 28ms/step - loss: 0.0088 - f1_m: 0.9239 - accuracy: 0.9969 - val_loss: 0.0073 - val_f1_m: 0.1522 - val_accuracy: 0.9972\n",
      "Epoch 20/20\n",
      "1501/1501 [==============================] - 39s 26ms/step - loss: 0.0088 - f1_m: 0.9270 - accuracy: 0.9967 - val_loss: 0.0074 - val_f1_m: 0.1519 - val_accuracy: 0.9975\n"
     ]
    },
    {
     "data": {
      "text/plain": [
       "<keras.callbacks.History at 0x7fc1182b0040>"
      ]
     },
     "metadata": {},
     "output_type": "display_data"
    }
   ],
   "source": [
    "epochs = 20\n",
    "batch_size = 32\n",
    "# define callbacks\n",
    "callbacks = [\n",
    "    ModelCheckpoint(\n",
    "        os.path.join(\"models\", \"LSTM_best_weights.h5\"), save_weights_only=True, monitor=\"val_loss\"\n",
    "    ),\n",
    "    EarlyStopping(monitor=\"val_loss\", patience=3, verbose=1),\n",
    "]\n",
    "# fit model\n",
    "model.fit(\n",
    "    X_train,\n",
    "    y_train,\n",
    "    batch_size=batch_size,\n",
    "    epochs=epochs,\n",
    "    callbacks=callbacks,\n",
    "    validation_data=(X_val, y_val),\n",
    "    verbose=1,\n",
    ")"
   ]
  },
  {
   "cell_type": "code",
   "execution_count": null,
   "metadata": {},
   "outputs": [
    {
     "name": "stdout",
     "output_type": "stream",
     "text": [
      "919/919 [==============================] - 8s 9ms/step\n",
      "### Evaluation on test set ###\n",
      "Accuracy: 1.00\n",
      "F1 score: 0.99\n",
      "[[26313    44]\n",
      " [   45  2998]]\n"
     ]
    }
   ],
   "source": [
    "scores = model.evaluate(X_test, y_test, verbose=0)\n",
    "y_pred = np.round(model.predict(X_test), 0)\n",
    "\n",
    "print(\"### Evaluation on test set ###\")\n",
    "print(\"Accuracy: %.2f\" % (accuracy_score(y_pred, y_test)))\n",
    "print(\"F1 score: %.2f\" % (f1_score(y_pred, y_test)))\n",
    "#Create confusion matrix and normalizes it over predicted (columns)\n",
    "result = confusion_matrix(y_test, y_pred)\n",
    "print(result)\n"
   ]
  },
  {
   "cell_type": "code",
   "execution_count": null,
   "metadata": {},
   "outputs": [
    {
     "name": "stdout",
     "output_type": "stream",
     "text": [
      "644/644 [==============================] - 5s 8ms/step\n",
      "### Evaluation on validation set ###\n",
      "Accuracy: 1.00\n",
      "F1 score: 0.99\n",
      "[[18206    27]\n",
      " [   25  2322]]\n"
     ]
    }
   ],
   "source": [
    "scores = model.evaluate(X_val, y_val, verbose=0)\n",
    "y_pred = np.round(model.predict(X_val), 0)\n",
    "\n",
    "print(\"### Evaluation on validation set ###\")\n",
    "print(\"Accuracy: %.2f\" % (accuracy_score(y_pred, y_val)))\n",
    "print(\"F1 score: %.2f\" % (f1_score(y_pred, y_val)))\n",
    "#Create confusion matrix and normalizes it over predicted (columns)\n",
    "result = confusion_matrix(y_val, y_pred)\n",
    "print(result)\n"
   ]
  },
  {
   "cell_type": "markdown",
   "metadata": {
    "id": "P15_tKow_ZEO"
   },
   "source": [
    "## Extra"
   ]
  },
  {
   "cell_type": "markdown",
   "metadata": {
    "id": "WXx3UW7U_eRC"
   },
   "source": [
    "### Model comparison"
   ]
  },
  {
   "cell_type": "code",
   "execution_count": null,
   "metadata": {
    "id": "6ymdQUDt-3Sw"
   },
   "outputs": [],
   "source": [
    "# TO DO: eventuale confronto finale tra i migliori modelli ?"
   ]
  },
  {
   "cell_type": "code",
   "execution_count": null,
   "metadata": {
    "id": "0Z_krlwh9Mfx",
    "outputId": "7e309468-82e4-4606-f242-76b92687d910"
   },
   "outputs": [
    {
     "data": {
      "application/vnd.plotly.v1+json": {
       "config": {
        "plotlyServerURL": "https://plot.ly"
       },
       "data": [
        {
         "type": "bar",
         "x": [
          "SVC",
          "RF",
          "NB",
          "LR",
          "KNN"
         ],
         "y": [
          0.9343998485422188,
          0.8695353234400962,
          0.8959881707459435,
          0.9124131909308013,
          0.90640756302521
         ]
        }
       ],
       "layout": {
        "template": {
         "data": {
          "bar": [
           {
            "error_x": {
             "color": "#2a3f5f"
            },
            "error_y": {
             "color": "#2a3f5f"
            },
            "marker": {
             "line": {
              "color": "#E5ECF6",
              "width": 0.5
             },
             "pattern": {
              "fillmode": "overlay",
              "size": 10,
              "solidity": 0.2
             }
            },
            "type": "bar"
           }
          ],
          "barpolar": [
           {
            "marker": {
             "line": {
              "color": "#E5ECF6",
              "width": 0.5
             },
             "pattern": {
              "fillmode": "overlay",
              "size": 10,
              "solidity": 0.2
             }
            },
            "type": "barpolar"
           }
          ],
          "carpet": [
           {
            "aaxis": {
             "endlinecolor": "#2a3f5f",
             "gridcolor": "white",
             "linecolor": "white",
             "minorgridcolor": "white",
             "startlinecolor": "#2a3f5f"
            },
            "baxis": {
             "endlinecolor": "#2a3f5f",
             "gridcolor": "white",
             "linecolor": "white",
             "minorgridcolor": "white",
             "startlinecolor": "#2a3f5f"
            },
            "type": "carpet"
           }
          ],
          "choropleth": [
           {
            "colorbar": {
             "outlinewidth": 0,
             "ticks": ""
            },
            "type": "choropleth"
           }
          ],
          "contour": [
           {
            "colorbar": {
             "outlinewidth": 0,
             "ticks": ""
            },
            "colorscale": [
             [
              0,
              "#0d0887"
             ],
             [
              0.1111111111111111,
              "#46039f"
             ],
             [
              0.2222222222222222,
              "#7201a8"
             ],
             [
              0.3333333333333333,
              "#9c179e"
             ],
             [
              0.4444444444444444,
              "#bd3786"
             ],
             [
              0.5555555555555556,
              "#d8576b"
             ],
             [
              0.6666666666666666,
              "#ed7953"
             ],
             [
              0.7777777777777778,
              "#fb9f3a"
             ],
             [
              0.8888888888888888,
              "#fdca26"
             ],
             [
              1,
              "#f0f921"
             ]
            ],
            "type": "contour"
           }
          ],
          "contourcarpet": [
           {
            "colorbar": {
             "outlinewidth": 0,
             "ticks": ""
            },
            "type": "contourcarpet"
           }
          ],
          "heatmap": [
           {
            "colorbar": {
             "outlinewidth": 0,
             "ticks": ""
            },
            "colorscale": [
             [
              0,
              "#0d0887"
             ],
             [
              0.1111111111111111,
              "#46039f"
             ],
             [
              0.2222222222222222,
              "#7201a8"
             ],
             [
              0.3333333333333333,
              "#9c179e"
             ],
             [
              0.4444444444444444,
              "#bd3786"
             ],
             [
              0.5555555555555556,
              "#d8576b"
             ],
             [
              0.6666666666666666,
              "#ed7953"
             ],
             [
              0.7777777777777778,
              "#fb9f3a"
             ],
             [
              0.8888888888888888,
              "#fdca26"
             ],
             [
              1,
              "#f0f921"
             ]
            ],
            "type": "heatmap"
           }
          ],
          "heatmapgl": [
           {
            "colorbar": {
             "outlinewidth": 0,
             "ticks": ""
            },
            "colorscale": [
             [
              0,
              "#0d0887"
             ],
             [
              0.1111111111111111,
              "#46039f"
             ],
             [
              0.2222222222222222,
              "#7201a8"
             ],
             [
              0.3333333333333333,
              "#9c179e"
             ],
             [
              0.4444444444444444,
              "#bd3786"
             ],
             [
              0.5555555555555556,
              "#d8576b"
             ],
             [
              0.6666666666666666,
              "#ed7953"
             ],
             [
              0.7777777777777778,
              "#fb9f3a"
             ],
             [
              0.8888888888888888,
              "#fdca26"
             ],
             [
              1,
              "#f0f921"
             ]
            ],
            "type": "heatmapgl"
           }
          ],
          "histogram": [
           {
            "marker": {
             "pattern": {
              "fillmode": "overlay",
              "size": 10,
              "solidity": 0.2
             }
            },
            "type": "histogram"
           }
          ],
          "histogram2d": [
           {
            "colorbar": {
             "outlinewidth": 0,
             "ticks": ""
            },
            "colorscale": [
             [
              0,
              "#0d0887"
             ],
             [
              0.1111111111111111,
              "#46039f"
             ],
             [
              0.2222222222222222,
              "#7201a8"
             ],
             [
              0.3333333333333333,
              "#9c179e"
             ],
             [
              0.4444444444444444,
              "#bd3786"
             ],
             [
              0.5555555555555556,
              "#d8576b"
             ],
             [
              0.6666666666666666,
              "#ed7953"
             ],
             [
              0.7777777777777778,
              "#fb9f3a"
             ],
             [
              0.8888888888888888,
              "#fdca26"
             ],
             [
              1,
              "#f0f921"
             ]
            ],
            "type": "histogram2d"
           }
          ],
          "histogram2dcontour": [
           {
            "colorbar": {
             "outlinewidth": 0,
             "ticks": ""
            },
            "colorscale": [
             [
              0,
              "#0d0887"
             ],
             [
              0.1111111111111111,
              "#46039f"
             ],
             [
              0.2222222222222222,
              "#7201a8"
             ],
             [
              0.3333333333333333,
              "#9c179e"
             ],
             [
              0.4444444444444444,
              "#bd3786"
             ],
             [
              0.5555555555555556,
              "#d8576b"
             ],
             [
              0.6666666666666666,
              "#ed7953"
             ],
             [
              0.7777777777777778,
              "#fb9f3a"
             ],
             [
              0.8888888888888888,
              "#fdca26"
             ],
             [
              1,
              "#f0f921"
             ]
            ],
            "type": "histogram2dcontour"
           }
          ],
          "mesh3d": [
           {
            "colorbar": {
             "outlinewidth": 0,
             "ticks": ""
            },
            "type": "mesh3d"
           }
          ],
          "parcoords": [
           {
            "line": {
             "colorbar": {
              "outlinewidth": 0,
              "ticks": ""
             }
            },
            "type": "parcoords"
           }
          ],
          "pie": [
           {
            "automargin": true,
            "type": "pie"
           }
          ],
          "scatter": [
           {
            "fillpattern": {
             "fillmode": "overlay",
             "size": 10,
             "solidity": 0.2
            },
            "type": "scatter"
           }
          ],
          "scatter3d": [
           {
            "line": {
             "colorbar": {
              "outlinewidth": 0,
              "ticks": ""
             }
            },
            "marker": {
             "colorbar": {
              "outlinewidth": 0,
              "ticks": ""
             }
            },
            "type": "scatter3d"
           }
          ],
          "scattercarpet": [
           {
            "marker": {
             "colorbar": {
              "outlinewidth": 0,
              "ticks": ""
             }
            },
            "type": "scattercarpet"
           }
          ],
          "scattergeo": [
           {
            "marker": {
             "colorbar": {
              "outlinewidth": 0,
              "ticks": ""
             }
            },
            "type": "scattergeo"
           }
          ],
          "scattergl": [
           {
            "marker": {
             "colorbar": {
              "outlinewidth": 0,
              "ticks": ""
             }
            },
            "type": "scattergl"
           }
          ],
          "scattermapbox": [
           {
            "marker": {
             "colorbar": {
              "outlinewidth": 0,
              "ticks": ""
             }
            },
            "type": "scattermapbox"
           }
          ],
          "scatterpolar": [
           {
            "marker": {
             "colorbar": {
              "outlinewidth": 0,
              "ticks": ""
             }
            },
            "type": "scatterpolar"
           }
          ],
          "scatterpolargl": [
           {
            "marker": {
             "colorbar": {
              "outlinewidth": 0,
              "ticks": ""
             }
            },
            "type": "scatterpolargl"
           }
          ],
          "scatterternary": [
           {
            "marker": {
             "colorbar": {
              "outlinewidth": 0,
              "ticks": ""
             }
            },
            "type": "scatterternary"
           }
          ],
          "surface": [
           {
            "colorbar": {
             "outlinewidth": 0,
             "ticks": ""
            },
            "colorscale": [
             [
              0,
              "#0d0887"
             ],
             [
              0.1111111111111111,
              "#46039f"
             ],
             [
              0.2222222222222222,
              "#7201a8"
             ],
             [
              0.3333333333333333,
              "#9c179e"
             ],
             [
              0.4444444444444444,
              "#bd3786"
             ],
             [
              0.5555555555555556,
              "#d8576b"
             ],
             [
              0.6666666666666666,
              "#ed7953"
             ],
             [
              0.7777777777777778,
              "#fb9f3a"
             ],
             [
              0.8888888888888888,
              "#fdca26"
             ],
             [
              1,
              "#f0f921"
             ]
            ],
            "type": "surface"
           }
          ],
          "table": [
           {
            "cells": {
             "fill": {
              "color": "#EBF0F8"
             },
             "line": {
              "color": "white"
             }
            },
            "header": {
             "fill": {
              "color": "#C8D4E3"
             },
             "line": {
              "color": "white"
             }
            },
            "type": "table"
           }
          ]
         },
         "layout": {
          "annotationdefaults": {
           "arrowcolor": "#2a3f5f",
           "arrowhead": 0,
           "arrowwidth": 1
          },
          "autotypenumbers": "strict",
          "coloraxis": {
           "colorbar": {
            "outlinewidth": 0,
            "ticks": ""
           }
          },
          "colorscale": {
           "diverging": [
            [
             0,
             "#8e0152"
            ],
            [
             0.1,
             "#c51b7d"
            ],
            [
             0.2,
             "#de77ae"
            ],
            [
             0.3,
             "#f1b6da"
            ],
            [
             0.4,
             "#fde0ef"
            ],
            [
             0.5,
             "#f7f7f7"
            ],
            [
             0.6,
             "#e6f5d0"
            ],
            [
             0.7,
             "#b8e186"
            ],
            [
             0.8,
             "#7fbc41"
            ],
            [
             0.9,
             "#4d9221"
            ],
            [
             1,
             "#276419"
            ]
           ],
           "sequential": [
            [
             0,
             "#0d0887"
            ],
            [
             0.1111111111111111,
             "#46039f"
            ],
            [
             0.2222222222222222,
             "#7201a8"
            ],
            [
             0.3333333333333333,
             "#9c179e"
            ],
            [
             0.4444444444444444,
             "#bd3786"
            ],
            [
             0.5555555555555556,
             "#d8576b"
            ],
            [
             0.6666666666666666,
             "#ed7953"
            ],
            [
             0.7777777777777778,
             "#fb9f3a"
            ],
            [
             0.8888888888888888,
             "#fdca26"
            ],
            [
             1,
             "#f0f921"
            ]
           ],
           "sequentialminus": [
            [
             0,
             "#0d0887"
            ],
            [
             0.1111111111111111,
             "#46039f"
            ],
            [
             0.2222222222222222,
             "#7201a8"
            ],
            [
             0.3333333333333333,
             "#9c179e"
            ],
            [
             0.4444444444444444,
             "#bd3786"
            ],
            [
             0.5555555555555556,
             "#d8576b"
            ],
            [
             0.6666666666666666,
             "#ed7953"
            ],
            [
             0.7777777777777778,
             "#fb9f3a"
            ],
            [
             0.8888888888888888,
             "#fdca26"
            ],
            [
             1,
             "#f0f921"
            ]
           ]
          },
          "colorway": [
           "#636efa",
           "#EF553B",
           "#00cc96",
           "#ab63fa",
           "#FFA15A",
           "#19d3f3",
           "#FF6692",
           "#B6E880",
           "#FF97FF",
           "#FECB52"
          ],
          "font": {
           "color": "#2a3f5f"
          },
          "geo": {
           "bgcolor": "white",
           "lakecolor": "white",
           "landcolor": "#E5ECF6",
           "showlakes": true,
           "showland": true,
           "subunitcolor": "white"
          },
          "hoverlabel": {
           "align": "left"
          },
          "hovermode": "closest",
          "mapbox": {
           "style": "light"
          },
          "paper_bgcolor": "white",
          "plot_bgcolor": "#E5ECF6",
          "polar": {
           "angularaxis": {
            "gridcolor": "white",
            "linecolor": "white",
            "ticks": ""
           },
           "bgcolor": "#E5ECF6",
           "radialaxis": {
            "gridcolor": "white",
            "linecolor": "white",
            "ticks": ""
           }
          },
          "scene": {
           "xaxis": {
            "backgroundcolor": "#E5ECF6",
            "gridcolor": "white",
            "gridwidth": 2,
            "linecolor": "white",
            "showbackground": true,
            "ticks": "",
            "zerolinecolor": "white"
           },
           "yaxis": {
            "backgroundcolor": "#E5ECF6",
            "gridcolor": "white",
            "gridwidth": 2,
            "linecolor": "white",
            "showbackground": true,
            "ticks": "",
            "zerolinecolor": "white"
           },
           "zaxis": {
            "backgroundcolor": "#E5ECF6",
            "gridcolor": "white",
            "gridwidth": 2,
            "linecolor": "white",
            "showbackground": true,
            "ticks": "",
            "zerolinecolor": "white"
           }
          },
          "shapedefaults": {
           "line": {
            "color": "#2a3f5f"
           }
          },
          "ternary": {
           "aaxis": {
            "gridcolor": "white",
            "linecolor": "white",
            "ticks": ""
           },
           "baxis": {
            "gridcolor": "white",
            "linecolor": "white",
            "ticks": ""
           },
           "bgcolor": "#E5ECF6",
           "caxis": {
            "gridcolor": "white",
            "linecolor": "white",
            "ticks": ""
           }
          },
          "title": {
           "x": 0.05
          },
          "xaxis": {
           "automargin": true,
           "gridcolor": "white",
           "linecolor": "white",
           "ticks": "",
           "title": {
            "standoff": 15
           },
           "zerolinecolor": "white",
           "zerolinewidth": 2
          },
          "yaxis": {
           "automargin": true,
           "gridcolor": "white",
           "linecolor": "white",
           "ticks": "",
           "title": {
            "standoff": 15
           },
           "zerolinecolor": "white",
           "zerolinewidth": 2
          }
         }
        },
        "title": {
         "text": "F!-macro for each model"
        }
       }
      }
     },
     "metadata": {},
     "output_type": "display_data"
    }
   ],
   "source": [
    "models = ['SVC', 'RF', 'NB', 'LR', 'KNN']\n",
    "\n",
    "fig = go.Figure([go.Bar(x=models, y=[report_svc['macro avg']['f1-score'], report_rf['macro avg']['f1-score'], report_nb['macro avg']['f1-score'], report_lr['macro avg']['f1-score'], report_knn['macro avg']['f1-score']])])\n",
    "fig.update_layout(title_text='F!-macro for each model')\n",
    "fig.show()"
   ]
  },
  {
   "cell_type": "code",
   "execution_count": null,
   "metadata": {
    "id": "y6fmLY9d9Mfz",
    "outputId": "ff2678f7-8c15-4514-d832-572c61c66fdc"
   },
   "outputs": [
    {
     "data": {
      "application/vnd.plotly.v1+json": {
       "config": {
        "plotlyServerURL": "https://plot.ly"
       },
       "data": [
        {
         "text": [
          [
           "827",
           "8"
          ],
          [
           "6",
           "50"
          ]
         ],
         "type": "heatmap",
         "xaxis": "x",
         "yaxis": "y",
         "z": [
          [
           827,
           8
          ],
          [
           6,
           50
          ]
         ]
        },
        {
         "text": [
          [
           "833",
           "2"
          ],
          [
           "21",
           "35"
          ]
         ],
         "type": "heatmap",
         "xaxis": "x2",
         "yaxis": "y2",
         "z": [
          [
           833,
           2
          ],
          [
           21,
           35
          ]
         ]
        },
        {
         "text": [
          [
           "817",
           "18"
          ],
          [
           "6",
           "50"
          ]
         ],
         "type": "heatmap",
         "xaxis": "x3",
         "yaxis": "y3",
         "z": [
          [
           817,
           18
          ],
          [
           6,
           50
          ]
         ]
        },
        {
         "text": [
          [
           "831",
           "4"
          ],
          [
           "13",
           "43"
          ]
         ],
         "type": "heatmap",
         "xaxis": "x4",
         "yaxis": "y4",
         "z": [
          [
           831,
           4
          ],
          [
           13,
           43
          ]
         ]
        },
        {
         "text": [
          [
           "831",
           "4"
          ],
          [
           "14",
           "42"
          ]
         ],
         "type": "heatmap",
         "xaxis": "x5",
         "yaxis": "y5",
         "z": [
          [
           831,
           4
          ],
          [
           14,
           42
          ]
         ]
        }
       ],
       "layout": {
        "height": 800,
        "template": {
         "data": {
          "bar": [
           {
            "error_x": {
             "color": "#2a3f5f"
            },
            "error_y": {
             "color": "#2a3f5f"
            },
            "marker": {
             "line": {
              "color": "#E5ECF6",
              "width": 0.5
             },
             "pattern": {
              "fillmode": "overlay",
              "size": 10,
              "solidity": 0.2
             }
            },
            "type": "bar"
           }
          ],
          "barpolar": [
           {
            "marker": {
             "line": {
              "color": "#E5ECF6",
              "width": 0.5
             },
             "pattern": {
              "fillmode": "overlay",
              "size": 10,
              "solidity": 0.2
             }
            },
            "type": "barpolar"
           }
          ],
          "carpet": [
           {
            "aaxis": {
             "endlinecolor": "#2a3f5f",
             "gridcolor": "white",
             "linecolor": "white",
             "minorgridcolor": "white",
             "startlinecolor": "#2a3f5f"
            },
            "baxis": {
             "endlinecolor": "#2a3f5f",
             "gridcolor": "white",
             "linecolor": "white",
             "minorgridcolor": "white",
             "startlinecolor": "#2a3f5f"
            },
            "type": "carpet"
           }
          ],
          "choropleth": [
           {
            "colorbar": {
             "outlinewidth": 0,
             "ticks": ""
            },
            "type": "choropleth"
           }
          ],
          "contour": [
           {
            "colorbar": {
             "outlinewidth": 0,
             "ticks": ""
            },
            "colorscale": [
             [
              0,
              "#0d0887"
             ],
             [
              0.1111111111111111,
              "#46039f"
             ],
             [
              0.2222222222222222,
              "#7201a8"
             ],
             [
              0.3333333333333333,
              "#9c179e"
             ],
             [
              0.4444444444444444,
              "#bd3786"
             ],
             [
              0.5555555555555556,
              "#d8576b"
             ],
             [
              0.6666666666666666,
              "#ed7953"
             ],
             [
              0.7777777777777778,
              "#fb9f3a"
             ],
             [
              0.8888888888888888,
              "#fdca26"
             ],
             [
              1,
              "#f0f921"
             ]
            ],
            "type": "contour"
           }
          ],
          "contourcarpet": [
           {
            "colorbar": {
             "outlinewidth": 0,
             "ticks": ""
            },
            "type": "contourcarpet"
           }
          ],
          "heatmap": [
           {
            "colorbar": {
             "outlinewidth": 0,
             "ticks": ""
            },
            "colorscale": [
             [
              0,
              "#0d0887"
             ],
             [
              0.1111111111111111,
              "#46039f"
             ],
             [
              0.2222222222222222,
              "#7201a8"
             ],
             [
              0.3333333333333333,
              "#9c179e"
             ],
             [
              0.4444444444444444,
              "#bd3786"
             ],
             [
              0.5555555555555556,
              "#d8576b"
             ],
             [
              0.6666666666666666,
              "#ed7953"
             ],
             [
              0.7777777777777778,
              "#fb9f3a"
             ],
             [
              0.8888888888888888,
              "#fdca26"
             ],
             [
              1,
              "#f0f921"
             ]
            ],
            "type": "heatmap"
           }
          ],
          "heatmapgl": [
           {
            "colorbar": {
             "outlinewidth": 0,
             "ticks": ""
            },
            "colorscale": [
             [
              0,
              "#0d0887"
             ],
             [
              0.1111111111111111,
              "#46039f"
             ],
             [
              0.2222222222222222,
              "#7201a8"
             ],
             [
              0.3333333333333333,
              "#9c179e"
             ],
             [
              0.4444444444444444,
              "#bd3786"
             ],
             [
              0.5555555555555556,
              "#d8576b"
             ],
             [
              0.6666666666666666,
              "#ed7953"
             ],
             [
              0.7777777777777778,
              "#fb9f3a"
             ],
             [
              0.8888888888888888,
              "#fdca26"
             ],
             [
              1,
              "#f0f921"
             ]
            ],
            "type": "heatmapgl"
           }
          ],
          "histogram": [
           {
            "marker": {
             "pattern": {
              "fillmode": "overlay",
              "size": 10,
              "solidity": 0.2
             }
            },
            "type": "histogram"
           }
          ],
          "histogram2d": [
           {
            "colorbar": {
             "outlinewidth": 0,
             "ticks": ""
            },
            "colorscale": [
             [
              0,
              "#0d0887"
             ],
             [
              0.1111111111111111,
              "#46039f"
             ],
             [
              0.2222222222222222,
              "#7201a8"
             ],
             [
              0.3333333333333333,
              "#9c179e"
             ],
             [
              0.4444444444444444,
              "#bd3786"
             ],
             [
              0.5555555555555556,
              "#d8576b"
             ],
             [
              0.6666666666666666,
              "#ed7953"
             ],
             [
              0.7777777777777778,
              "#fb9f3a"
             ],
             [
              0.8888888888888888,
              "#fdca26"
             ],
             [
              1,
              "#f0f921"
             ]
            ],
            "type": "histogram2d"
           }
          ],
          "histogram2dcontour": [
           {
            "colorbar": {
             "outlinewidth": 0,
             "ticks": ""
            },
            "colorscale": [
             [
              0,
              "#0d0887"
             ],
             [
              0.1111111111111111,
              "#46039f"
             ],
             [
              0.2222222222222222,
              "#7201a8"
             ],
             [
              0.3333333333333333,
              "#9c179e"
             ],
             [
              0.4444444444444444,
              "#bd3786"
             ],
             [
              0.5555555555555556,
              "#d8576b"
             ],
             [
              0.6666666666666666,
              "#ed7953"
             ],
             [
              0.7777777777777778,
              "#fb9f3a"
             ],
             [
              0.8888888888888888,
              "#fdca26"
             ],
             [
              1,
              "#f0f921"
             ]
            ],
            "type": "histogram2dcontour"
           }
          ],
          "mesh3d": [
           {
            "colorbar": {
             "outlinewidth": 0,
             "ticks": ""
            },
            "type": "mesh3d"
           }
          ],
          "parcoords": [
           {
            "line": {
             "colorbar": {
              "outlinewidth": 0,
              "ticks": ""
             }
            },
            "type": "parcoords"
           }
          ],
          "pie": [
           {
            "automargin": true,
            "type": "pie"
           }
          ],
          "scatter": [
           {
            "fillpattern": {
             "fillmode": "overlay",
             "size": 10,
             "solidity": 0.2
            },
            "type": "scatter"
           }
          ],
          "scatter3d": [
           {
            "line": {
             "colorbar": {
              "outlinewidth": 0,
              "ticks": ""
             }
            },
            "marker": {
             "colorbar": {
              "outlinewidth": 0,
              "ticks": ""
             }
            },
            "type": "scatter3d"
           }
          ],
          "scattercarpet": [
           {
            "marker": {
             "colorbar": {
              "outlinewidth": 0,
              "ticks": ""
             }
            },
            "type": "scattercarpet"
           }
          ],
          "scattergeo": [
           {
            "marker": {
             "colorbar": {
              "outlinewidth": 0,
              "ticks": ""
             }
            },
            "type": "scattergeo"
           }
          ],
          "scattergl": [
           {
            "marker": {
             "colorbar": {
              "outlinewidth": 0,
              "ticks": ""
             }
            },
            "type": "scattergl"
           }
          ],
          "scattermapbox": [
           {
            "marker": {
             "colorbar": {
              "outlinewidth": 0,
              "ticks": ""
             }
            },
            "type": "scattermapbox"
           }
          ],
          "scatterpolar": [
           {
            "marker": {
             "colorbar": {
              "outlinewidth": 0,
              "ticks": ""
             }
            },
            "type": "scatterpolar"
           }
          ],
          "scatterpolargl": [
           {
            "marker": {
             "colorbar": {
              "outlinewidth": 0,
              "ticks": ""
             }
            },
            "type": "scatterpolargl"
           }
          ],
          "scatterternary": [
           {
            "marker": {
             "colorbar": {
              "outlinewidth": 0,
              "ticks": ""
             }
            },
            "type": "scatterternary"
           }
          ],
          "surface": [
           {
            "colorbar": {
             "outlinewidth": 0,
             "ticks": ""
            },
            "colorscale": [
             [
              0,
              "#0d0887"
             ],
             [
              0.1111111111111111,
              "#46039f"
             ],
             [
              0.2222222222222222,
              "#7201a8"
             ],
             [
              0.3333333333333333,
              "#9c179e"
             ],
             [
              0.4444444444444444,
              "#bd3786"
             ],
             [
              0.5555555555555556,
              "#d8576b"
             ],
             [
              0.6666666666666666,
              "#ed7953"
             ],
             [
              0.7777777777777778,
              "#fb9f3a"
             ],
             [
              0.8888888888888888,
              "#fdca26"
             ],
             [
              1,
              "#f0f921"
             ]
            ],
            "type": "surface"
           }
          ],
          "table": [
           {
            "cells": {
             "fill": {
              "color": "#EBF0F8"
             },
             "line": {
              "color": "white"
             }
            },
            "header": {
             "fill": {
              "color": "#C8D4E3"
             },
             "line": {
              "color": "white"
             }
            },
            "type": "table"
           }
          ]
         },
         "layout": {
          "annotationdefaults": {
           "arrowcolor": "#2a3f5f",
           "arrowhead": 0,
           "arrowwidth": 1
          },
          "autotypenumbers": "strict",
          "coloraxis": {
           "colorbar": {
            "outlinewidth": 0,
            "ticks": ""
           }
          },
          "colorscale": {
           "diverging": [
            [
             0,
             "#8e0152"
            ],
            [
             0.1,
             "#c51b7d"
            ],
            [
             0.2,
             "#de77ae"
            ],
            [
             0.3,
             "#f1b6da"
            ],
            [
             0.4,
             "#fde0ef"
            ],
            [
             0.5,
             "#f7f7f7"
            ],
            [
             0.6,
             "#e6f5d0"
            ],
            [
             0.7,
             "#b8e186"
            ],
            [
             0.8,
             "#7fbc41"
            ],
            [
             0.9,
             "#4d9221"
            ],
            [
             1,
             "#276419"
            ]
           ],
           "sequential": [
            [
             0,
             "#0d0887"
            ],
            [
             0.1111111111111111,
             "#46039f"
            ],
            [
             0.2222222222222222,
             "#7201a8"
            ],
            [
             0.3333333333333333,
             "#9c179e"
            ],
            [
             0.4444444444444444,
             "#bd3786"
            ],
            [
             0.5555555555555556,
             "#d8576b"
            ],
            [
             0.6666666666666666,
             "#ed7953"
            ],
            [
             0.7777777777777778,
             "#fb9f3a"
            ],
            [
             0.8888888888888888,
             "#fdca26"
            ],
            [
             1,
             "#f0f921"
            ]
           ],
           "sequentialminus": [
            [
             0,
             "#0d0887"
            ],
            [
             0.1111111111111111,
             "#46039f"
            ],
            [
             0.2222222222222222,
             "#7201a8"
            ],
            [
             0.3333333333333333,
             "#9c179e"
            ],
            [
             0.4444444444444444,
             "#bd3786"
            ],
            [
             0.5555555555555556,
             "#d8576b"
            ],
            [
             0.6666666666666666,
             "#ed7953"
            ],
            [
             0.7777777777777778,
             "#fb9f3a"
            ],
            [
             0.8888888888888888,
             "#fdca26"
            ],
            [
             1,
             "#f0f921"
            ]
           ]
          },
          "colorway": [
           "#636efa",
           "#EF553B",
           "#00cc96",
           "#ab63fa",
           "#FFA15A",
           "#19d3f3",
           "#FF6692",
           "#B6E880",
           "#FF97FF",
           "#FECB52"
          ],
          "font": {
           "color": "#2a3f5f"
          },
          "geo": {
           "bgcolor": "white",
           "lakecolor": "white",
           "landcolor": "#E5ECF6",
           "showlakes": true,
           "showland": true,
           "subunitcolor": "white"
          },
          "hoverlabel": {
           "align": "left"
          },
          "hovermode": "closest",
          "mapbox": {
           "style": "light"
          },
          "paper_bgcolor": "white",
          "plot_bgcolor": "#E5ECF6",
          "polar": {
           "angularaxis": {
            "gridcolor": "white",
            "linecolor": "white",
            "ticks": ""
           },
           "bgcolor": "#E5ECF6",
           "radialaxis": {
            "gridcolor": "white",
            "linecolor": "white",
            "ticks": ""
           }
          },
          "scene": {
           "xaxis": {
            "backgroundcolor": "#E5ECF6",
            "gridcolor": "white",
            "gridwidth": 2,
            "linecolor": "white",
            "showbackground": true,
            "ticks": "",
            "zerolinecolor": "white"
           },
           "yaxis": {
            "backgroundcolor": "#E5ECF6",
            "gridcolor": "white",
            "gridwidth": 2,
            "linecolor": "white",
            "showbackground": true,
            "ticks": "",
            "zerolinecolor": "white"
           },
           "zaxis": {
            "backgroundcolor": "#E5ECF6",
            "gridcolor": "white",
            "gridwidth": 2,
            "linecolor": "white",
            "showbackground": true,
            "ticks": "",
            "zerolinecolor": "white"
           }
          },
          "shapedefaults": {
           "line": {
            "color": "#2a3f5f"
           }
          },
          "ternary": {
           "aaxis": {
            "gridcolor": "white",
            "linecolor": "white",
            "ticks": ""
           },
           "baxis": {
            "gridcolor": "white",
            "linecolor": "white",
            "ticks": ""
           },
           "bgcolor": "#E5ECF6",
           "caxis": {
            "gridcolor": "white",
            "linecolor": "white",
            "ticks": ""
           }
          },
          "title": {
           "x": 0.05
          },
          "xaxis": {
           "automargin": true,
           "gridcolor": "white",
           "linecolor": "white",
           "ticks": "",
           "title": {
            "standoff": 15
           },
           "zerolinecolor": "white",
           "zerolinewidth": 2
          },
          "yaxis": {
           "automargin": true,
           "gridcolor": "white",
           "linecolor": "white",
           "ticks": "",
           "title": {
            "standoff": 15
           },
           "zerolinecolor": "white",
           "zerolinewidth": 2
          }
         }
        },
        "title": {
         "text": "Confusion matrices"
        },
        "width": 1000,
        "xaxis": {
         "anchor": "y",
         "domain": [
          0,
          0.45
         ]
        },
        "xaxis2": {
         "anchor": "y2",
         "domain": [
          0.55,
          1
         ]
        },
        "xaxis3": {
         "anchor": "y3",
         "domain": [
          0,
          0.45
         ]
        },
        "xaxis4": {
         "anchor": "y4",
         "domain": [
          0.55,
          1
         ]
        },
        "xaxis5": {
         "anchor": "y5",
         "domain": [
          0,
          0.45
         ]
        },
        "xaxis6": {
         "anchor": "y6",
         "domain": [
          0.55,
          1
         ]
        },
        "yaxis": {
         "anchor": "x",
         "domain": [
          0.7333333333333333,
          1
         ]
        },
        "yaxis2": {
         "anchor": "x2",
         "domain": [
          0.7333333333333333,
          1
         ]
        },
        "yaxis3": {
         "anchor": "x3",
         "domain": [
          0.36666666666666664,
          0.6333333333333333
         ]
        },
        "yaxis4": {
         "anchor": "x4",
         "domain": [
          0.36666666666666664,
          0.6333333333333333
         ]
        },
        "yaxis5": {
         "anchor": "x5",
         "domain": [
          0,
          0.26666666666666666
         ]
        },
        "yaxis6": {
         "anchor": "x6",
         "domain": [
          0,
          0.26666666666666666
         ]
        }
       }
      }
     },
     "metadata": {},
     "output_type": "display_data"
    }
   ],
   "source": [
    "rows, cols = 3, 2\n",
    "\n",
    "fig = make_subplots(rows=rows, cols=cols)\n",
    "\n",
    "index = 0\n",
    "\n",
    "for i in range(rows):\n",
    "    for j in range(cols):\n",
    "        \n",
    "        if index == 5: break\n",
    "\n",
    "        m = [[cm[index][0][0], cm[index][0][1]], [cm[index][1][0], cm[index][1][1]]]\n",
    "\n",
    "        fig.append_trace(go.Heatmap(z=m), row=i+1, col=j+1)\n",
    "\n",
    "        index += 1\n",
    "\n",
    "\n",
    "fig.update_layout(height=800, width=1000,title_text=\"Confusion matrices\")\n",
    "fig.show()"
   ]
  },
  {
   "cell_type": "markdown",
   "metadata": {
    "id": "q7RuDDpA_lCv"
   },
   "source": [
    "### Interpolation vs Extrapolation"
   ]
  },
  {
   "cell_type": "markdown",
   "metadata": {},
   "source": [
    "The range of data is important when making predictions. If data points are missing from a data range, interpolation and extrapolation are used to predict the values that are in the missing range."
   ]
  },
  {
   "cell_type": "code",
   "execution_count": null,
   "metadata": {
    "id": "P-amghM9_nqM"
   },
   "outputs": [],
   "source": [
    "# TODO: inserire codice Ricc e spiegare differenza tra interpolation ed extrapolation e perché con una migliorano i risultati"
   ]
  },
  {
   "cell_type": "code",
   "execution_count": 1,
   "metadata": {},
   "outputs": [
    {
     "name": "stderr",
     "output_type": "stream",
     "text": [
      "2023-03-13 10:14:26.246862: I tensorflow/core/platform/cpu_feature_guard.cc:193] This TensorFlow binary is optimized with oneAPI Deep Neural Network Library (oneDNN) to use the following CPU instructions in performance-critical operations:  AVX2 FMA\n",
      "To enable them in other operations, rebuild TensorFlow with the appropriate compiler flags.\n",
      "2023-03-13 10:14:26.482329: W tensorflow/compiler/xla/stream_executor/platform/default/dso_loader.cc:64] Could not load dynamic library 'libcudart.so.11.0'; dlerror: libcudart.so.11.0: cannot open shared object file: No such file or directory\n",
      "2023-03-13 10:14:26.482381: I tensorflow/compiler/xla/stream_executor/cuda/cudart_stub.cc:29] Ignore above cudart dlerror if you do not have a GPU set up on your machine.\n",
      "2023-03-13 10:14:27.877680: W tensorflow/compiler/xla/stream_executor/platform/default/dso_loader.cc:64] Could not load dynamic library 'libnvinfer.so.7'; dlerror: libnvinfer.so.7: cannot open shared object file: No such file or directory\n",
      "2023-03-13 10:14:27.877983: W tensorflow/compiler/xla/stream_executor/platform/default/dso_loader.cc:64] Could not load dynamic library 'libnvinfer_plugin.so.7'; dlerror: libnvinfer_plugin.so.7: cannot open shared object file: No such file or directory\n",
      "2023-03-13 10:14:27.878012: W tensorflow/compiler/tf2tensorrt/utils/py_utils.cc:38] TF-TRT Warning: Cannot dlopen some TensorRT libraries. If you would like to use Nvidia GPU with TensorRT, please make sure the missing libraries mentioned above are installed properly.\n"
     ]
    }
   ],
   "source": [
    "import numpy as np\n",
    "import pandas as pd\n",
    "import os\n",
    "from sklearn.metrics import f1_score, accuracy_score, confusion_matrix\n",
    "\n",
    "from keras.models import Sequential\n",
    "from keras.layers import Dense, LSTM, Bidirectional\n",
    "from keras.callbacks import ModelCheckpoint, ReduceLROnPlateau, EarlyStopping\n",
    "from keras.initializers import Constant\n",
    "from itertools import product\n",
    "from tqdm import tqdm\n",
    "\n",
    "\n",
    "from Libs.load_data import DataLoader, get_dataset_split\n",
    "from Libs.threshold import get_labels_physic\n",
    "from Libs.keras_f1score import f1_m"
   ]
  },
  {
   "cell_type": "code",
   "execution_count": 2,
   "metadata": {},
   "outputs": [
    {
     "name": "stderr",
     "output_type": "stream",
     "text": [
      "100%|██████████| 30/30 [00:00<00:00, 48.87it/s]\n"
     ]
    },
    {
     "data": {
      "text/plain": [
       "((30, 1, 4, 1, 1, 1000), (30, 1, 4, 1, 1, 1000))"
      ]
     },
     "execution_count": 2,
     "metadata": {},
     "output_type": "execute_result"
    }
   ],
   "source": [
    "# initialize data loader\n",
    "data_loader = DataLoader(run=30, N=1000, s=0.5, t=[0.01, 0.1, 0.5, 3], d=0.2, m=1, override=True)\n",
    "# get the grid\n",
    "grid_X, grid_y = data_loader.get_grid()\n",
    "# get params dictionary\n",
    "params = data_loader.get_params()\n",
    "\n",
    "grid_X.shape, grid_y.shape"
   ]
  },
  {
   "cell_type": "markdown",
   "metadata": {},
   "source": [
    "#### LSTM model with multiple all theta parameters"
   ]
  },
  {
   "cell_type": "markdown",
   "metadata": {},
   "source": [
    "Let's start seeing what is going to happen with training and testing the NN with all the configurations of theta parameters"
   ]
  },
  {
   "cell_type": "code",
   "execution_count": 3,
   "metadata": {},
   "outputs": [
    {
     "data": {
      "text/plain": [
       "((54880, 21), (27440, 21), (35280, 21))"
      ]
     },
     "execution_count": 3,
     "metadata": {},
     "output_type": "execute_result"
    }
   ],
   "source": [
    "df_train,df_val,df_test = get_dataset_split(grid_X, grid_y, None, window_size=20, overlap_size=19,\n",
    "                                            label_treshold=1, split_on_run=True, shuffle_run=False, \n",
    "                                            shuffle_window=False, test_size = 0.3, val_size=0.2, \n",
    "                                            get_validation=True, random_state=42)\n",
    "df_train.shape, df_val.shape, df_test.shape"
   ]
  },
  {
   "cell_type": "markdown",
   "metadata": {},
   "source": [
    "This cell shows the amounts of class 0 and 1 for each data set"
   ]
  },
  {
   "cell_type": "code",
   "execution_count": 4,
   "metadata": {},
   "outputs": [
    {
     "name": "stdout",
     "output_type": "stream",
     "text": [
      "Training set:\n",
      "0    35397\n",
      "1    19483\n",
      "Name: future_flare, dtype: int64 \n",
      "\n",
      "validation set:\n",
      "0    18590\n",
      "1     8850\n",
      "Name: future_flare, dtype: int64 \n",
      "\n",
      "Test set:\n",
      "0    23484\n",
      "1    11796\n",
      "Name: future_flare, dtype: int64 \n",
      "\n"
     ]
    }
   ],
   "source": [
    "# number of classes\n",
    "print('Training set:')\n",
    "print(df_train['future_flare'].value_counts(), '\\n')\n",
    "pos = df_train['future_flare'].value_counts()[0]\n",
    "true = df_train['future_flare'].value_counts()[1]\n",
    "print('validation set:')\n",
    "print(df_val['future_flare'].value_counts(), '\\n')\n",
    "print('Test set:')\n",
    "print(df_test['future_flare'].value_counts(), '\\n')"
   ]
  },
  {
   "cell_type": "code",
   "execution_count": 5,
   "metadata": {},
   "outputs": [
    {
     "name": "stdout",
     "output_type": "stream",
     "text": [
      "X ## Train: (54880, 20) Val: (27440, 20) Test: (35280, 20)\n",
      "y ## Train: (54880,) Val: (27440,) Test: (35280,)\n"
     ]
    }
   ],
   "source": [
    "X_train, y_train = df_train.iloc[:,:-1].to_numpy(), df_train.future_flare.to_numpy()\n",
    "X_val, y_val = df_val.iloc[:,:-1].to_numpy(), df_val.future_flare.to_numpy()\n",
    "X_test, y_test = df_test.iloc[:,:-1].to_numpy(), df_test.future_flare.to_numpy()\n",
    "X = np.vstack((X_train, X_val, X_test))\n",
    "y = np.hstack((y_train, y_val, y_test))\n",
    "print('X ## Train:', X_train.shape, 'Val:', X_val.shape, 'Test:', X_test.shape)\n",
    "print('y ## Train:', y_train.shape, 'Val:', y_val.shape, 'Test:', y_test.shape)"
   ]
  },
  {
   "cell_type": "markdown",
   "metadata": {},
   "source": [
    "Let's construct now the model"
   ]
  },
  {
   "cell_type": "code",
   "execution_count": 6,
   "metadata": {},
   "outputs": [
    {
     "name": "stderr",
     "output_type": "stream",
     "text": [
      "2023-03-13 10:14:31.041386: W tensorflow/compiler/xla/stream_executor/platform/default/dso_loader.cc:64] Could not load dynamic library 'libcuda.so.1'; dlerror: libcuda.so.1: cannot open shared object file: No such file or directory\n",
      "2023-03-13 10:14:31.041462: W tensorflow/compiler/xla/stream_executor/cuda/cuda_driver.cc:265] failed call to cuInit: UNKNOWN ERROR (303)\n",
      "2023-03-13 10:14:31.041492: I tensorflow/compiler/xla/stream_executor/cuda/cuda_diagnostics.cc:156] kernel driver does not appear to be running on this host (83dc2cdd3c94): /proc/driver/nvidia/version does not exist\n",
      "2023-03-13 10:14:31.041812: I tensorflow/core/platform/cpu_feature_guard.cc:193] This TensorFlow binary is optimized with oneAPI Deep Neural Network Library (oneDNN) to use the following CPU instructions in performance-critical operations:  AVX2 FMA\n",
      "To enable them in other operations, rebuild TensorFlow with the appropriate compiler flags.\n"
     ]
    },
    {
     "name": "stdout",
     "output_type": "stream",
     "text": [
      "Model: \"sequential\"\n",
      "_________________________________________________________________\n",
      " Layer (type)                Output Shape              Param #   \n",
      "=================================================================\n",
      " bidirectional (Bidirectiona  (None, 40)               3520      \n",
      " l)                                                              \n",
      "                                                                 \n",
      " dense (Dense)               (None, 30)                1230      \n",
      "                                                                 \n",
      " dense_1 (Dense)             (None, 10)                310       \n",
      "                                                                 \n",
      " dense_2 (Dense)             (None, 1)                 11        \n",
      "                                                                 \n",
      "=================================================================\n",
      "Total params: 5,071\n",
      "Trainable params: 5,071\n",
      "Non-trainable params: 0\n",
      "_________________________________________________________________\n",
      "None\n"
     ]
    }
   ],
   "source": [
    "initial_bias = Constant([np.log(true/pos)])\n",
    "# define model\n",
    "model = Sequential()\n",
    "model.add(Bidirectional(LSTM(20, activation='relu'), input_shape=(X_train.shape[1], 1)))\n",
    "model.add(Dense(30, activation='relu'))\n",
    "model.add(Dense(10, activation='relu'))\n",
    "model.add(Dense(1, activation='sigmoid',bias_initializer=initial_bias))\n",
    "model.compile(loss='binary_crossentropy', \n",
    "              optimizer='adam', \n",
    "              metrics=[f1_m, 'accuracy'])\n",
    "\n",
    "print(model.summary())"
   ]
  },
  {
   "cell_type": "code",
   "execution_count": 7,
   "metadata": {},
   "outputs": [
    {
     "name": "stdout",
     "output_type": "stream",
     "text": [
      "Epoch 1/20\n",
      "WARNING:tensorflow:From /usr/local/lib/python3.8/site-packages/tensorflow/python/autograph/pyct/static_analysis/liveness.py:83: Analyzer.lamba_check (from tensorflow.python.autograph.pyct.static_analysis.liveness) is deprecated and will be removed after 2023-09-23.\n",
      "Instructions for updating:\n",
      "Lambda fuctions will be no more assumed to be used in the statement where they are used, or at least in the same block. https://github.com/tensorflow/tensorflow/issues/56089\n",
      "1715/1715 [==============================] - 41s 22ms/step - loss: 0.2072 - f1_m: 0.8537 - accuracy: 0.9068 - val_loss: 0.1435 - val_f1_m: 0.4336 - val_accuracy: 0.9371\n",
      "Epoch 2/20\n",
      "1715/1715 [==============================] - 37s 22ms/step - loss: 0.1277 - f1_m: 0.9204 - accuracy: 0.9464 - val_loss: 0.1059 - val_f1_m: 0.4451 - val_accuracy: 0.9552\n",
      "Epoch 3/20\n",
      "1715/1715 [==============================] - 36s 21ms/step - loss: 0.1011 - f1_m: 0.9414 - accuracy: 0.9607 - val_loss: 0.0801 - val_f1_m: 0.4790 - val_accuracy: 0.9705\n",
      "Epoch 4/20\n",
      "1715/1715 [==============================] - 33s 19ms/step - loss: 0.0784 - f1_m: 0.9553 - accuracy: 0.9698 - val_loss: 0.0724 - val_f1_m: 0.4754 - val_accuracy: 0.9735\n",
      "Epoch 5/20\n",
      "1715/1715 [==============================] - 33s 19ms/step - loss: 0.0682 - f1_m: 0.9619 - accuracy: 0.9744 - val_loss: 0.0754 - val_f1_m: 0.4660 - val_accuracy: 0.9689\n",
      "Epoch 6/20\n",
      "1715/1715 [==============================] - 32s 19ms/step - loss: 0.0611 - f1_m: 0.9668 - accuracy: 0.9776 - val_loss: 0.0533 - val_f1_m: 0.4916 - val_accuracy: 0.9826\n",
      "Epoch 7/20\n",
      "1715/1715 [==============================] - 32s 19ms/step - loss: 0.0561 - f1_m: 0.9698 - accuracy: 0.9800 - val_loss: 0.0566 - val_f1_m: 0.4837 - val_accuracy: 0.9788\n",
      "Epoch 8/20\n",
      "1715/1715 [==============================] - 34s 20ms/step - loss: 0.0542 - f1_m: 0.9702 - accuracy: 0.9800 - val_loss: 0.0518 - val_f1_m: 0.4921 - val_accuracy: 0.9820\n",
      "Epoch 9/20\n",
      "1715/1715 [==============================] - 33s 19ms/step - loss: 0.0505 - f1_m: 0.9731 - accuracy: 0.9821 - val_loss: 0.0443 - val_f1_m: 0.4939 - val_accuracy: 0.9858\n",
      "Epoch 10/20\n",
      "1715/1715 [==============================] - 34s 20ms/step - loss: 0.0492 - f1_m: 0.9750 - accuracy: 0.9831 - val_loss: 0.0496 - val_f1_m: 0.4937 - val_accuracy: 0.9805\n",
      "Epoch 11/20\n",
      "1715/1715 [==============================] - 34s 20ms/step - loss: 0.0482 - f1_m: 0.9750 - accuracy: 0.9832 - val_loss: 0.0703 - val_f1_m: 0.4716 - val_accuracy: 0.9719\n",
      "Epoch 12/20\n",
      "1715/1715 [==============================] - 34s 20ms/step - loss: 0.0493 - f1_m: 0.9741 - accuracy: 0.9828 - val_loss: 0.0435 - val_f1_m: 0.4948 - val_accuracy: 0.9865\n",
      "Epoch 13/20\n",
      "1715/1715 [==============================] - 29s 17ms/step - loss: 0.0464 - f1_m: 0.9768 - accuracy: 0.9842 - val_loss: 0.0436 - val_f1_m: 0.4940 - val_accuracy: 0.9863\n",
      "Epoch 14/20\n",
      "1715/1715 [==============================] - 29s 17ms/step - loss: 0.0471 - f1_m: 0.9751 - accuracy: 0.9834 - val_loss: 0.0419 - val_f1_m: 0.4966 - val_accuracy: 0.9880\n",
      "Epoch 15/20\n",
      "1715/1715 [==============================] - 29s 17ms/step - loss: 0.0449 - f1_m: 0.9773 - accuracy: 0.9849 - val_loss: 0.0440 - val_f1_m: 0.4947 - val_accuracy: 0.9842\n",
      "Epoch 16/20\n",
      "1715/1715 [==============================] - 29s 17ms/step - loss: 0.0442 - f1_m: 0.9774 - accuracy: 0.9850 - val_loss: 0.0408 - val_f1_m: 0.4958 - val_accuracy: 0.9871\n",
      "Epoch 17/20\n",
      "1715/1715 [==============================] - 29s 17ms/step - loss: 0.0451 - f1_m: 0.9773 - accuracy: 0.9848 - val_loss: 0.0413 - val_f1_m: 0.4961 - val_accuracy: 0.9864\n",
      "Epoch 18/20\n",
      "1715/1715 [==============================] - 30s 17ms/step - loss: 0.0445 - f1_m: 0.9775 - accuracy: 0.9848 - val_loss: 0.0394 - val_f1_m: 0.4958 - val_accuracy: 0.9878\n",
      "Epoch 19/20\n",
      "1715/1715 [==============================] - 29s 17ms/step - loss: 0.0430 - f1_m: 0.9780 - accuracy: 0.9852 - val_loss: 0.0409 - val_f1_m: 0.4948 - val_accuracy: 0.9862\n",
      "Epoch 20/20\n",
      "1715/1715 [==============================] - 30s 17ms/step - loss: 0.0438 - f1_m: 0.9772 - accuracy: 0.9848 - val_loss: 0.0511 - val_f1_m: 0.4934 - val_accuracy: 0.9806\n"
     ]
    },
    {
     "data": {
      "text/plain": [
       "<keras.callbacks.History at 0x7fcc1d268070>"
      ]
     },
     "execution_count": 7,
     "metadata": {},
     "output_type": "execute_result"
    }
   ],
   "source": [
    "epochs = 20\n",
    "batch_size = 32\n",
    "# define callbacks\n",
    "callbacks = [\n",
    "    ModelCheckpoint(\n",
    "        os.path.join(\"models\", \"LSTM_allTheta_checkpoint.h5\"), save_weights_only=True, monitor=\"val_loss\"\n",
    "    ),\n",
    "    EarlyStopping(monitor=\"val_loss\", patience=3, verbose=1),\n",
    "]\n",
    "# fit model\n",
    "model.fit(\n",
    "    X_train,\n",
    "    y_train,\n",
    "    batch_size=batch_size,\n",
    "    epochs=epochs,\n",
    "    callbacks=callbacks,\n",
    "    validation_data=(X_val, y_val),\n",
    "    verbose=1,\n",
    ")"
   ]
  },
  {
   "cell_type": "markdown",
   "metadata": {},
   "source": [
    "Validation set results"
   ]
  },
  {
   "cell_type": "code",
   "execution_count": 8,
   "metadata": {},
   "outputs": [
    {
     "name": "stdout",
     "output_type": "stream",
     "text": [
      "858/858 [==============================] - 6s 6ms/step\n",
      "### Evaluation on validation set ###\n",
      "Accuracy: 0.98\n",
      "F1 score: 0.97\n",
      "[[18283   307]\n",
      " [  224  8626]]\n"
     ]
    }
   ],
   "source": [
    "scores = model.evaluate(X_val, y_val, verbose=0)\n",
    "y_pred = np.round(model.predict(X_val), 0)\n",
    "\n",
    "print(\"### Evaluation on validation set ###\")\n",
    "print(\"Accuracy: %.2f\" % (accuracy_score(y_pred, y_val)))\n",
    "print(\"F1 score: %.2f\" % (f1_score(y_pred, y_val)))\n",
    "#Create confusion matrix and normalizes it over predicted (columns)\n",
    "result = confusion_matrix(y_val, y_pred)\n",
    "print(result)"
   ]
  },
  {
   "cell_type": "markdown",
   "metadata": {},
   "source": [
    "Test results"
   ]
  },
  {
   "cell_type": "code",
   "execution_count": 9,
   "metadata": {},
   "outputs": [
    {
     "name": "stdout",
     "output_type": "stream",
     "text": [
      "1103/1103 [==============================] - 9s 8ms/step\n",
      "### Evaluation on test set ###\n",
      "Accuracy: 0.98\n",
      "F1 score: 0.97\n",
      "[[22987   497]\n",
      " [  300 11496]]\n"
     ]
    }
   ],
   "source": [
    "scores = model.evaluate(X_test, y_test, verbose=0)\n",
    "y_pred = np.round(model.predict(X_test), 0)\n",
    "\n",
    "print(\"### Evaluation on test set ###\")\n",
    "print(\"Accuracy: %.2f\" % (accuracy_score(y_pred, y_test)))\n",
    "print(\"F1 score: %.2f\" % (f1_score(y_pred, y_test)))\n",
    "#Create confusion matrix and normalizes it over predicted (columns)\n",
    "result = confusion_matrix(y_test, y_pred)\n",
    "print(result)"
   ]
  },
  {
   "cell_type": "markdown",
   "metadata": {},
   "source": [
    "#### Interpolation"
   ]
  },
  {
   "cell_type": "markdown",
   "metadata": {},
   "source": [
    "Same model as before, but now we are fitting only in the dataset coming from the generation with using just the extreme parameters: \n",
    "\n",
    "$\\theta=0.01$ and $\\theta=3$\n",
    "\n",
    "and a fraction of the other dataset, coming from $\\theta=0.1$ and $\\theta=0.5$ as test set"
   ]
  },
  {
   "cell_type": "code",
   "execution_count": 10,
   "metadata": {},
   "outputs": [
    {
     "data": {
      "text/plain": [
       "{'run': 30,\n",
       " 'sigma': [0.5],\n",
       " 'theta': [0.01, 0.1, 0.5, 3],\n",
       " 'mu': [1],\n",
       " 'delta': [0.2],\n",
       " 'N': 1000}"
      ]
     },
     "execution_count": 10,
     "metadata": {},
     "output_type": "execute_result"
    }
   ],
   "source": [
    "params"
   ]
  },
  {
   "cell_type": "code",
   "execution_count": 11,
   "metadata": {},
   "outputs": [
    {
     "data": {
      "text/plain": [
       "((27440, 21), (13720, 21), (17640, 21))"
      ]
     },
     "execution_count": 11,
     "metadata": {},
     "output_type": "execute_result"
    }
   ],
   "source": [
    "p = 'theta'\n",
    "theta_train_list     = [0.01, 3]\n",
    "theta_train_list_idx = [params[p].index(t) for t in theta_train_list]\n",
    "theta_test_list      = [0.1, 0.5]\n",
    "theta_test_list_idx  = [params[p].index(t) for t in theta_test_list]\n",
    "\n",
    "# get the train and validation set, selecting the index for grid given the interpolation assuption\n",
    "# notice that theta is the third parameter\n",
    "df_train, df_val, _ = get_dataset_split(grid_X[:,:,theta_train_list_idx,:,:,:], \n",
    "                                        grid_y[:,:,theta_train_list_idx,:,:,:], \n",
    "                                        None, window_size=20, overlap_size=19,\n",
    "                                        label_treshold=1, split_on_run=True, shuffle_run=False, \n",
    "                                        shuffle_window=False, test_size = 0.3, val_size=0.2, \n",
    "                                        get_validation=True, random_state=42)\n",
    "# get the test set, selecting the index for grid given the interpolation assuption\n",
    "# notice that theta is the third parameter\n",
    "_, _, df_test = get_dataset_split(grid_X[:,:,theta_test_list_idx,:,:,:], \n",
    "                                  grid_y[:,:,theta_test_list_idx,:,:,:], \n",
    "                                  None, window_size=20, overlap_size=19,\n",
    "                                  label_treshold=1, split_on_run=True, shuffle_run=False, \n",
    "                                  shuffle_window=False, test_size = 0.3, val_size=0.2, \n",
    "                                  get_validation=True, random_state=42)\n",
    "df_train.shape, df_val.shape, df_test.shape"
   ]
  },
  {
   "cell_type": "code",
   "execution_count": 12,
   "metadata": {},
   "outputs": [
    {
     "name": "stdout",
     "output_type": "stream",
     "text": [
      "Training set:\n",
      "0    19072\n",
      "1     8368\n",
      "Name: future_flare, dtype: int64 \n",
      "\n",
      "validation set:\n",
      "0    9996\n",
      "1    3724\n",
      "Name: future_flare, dtype: int64 \n",
      "\n",
      "Test set:\n",
      "0    10767\n",
      "1     6873\n",
      "Name: future_flare, dtype: int64 \n",
      "\n"
     ]
    }
   ],
   "source": [
    "# number of classes\n",
    "print('Training set:')\n",
    "print(df_train['future_flare'].value_counts(), '\\n')\n",
    "pos = df_train['future_flare'].value_counts()[0]\n",
    "true = df_train['future_flare'].value_counts()[1]\n",
    "print('validation set:')\n",
    "print(df_val['future_flare'].value_counts(), '\\n')\n",
    "print('Test set:')\n",
    "print(df_test['future_flare'].value_counts(), '\\n')"
   ]
  },
  {
   "cell_type": "code",
   "execution_count": 13,
   "metadata": {},
   "outputs": [
    {
     "name": "stdout",
     "output_type": "stream",
     "text": [
      "X ## Train: (27440, 20) Val: (13720, 20) Test: (17640, 20)\n",
      "y ## Train: (27440,) Val: (13720,) Test: (17640,)\n"
     ]
    }
   ],
   "source": [
    "X_train, y_train = df_train.iloc[:,:-1].to_numpy(), df_train.future_flare.to_numpy()\n",
    "X_val, y_val = df_val.iloc[:,:-1].to_numpy(), df_val.future_flare.to_numpy()\n",
    "X_test, y_test = df_test.iloc[:,:-1].to_numpy(), df_test.future_flare.to_numpy()\n",
    "X = np.vstack((X_train, X_val, X_test))\n",
    "y = np.hstack((y_train, y_val, y_test))\n",
    "print('X ## Train:', X_train.shape, 'Val:', X_val.shape, 'Test:', X_test.shape)\n",
    "print('y ## Train:', y_train.shape, 'Val:', y_val.shape, 'Test:', y_test.shape)"
   ]
  },
  {
   "cell_type": "code",
   "execution_count": 14,
   "metadata": {},
   "outputs": [
    {
     "name": "stdout",
     "output_type": "stream",
     "text": [
      "Model: \"sequential_1\"\n",
      "_________________________________________________________________\n",
      " Layer (type)                Output Shape              Param #   \n",
      "=================================================================\n",
      " bidirectional_1 (Bidirectio  (None, 40)               3520      \n",
      " nal)                                                            \n",
      "                                                                 \n",
      " dense_3 (Dense)             (None, 30)                1230      \n",
      "                                                                 \n",
      " dense_4 (Dense)             (None, 10)                310       \n",
      "                                                                 \n",
      " dense_5 (Dense)             (None, 1)                 11        \n",
      "                                                                 \n",
      "=================================================================\n",
      "Total params: 5,071\n",
      "Trainable params: 5,071\n",
      "Non-trainable params: 0\n",
      "_________________________________________________________________\n",
      "None\n"
     ]
    }
   ],
   "source": [
    "initial_bias = Constant([np.log(true/pos)])\n",
    "# define model\n",
    "model = Sequential()\n",
    "model.add(Bidirectional(LSTM(20, activation='relu'), input_shape=(X_train.shape[1], 1)))\n",
    "model.add(Dense(30, activation='relu'))\n",
    "model.add(Dense(10, activation='relu'))\n",
    "model.add(Dense(1, activation='sigmoid',bias_initializer=initial_bias))\n",
    "model.compile(loss='binary_crossentropy', \n",
    "              optimizer='adam', \n",
    "              metrics=[f1_m, 'accuracy'])\n",
    "\n",
    "print(model.summary())"
   ]
  },
  {
   "cell_type": "code",
   "execution_count": 15,
   "metadata": {},
   "outputs": [
    {
     "name": "stdout",
     "output_type": "stream",
     "text": [
      "Epoch 1/20\n",
      "858/858 [==============================] - 22s 21ms/step - loss: 0.2894 - f1_m: 0.7462 - accuracy: 0.8680 - val_loss: 0.1762 - val_f1_m: 0.3494 - val_accuracy: 0.9170\n",
      "Epoch 2/20\n",
      "858/858 [==============================] - 17s 20ms/step - loss: 0.1583 - f1_m: 0.8801 - accuracy: 0.9337 - val_loss: 0.2203 - val_f1_m: 0.3943 - val_accuracy: 0.8994\n",
      "Epoch 3/20\n",
      "858/858 [==============================] - 20s 23ms/step - loss: 0.1177 - f1_m: 0.9153 - accuracy: 0.9530 - val_loss: 0.1013 - val_f1_m: 0.4109 - val_accuracy: 0.9601\n",
      "Epoch 4/20\n",
      "858/858 [==============================] - 21s 24ms/step - loss: 0.0948 - f1_m: 0.9333 - accuracy: 0.9631 - val_loss: 0.0815 - val_f1_m: 0.4184 - val_accuracy: 0.9712\n",
      "Epoch 5/20\n",
      "858/858 [==============================] - 18s 21ms/step - loss: 0.0875 - f1_m: 0.9438 - accuracy: 0.9680 - val_loss: 0.0853 - val_f1_m: 0.4303 - val_accuracy: 0.9734\n",
      "Epoch 6/20\n",
      "858/858 [==============================] - 17s 20ms/step - loss: 0.0771 - f1_m: 0.9527 - accuracy: 0.9725 - val_loss: 0.0789 - val_f1_m: 0.4314 - val_accuracy: 0.9697\n",
      "Epoch 7/20\n",
      "858/858 [==============================] - 17s 20ms/step - loss: 0.0754 - f1_m: 0.9528 - accuracy: 0.9736 - val_loss: 0.1165 - val_f1_m: 0.4213 - val_accuracy: 0.9512\n",
      "Epoch 8/20\n",
      "858/858 [==============================] - 17s 20ms/step - loss: 0.0722 - f1_m: 0.9561 - accuracy: 0.9747 - val_loss: 0.0638 - val_f1_m: 0.4393 - val_accuracy: 0.9835\n",
      "Epoch 9/20\n",
      "858/858 [==============================] - 17s 20ms/step - loss: 0.0668 - f1_m: 0.9592 - accuracy: 0.9772 - val_loss: 0.0615 - val_f1_m: 0.4299 - val_accuracy: 0.9797\n",
      "Epoch 10/20\n",
      "858/858 [==============================] - 17s 20ms/step - loss: 0.0658 - f1_m: 0.9599 - accuracy: 0.9772 - val_loss: 0.0627 - val_f1_m: 0.4364 - val_accuracy: 0.9817\n",
      "Epoch 11/20\n",
      "858/858 [==============================] - 17s 20ms/step - loss: 0.0664 - f1_m: 0.9613 - accuracy: 0.9778 - val_loss: 0.0673 - val_f1_m: 0.4319 - val_accuracy: 0.9781\n",
      "Epoch 12/20\n",
      "858/858 [==============================] - 18s 21ms/step - loss: 0.0621 - f1_m: 0.9653 - accuracy: 0.9804 - val_loss: 0.0772 - val_f1_m: 0.4209 - val_accuracy: 0.9711\n",
      "Epoch 12: early stopping\n"
     ]
    },
    {
     "data": {
      "text/plain": [
       "<keras.callbacks.History at 0x7fcc1cb66070>"
      ]
     },
     "execution_count": 15,
     "metadata": {},
     "output_type": "execute_result"
    }
   ],
   "source": [
    "epochs = 20\n",
    "batch_size = 32\n",
    "# define callbacks\n",
    "callbacks = [\n",
    "    ModelCheckpoint(\n",
    "        os.path.join(\"models\", \"LSTM_intrpTheta_checkpoint.h5\"), save_weights_only=True, monitor=\"val_loss\"\n",
    "    ),\n",
    "    EarlyStopping(monitor=\"val_loss\", patience=3, verbose=1),\n",
    "]\n",
    "# fit model\n",
    "model.fit(\n",
    "    X_train,\n",
    "    y_train,\n",
    "    batch_size=batch_size,\n",
    "    epochs=epochs,\n",
    "    callbacks=callbacks,\n",
    "    validation_data=(X_val, y_val),\n",
    "    verbose=1,\n",
    ")"
   ]
  },
  {
   "cell_type": "markdown",
   "metadata": {},
   "source": [
    "Validation results"
   ]
  },
  {
   "cell_type": "code",
   "execution_count": 16,
   "metadata": {},
   "outputs": [
    {
     "name": "stdout",
     "output_type": "stream",
     "text": [
      "429/429 [==============================] - 3s 6ms/step\n",
      "### Evaluation on validation set ###\n",
      "Accuracy: 0.97\n",
      "F1 score: 0.94\n",
      "[[9983   13]\n",
      " [ 383 3341]]\n"
     ]
    }
   ],
   "source": [
    "scores = model.evaluate(X_val, y_val, verbose=0)\n",
    "y_pred = np.round(model.predict(X_val), 0)\n",
    "\n",
    "print(\"### Evaluation on validation set ###\")\n",
    "print(\"Accuracy: %.2f\" % (accuracy_score(y_pred, y_val)))\n",
    "print(\"F1 score: %.2f\" % (f1_score(y_pred, y_val)))\n",
    "#Create confusion matrix and normalizes it over predicted (columns)\n",
    "result = confusion_matrix(y_val, y_pred)\n",
    "print(result)"
   ]
  },
  {
   "cell_type": "markdown",
   "metadata": {},
   "source": [
    "Test results"
   ]
  },
  {
   "cell_type": "code",
   "execution_count": 17,
   "metadata": {},
   "outputs": [
    {
     "name": "stdout",
     "output_type": "stream",
     "text": [
      "552/552 [==============================] - 4s 7ms/step\n",
      "### Evaluation on test set ###\n",
      "Accuracy: 0.98\n",
      "F1 score: 0.97\n",
      "[[10717    50]\n",
      " [  341  6532]]\n"
     ]
    }
   ],
   "source": [
    "scores = model.evaluate(X_test, y_test, verbose=0)\n",
    "y_pred = np.round(model.predict(X_test), 0)\n",
    "\n",
    "print(\"### Evaluation on test set ###\")\n",
    "print(\"Accuracy: %.2f\" % (accuracy_score(y_pred, y_test)))\n",
    "print(\"F1 score: %.2f\" % (f1_score(y_pred, y_test)))\n",
    "#Create confusion matrix and normalizes it over predicted (columns)\n",
    "result = confusion_matrix(y_test, y_pred)\n",
    "print(result)"
   ]
  },
  {
   "cell_type": "markdown",
   "metadata": {},
   "source": [
    "Results are still similar to the standard case"
   ]
  },
  {
   "cell_type": "markdown",
   "metadata": {},
   "source": [
    "#### Extrapolation"
   ]
  },
  {
   "cell_type": "markdown",
   "metadata": {},
   "source": [
    "Same model as before, but now we are fitting only in the dataset coming from the generation without using the extreme parameters: \n",
    "\n",
    "$\\theta=0.1$ and $\\theta=0.5$"
   ]
  },
  {
   "cell_type": "code",
   "execution_count": 18,
   "metadata": {},
   "outputs": [
    {
     "data": {
      "text/plain": [
       "((27440, 21), (13720, 21), (17640, 21))"
      ]
     },
     "execution_count": 18,
     "metadata": {},
     "output_type": "execute_result"
    }
   ],
   "source": [
    "p = 'theta'\n",
    "theta_train_list     = [0.1, 0.5]\n",
    "theta_train_list_idx = [params[p].index(t) for t in theta_train_list]\n",
    "theta_test_list      = [0.01, 3]\n",
    "theta_test_list_idx  = [params[p].index(t) for t in theta_test_list]\n",
    "\n",
    "# get the train and validation set, selecting the index for grid given the interpolation assuption\n",
    "# notice that theta is the third parameter\n",
    "df_train, df_val, _ = get_dataset_split(grid_X[:,:,theta_train_list_idx,:,:,:], \n",
    "                                        grid_y[:,:,theta_train_list_idx,:,:,:], \n",
    "                                        None, window_size=20, overlap_size=19,\n",
    "                                        label_treshold=1, split_on_run=True, shuffle_run=False, \n",
    "                                        shuffle_window=False, test_size = 0.3, val_size=0.2, \n",
    "                                        get_validation=True, random_state=42)\n",
    "# get the test set, selecting the index for grid given the interpolation assuption\n",
    "# notice that theta is the third parameter\n",
    "_, _, df_test = get_dataset_split(grid_X[:,:,theta_test_list_idx,:,:,:], \n",
    "                                  grid_y[:,:,theta_test_list_idx,:,:,:], \n",
    "                                  None, window_size=20, overlap_size=19,\n",
    "                                  label_treshold=1, split_on_run=True, shuffle_run=False, \n",
    "                                  shuffle_window=False, test_size = 0.3, val_size=0.2, \n",
    "                                  get_validation=True, random_state=42)\n",
    "df_train.shape, df_val.shape, df_test.shape"
   ]
  },
  {
   "cell_type": "code",
   "execution_count": 19,
   "metadata": {},
   "outputs": [
    {
     "name": "stdout",
     "output_type": "stream",
     "text": [
      "X ## Train: (27440, 20) Val: (13720, 20) Test: (17640, 20)\n",
      "y ## Train: (27440,) Val: (13720,) Test: (17640,)\n"
     ]
    }
   ],
   "source": [
    "X_train, y_train = df_train.iloc[:,:-1].to_numpy(), df_train.future_flare.to_numpy()\n",
    "X_val, y_val = df_val.iloc[:,:-1].to_numpy(), df_val.future_flare.to_numpy()\n",
    "X_test, y_test = df_test.iloc[:,:-1].to_numpy(), df_test.future_flare.to_numpy()\n",
    "X = np.vstack((X_train, X_val, X_test))\n",
    "y = np.hstack((y_train, y_val, y_test))\n",
    "print('X ## Train:', X_train.shape, 'Val:', X_val.shape, 'Test:', X_test.shape)\n",
    "print('y ## Train:', y_train.shape, 'Val:', y_val.shape, 'Test:', y_test.shape)"
   ]
  },
  {
   "cell_type": "markdown",
   "metadata": {},
   "source": [
    "Same model as before"
   ]
  },
  {
   "cell_type": "code",
   "execution_count": 20,
   "metadata": {},
   "outputs": [
    {
     "name": "stdout",
     "output_type": "stream",
     "text": [
      "Model: \"sequential_2\"\n",
      "_________________________________________________________________\n",
      " Layer (type)                Output Shape              Param #   \n",
      "=================================================================\n",
      " bidirectional_2 (Bidirectio  (None, 40)               3520      \n",
      " nal)                                                            \n",
      "                                                                 \n",
      " dense_6 (Dense)             (None, 30)                1230      \n",
      "                                                                 \n",
      " dense_7 (Dense)             (None, 10)                310       \n",
      "                                                                 \n",
      " dense_8 (Dense)             (None, 1)                 11        \n",
      "                                                                 \n",
      "=================================================================\n",
      "Total params: 5,071\n",
      "Trainable params: 5,071\n",
      "Non-trainable params: 0\n",
      "_________________________________________________________________\n",
      "None\n"
     ]
    }
   ],
   "source": [
    "initial_bias = Constant([np.log(true/pos)])\n",
    "# define model\n",
    "model = Sequential()\n",
    "model.add(Bidirectional(LSTM(20, activation='relu'), input_shape=(X_train.shape[1], 1)))\n",
    "model.add(Dense(30, activation='relu'))\n",
    "model.add(Dense(10, activation='relu'))\n",
    "model.add(Dense(1, activation='sigmoid',bias_initializer=initial_bias))\n",
    "model.compile(loss='binary_crossentropy', \n",
    "              optimizer='adam', \n",
    "              metrics=[f1_m, 'accuracy'])\n",
    "\n",
    "print(model.summary())"
   ]
  },
  {
   "cell_type": "code",
   "execution_count": 21,
   "metadata": {},
   "outputs": [
    {
     "name": "stdout",
     "output_type": "stream",
     "text": [
      "Epoch 1/20\n",
      "858/858 [==============================] - 21s 21ms/step - loss: 0.2294 - f1_m: 0.8324 - accuracy: 0.9000 - val_loss: 0.1431 - val_f1_m: 0.5246 - val_accuracy: 0.9388\n",
      "Epoch 2/20\n",
      "858/858 [==============================] - 18s 21ms/step - loss: 0.1341 - f1_m: 0.9218 - accuracy: 0.9404 - val_loss: 0.1242 - val_f1_m: 0.5323 - val_accuracy: 0.9481\n",
      "Epoch 3/20\n",
      "858/858 [==============================] - 17s 20ms/step - loss: 0.1155 - f1_m: 0.9368 - accuracy: 0.9509 - val_loss: 0.1149 - val_f1_m: 0.5423 - val_accuracy: 0.9548\n",
      "Epoch 4/20\n",
      "858/858 [==============================] - 17s 20ms/step - loss: 0.1013 - f1_m: 0.9462 - accuracy: 0.9582 - val_loss: 0.0884 - val_f1_m: 0.5544 - val_accuracy: 0.9657\n",
      "Epoch 5/20\n",
      "858/858 [==============================] - 18s 21ms/step - loss: 0.0890 - f1_m: 0.9530 - accuracy: 0.9636 - val_loss: 0.0895 - val_f1_m: 0.5404 - val_accuracy: 0.9649\n",
      "Epoch 6/20\n",
      "858/858 [==============================] - 17s 20ms/step - loss: 0.0810 - f1_m: 0.9581 - accuracy: 0.9675 - val_loss: 0.1046 - val_f1_m: 0.5642 - val_accuracy: 0.9508\n",
      "Epoch 7/20\n",
      "858/858 [==============================] - 18s 21ms/step - loss: 0.0740 - f1_m: 0.9621 - accuracy: 0.9706 - val_loss: 0.0680 - val_f1_m: 0.5580 - val_accuracy: 0.9758\n",
      "Epoch 8/20\n",
      "858/858 [==============================] - 18s 21ms/step - loss: 0.0696 - f1_m: 0.9657 - accuracy: 0.9731 - val_loss: 0.0663 - val_f1_m: 0.5600 - val_accuracy: 0.9765\n",
      "Epoch 9/20\n",
      "858/858 [==============================] - 17s 20ms/step - loss: 0.0655 - f1_m: 0.9666 - accuracy: 0.9745 - val_loss: 0.0610 - val_f1_m: 0.5643 - val_accuracy: 0.9797\n",
      "Epoch 10/20\n",
      "858/858 [==============================] - 17s 20ms/step - loss: 0.0619 - f1_m: 0.9692 - accuracy: 0.9765 - val_loss: 0.0580 - val_f1_m: 0.5706 - val_accuracy: 0.9803\n",
      "Epoch 11/20\n",
      "858/858 [==============================] - 17s 20ms/step - loss: 0.0584 - f1_m: 0.9720 - accuracy: 0.9781 - val_loss: 0.0530 - val_f1_m: 0.5692 - val_accuracy: 0.9822\n",
      "Epoch 12/20\n",
      "858/858 [==============================] - 18s 21ms/step - loss: 0.0565 - f1_m: 0.9714 - accuracy: 0.9779 - val_loss: 0.0578 - val_f1_m: 0.5750 - val_accuracy: 0.9789\n",
      "Epoch 13/20\n",
      "858/858 [==============================] - 18s 20ms/step - loss: 0.0547 - f1_m: 0.9724 - accuracy: 0.9788 - val_loss: 0.0730 - val_f1_m: 0.5507 - val_accuracy: 0.9707\n",
      "Epoch 14/20\n",
      "858/858 [==============================] - 17s 20ms/step - loss: 0.0505 - f1_m: 0.9760 - accuracy: 0.9816 - val_loss: 0.0580 - val_f1_m: 0.5724 - val_accuracy: 0.9800\n",
      "Epoch 14: early stopping\n"
     ]
    },
    {
     "data": {
      "text/plain": [
       "<keras.callbacks.History at 0x7fcc1cacca30>"
      ]
     },
     "execution_count": 21,
     "metadata": {},
     "output_type": "execute_result"
    }
   ],
   "source": [
    "epochs = 20\n",
    "batch_size = 32\n",
    "# define callbacks\n",
    "callbacks = [\n",
    "    ModelCheckpoint(\n",
    "        os.path.join(\"models\", \"LSTM_extrpTheta_checkpoint.h5\"), save_weights_only=True, monitor=\"val_loss\"\n",
    "    ),\n",
    "    EarlyStopping(monitor=\"val_loss\", patience=3, verbose=1),\n",
    "]\n",
    "# fit model\n",
    "model.fit(\n",
    "    X_train,\n",
    "    y_train,\n",
    "    batch_size=batch_size,\n",
    "    epochs=epochs,\n",
    "    callbacks=callbacks,\n",
    "    validation_data=(X_val, y_val),\n",
    "    verbose=1,\n",
    ")"
   ]
  },
  {
   "cell_type": "markdown",
   "metadata": {},
   "source": [
    "Validation results"
   ]
  },
  {
   "cell_type": "code",
   "execution_count": 22,
   "metadata": {},
   "outputs": [
    {
     "name": "stdout",
     "output_type": "stream",
     "text": [
      "429/429 [==============================] - 3s 6ms/step\n",
      "### Evaluation on validation set ###\n",
      "Accuracy: 0.98\n",
      "F1 score: 0.97\n",
      "[[8489  105]\n",
      " [ 170 4956]]\n"
     ]
    }
   ],
   "source": [
    "scores = model.evaluate(X_val, y_val, verbose=0)\n",
    "y_pred = np.round(model.predict(X_val), 0)\n",
    "\n",
    "print(\"### Evaluation on validation set ###\")\n",
    "print(\"Accuracy: %.2f\" % (accuracy_score(y_pred, y_val)))\n",
    "print(\"F1 score: %.2f\" % (f1_score(y_pred, y_val)))\n",
    "#Create confusion matrix and normalizes it over predicted (columns)\n",
    "result = confusion_matrix(y_val, y_pred)\n",
    "print(result)"
   ]
  },
  {
   "cell_type": "markdown",
   "metadata": {},
   "source": [
    "Test results"
   ]
  },
  {
   "cell_type": "code",
   "execution_count": 23,
   "metadata": {},
   "outputs": [
    {
     "name": "stdout",
     "output_type": "stream",
     "text": [
      "552/552 [==============================] - 3s 6ms/step\n",
      "### Evaluation on test set ###\n",
      "Accuracy: 0.96\n",
      "F1 score: 0.93\n",
      "[[12297   420]\n",
      " [  271  4652]]\n"
     ]
    }
   ],
   "source": [
    "scores = model.evaluate(X_test, y_test, verbose=0)\n",
    "y_pred = np.round(model.predict(X_test), 0)\n",
    "\n",
    "print(\"### Evaluation on test set ###\")\n",
    "print(\"Accuracy: %.2f\" % (accuracy_score(y_pred, y_test)))\n",
    "print(\"F1 score: %.2f\" % (f1_score(y_pred, y_test)))\n",
    "#Create confusion matrix and normalizes it over predicted (columns)\n",
    "result = confusion_matrix(y_test, y_pred)\n",
    "print(result)"
   ]
  }
 ],
 "metadata": {
  "colab": {
   "collapsed_sections": [
    "6GqkMZPr-ETk"
   ],
   "provenance": []
  },
  "kernelspec": {
   "display_name": "Python 3 (ipykernel)",
   "language": "python",
   "name": "python3"
  },
  "language_info": {
   "codemirror_mode": {
    "name": "ipython",
    "version": 3
   },
   "file_extension": ".py",
   "mimetype": "text/x-python",
   "name": "python",
   "nbconvert_exporter": "python",
   "pygments_lexer": "ipython3",
   "version": "3.8.16"
  },
  "vscode": {
   "interpreter": {
    "hash": "ad2bdc8ecc057115af97d19610ffacc2b4e99fae6737bb82f5d7fb13d2f2c186"
   }
  }
 },
 "nbformat": 4,
 "nbformat_minor": 1
}
