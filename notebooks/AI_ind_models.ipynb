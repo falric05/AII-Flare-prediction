{
  "cells": [
    {
      "cell_type": "markdown",
      "metadata": {
        "id": "BZUhJEvf-tKM"
      },
      "source": [
        "# AI in Industry project\n",
        "# Flare prediction\n",
        "- Ildebrando Simeoni - ildebrando.simeoni@studio.unibo.it\n",
        "- Davide Femia - davide.femia@studio.unibo.it\n",
        "- Riccardo Falco - riccardo.falco2@tudio.unibo.it\n",
        "- Vincenzo Collura - vincenzo.collura2@studio.unibo.it\n"
      ]
    },
    {
      "cell_type": "markdown",
      "metadata": {
        "id": "q_Rs7TGB9lqq"
      },
      "source": [
        "## Libraries"
      ]
    },
    {
      "cell_type": "code",
      "execution_count": null,
      "metadata": {
        "id": "AZoi-Of89r7G"
      },
      "outputs": [],
      "source": [
        "# TO DO: aggiungere tutte le librerie utili anche per LSTM e CNN"
      ]
    },
    {
      "cell_type": "code",
      "execution_count": null,
      "metadata": {
        "id": "IMy1hxhX-tKP"
      },
      "outputs": [],
      "source": [
        "%load_ext autoreload\n",
        "%autoreload 2\n",
        "from Libs.load_data import DataLoader\n",
        "import Libs.flares_plot as fplt\n",
        "from Libs.threshold import get_labels_physic\n",
        "import numpy as np\n",
        "import pandas as pd\n",
        "import plotly.graph_objects as go\n",
        "from plotly.subplots import make_subplots\n",
        "from sklearn.svm import SVC\n",
        "from sklearn.ensemble import RandomForestClassifier\n",
        "from sklearn.naive_bayes import GaussianNB\n",
        "from sklearn.neighbors import KNeighborsClassifier\n",
        "from sklearn.linear_model import LogisticRegression\n",
        "from sklearn.model_selection import train_test_split\n",
        "from sklearn.metrics import f1_score, accuracy_score, classification_report, confusion_matrix"
      ]
    },
    {
      "cell_type": "markdown",
      "metadata": {
        "id": "k-P2pI3e92tC"
      },
      "source": [
        "## Dataframe building"
      ]
    },
    {
      "cell_type": "code",
      "execution_count": null,
      "metadata": {
        "id": "AMoQ55Y194rM"
      },
      "outputs": [],
      "source": [
        "# TO DO: sostituire tutte le seguenti celle con la funzione di Davide per creare il dataframe con cui traineremo tutti i modelli"
      ]
    },
    {
      "cell_type": "markdown",
      "metadata": {
        "id": "6GqkMZPr-ETk"
      },
      "source": [
        "### Da sostituire"
      ]
    },
    {
      "cell_type": "code",
      "execution_count": null,
      "metadata": {
        "colab": {
          "base_uri": "https://localhost:8080/"
        },
        "id": "_U1MES1n-tKR",
        "outputId": "a66ff44b-6117-466f-bd3b-4b14fe265c75"
      },
      "outputs": [
        {
          "data": {
            "text/plain": [
              "{'run': 30,\n",
              " 'sigma': [0.3, 0.4, 0.5, 0.6],\n",
              " 'theta': [0.01, 0.1, 0.5, 3],\n",
              " 'mu': [0.8, 0.9, 1, 1.1],\n",
              " 'delta': [0.01, 0.05, 0.1, 0.2, 0.25, 0.3, 0.4, 0.5, 0.6, 0.7],\n",
              " 'N': 1000}"
            ]
          },
          "execution_count": 2,
          "metadata": {},
          "output_type": "execute_result"
        }
      ],
      "source": [
        "# initialize data loader\n",
        "data_loader = DataLoader()\n",
        "# get the grid\n",
        "grid = data_loader.get_grid()\n",
        "# get params dictionary\n",
        "params = data_loader.get_params()\n",
        "\n",
        "params"
      ]
    },
    {
      "cell_type": "code",
      "execution_count": null,
      "metadata": {
        "colab": {
          "base_uri": "https://localhost:8080/"
        },
        "id": "WlFi2sXLHdOe",
        "outputId": "0b355d9f-231e-4963-934d-6893c339f114"
      },
      "outputs": [
        {
          "name": "stdout",
          "output_type": "stream",
          "text": [
            "(30, 4, 4, 4, 10, 1000)\n"
          ]
        }
      ],
      "source": [
        "print(grid.shape)"
      ]
    },
    {
      "cell_type": "code",
      "execution_count": null,
      "metadata": {
        "id": "tqlWrnjJ-1ac"
      },
      "outputs": [],
      "source": [
        "run, mu, sigma, theta, delta = 0, 1, 0.5, 3, 0.2"
      ]
    },
    {
      "cell_type": "code",
      "execution_count": null,
      "metadata": {
        "id": "w8PjUwCE-tKV"
      },
      "outputs": [],
      "source": [
        "# get labels following physics method\n",
        "physic_labels = get_labels_physic(grid, params, alpha=2)\n"
      ]
    },
    {
      "cell_type": "code",
      "execution_count": null,
      "metadata": {
        "colab": {
          "base_uri": "https://localhost:8080/",
          "height": 295
        },
        "id": "55Kcimy4-tKV",
        "outputId": "2db96c25-0ab8-4246-be49-bc0367e4aa5c"
      },
      "outputs": [
        {
          "data": {
            "image/png": "[encoded data removed]",
            "text/plain": [
              "<Figure size 1400x400 with 1 Axes>"
            ]
          },
          "metadata": {},
          "output_type": "display_data"
        }
      ],
      "source": [
        "run, mu, sigma, theta, delta = 1, 1, 0.3, 0.1, 0.5\n",
        "# focuses on specific runs\n",
        "#fplt.plot_grid_datapoints(grid, params, run=run, mu=mu, sigma=sigma, theta=theta, delta=delta, labels=labels)\n",
        "# focuses on a set of runs\n",
        "fplt.plot_grid_datapoints(grid, params, mu=mu, sigma=sigma, theta=theta, delta=delta,\n",
        "                          num_run=5, variation='run', labels=physic_labels, title='physic labels')"
      ]
    },
    {
      "cell_type": "code",
      "execution_count": null,
      "metadata": {
        "colab": {
          "base_uri": "https://localhost:8080/",
          "height": 295
        },
        "id": "3BwslV5D-tKX",
        "outputId": "e19a4756-259d-4dd2-999d-15a4e97fca60"
      },
      "outputs": [
        {
          "data": {
            "image/png": "[encoded data removed]",
            "text/plain": [
              "<Figure size 1400x400 with 1 Axes>"
            ]
          },
          "metadata": {},
          "output_type": "display_data"
        }
      ],
      "source": [
        "# # extract the standard values\n",
        "run = 6\n",
        "labels_best = physic_labels\n",
        "# labels_best = kde_labels\n",
        "# labels_best = quantile_labels\n",
        "bindexes = data_loader.get_standard_indexes()\n",
        "X_best = data_loader.get_standard_values(run=run)\n",
        "best_labels = labels_best[run, bindexes[0], bindexes[1], bindexes[2], bindexes[3], :]\n",
        "\n",
        "# # plot one single light curve\n",
        "fplt.plot_serie(X_best, labels=best_labels, title='random run on the best parameters and best labelling method')"
      ]
    },
    {
      "cell_type": "code",
      "execution_count": null,
      "metadata": {
        "colab": {
          "base_uri": "https://localhost:8080/",
          "height": 423
        },
        "id": "THGpACKh-tKZ",
        "outputId": "0f3f7e29-6cb4-4941-8aa6-b45b3dea4c8d"
      },
      "outputs": [
        {
          "data": {
            "text/html": [
              "<div>\n",
              "<style scoped>\n",
              "    .dataframe tbody tr th:only-of-type {\n",
              "        vertical-align: middle;\n",
              "    }\n",
              "\n",
              "    .dataframe tbody tr th {\n",
              "        vertical-align: top;\n",
              "    }\n",
              "\n",
              "    .dataframe thead th {\n",
              "        text-align: right;\n",
              "    }\n",
              "</style>\n",
              "<table border=\"1\" class=\"dataframe\">\n",
              "  <thead>\n",
              "    <tr style=\"text-align: right;\">\n",
              "      <th></th>\n",
              "      <th>t_0</th>\n",
              "      <th>t_1</th>\n",
              "      <th>t_2</th>\n",
              "      <th>t_3</th>\n",
              "      <th>t_4</th>\n",
              "      <th>t_5</th>\n",
              "      <th>t_6</th>\n",
              "      <th>t_7</th>\n",
              "      <th>t_8</th>\n",
              "      <th>t_9</th>\n",
              "      <th>future_flare</th>\n",
              "    </tr>\n",
              "  </thead>\n",
              "  <tbody>\n",
              "    <tr>\n",
              "      <th>0</th>\n",
              "      <td>1.000000</td>\n",
              "      <td>0.987600</td>\n",
              "      <td>0.785896</td>\n",
              "      <td>0.841577</td>\n",
              "      <td>0.832249</td>\n",
              "      <td>0.782339</td>\n",
              "      <td>1.098576</td>\n",
              "      <td>1.034369</td>\n",
              "      <td>1.065688</td>\n",
              "      <td>1.396328</td>\n",
              "      <td>0</td>\n",
              "    </tr>\n",
              "    <tr>\n",
              "      <th>1</th>\n",
              "      <td>1.344950</td>\n",
              "      <td>1.361417</td>\n",
              "      <td>1.454124</td>\n",
              "      <td>1.481221</td>\n",
              "      <td>1.739084</td>\n",
              "      <td>1.824354</td>\n",
              "      <td>1.865991</td>\n",
              "      <td>1.748245</td>\n",
              "      <td>2.016654</td>\n",
              "      <td>1.962600</td>\n",
              "      <td>0</td>\n",
              "    </tr>\n",
              "    <tr>\n",
              "      <th>2</th>\n",
              "      <td>2.136767</td>\n",
              "      <td>1.900910</td>\n",
              "      <td>1.842975</td>\n",
              "      <td>1.392468</td>\n",
              "      <td>0.936490</td>\n",
              "      <td>1.009156</td>\n",
              "      <td>1.114423</td>\n",
              "      <td>1.093375</td>\n",
              "      <td>1.016034</td>\n",
              "      <td>1.035544</td>\n",
              "      <td>0</td>\n",
              "    </tr>\n",
              "    <tr>\n",
              "      <th>3</th>\n",
              "      <td>1.111971</td>\n",
              "      <td>1.152431</td>\n",
              "      <td>0.897187</td>\n",
              "      <td>0.842220</td>\n",
              "      <td>1.124429</td>\n",
              "      <td>1.031089</td>\n",
              "      <td>1.097192</td>\n",
              "      <td>1.374208</td>\n",
              "      <td>1.586394</td>\n",
              "      <td>1.373240</td>\n",
              "      <td>0</td>\n",
              "    </tr>\n",
              "    <tr>\n",
              "      <th>4</th>\n",
              "      <td>1.148019</td>\n",
              "      <td>1.039919</td>\n",
              "      <td>1.102339</td>\n",
              "      <td>1.152287</td>\n",
              "      <td>1.061448</td>\n",
              "      <td>0.908979</td>\n",
              "      <td>0.846604</td>\n",
              "      <td>0.678237</td>\n",
              "      <td>0.596491</td>\n",
              "      <td>0.666381</td>\n",
              "      <td>0</td>\n",
              "    </tr>\n",
              "    <tr>\n",
              "      <th>...</th>\n",
              "      <td>...</td>\n",
              "      <td>...</td>\n",
              "      <td>...</td>\n",
              "      <td>...</td>\n",
              "      <td>...</td>\n",
              "      <td>...</td>\n",
              "      <td>...</td>\n",
              "      <td>...</td>\n",
              "      <td>...</td>\n",
              "      <td>...</td>\n",
              "      <td>...</td>\n",
              "    </tr>\n",
              "    <tr>\n",
              "      <th>2965</th>\n",
              "      <td>0.087812</td>\n",
              "      <td>0.062624</td>\n",
              "      <td>0.065280</td>\n",
              "      <td>0.052309</td>\n",
              "      <td>0.048366</td>\n",
              "      <td>0.055236</td>\n",
              "      <td>0.058978</td>\n",
              "      <td>0.063442</td>\n",
              "      <td>0.058054</td>\n",
              "      <td>0.055112</td>\n",
              "      <td>0</td>\n",
              "    </tr>\n",
              "    <tr>\n",
              "      <th>2966</th>\n",
              "      <td>0.057390</td>\n",
              "      <td>0.063970</td>\n",
              "      <td>0.063839</td>\n",
              "      <td>0.053189</td>\n",
              "      <td>0.038101</td>\n",
              "      <td>0.037498</td>\n",
              "      <td>0.047341</td>\n",
              "      <td>0.045256</td>\n",
              "      <td>0.053053</td>\n",
              "      <td>0.052463</td>\n",
              "      <td>0</td>\n",
              "    </tr>\n",
              "    <tr>\n",
              "      <th>2967</th>\n",
              "      <td>0.056596</td>\n",
              "      <td>0.056859</td>\n",
              "      <td>0.059152</td>\n",
              "      <td>0.059293</td>\n",
              "      <td>0.060328</td>\n",
              "      <td>0.054363</td>\n",
              "      <td>0.052793</td>\n",
              "      <td>0.051796</td>\n",
              "      <td>0.059634</td>\n",
              "      <td>0.063387</td>\n",
              "      <td>0</td>\n",
              "    </tr>\n",
              "    <tr>\n",
              "      <th>2968</th>\n",
              "      <td>0.065167</td>\n",
              "      <td>0.055373</td>\n",
              "      <td>0.063792</td>\n",
              "      <td>0.072816</td>\n",
              "      <td>0.072152</td>\n",
              "      <td>0.065053</td>\n",
              "      <td>0.057493</td>\n",
              "      <td>0.055421</td>\n",
              "      <td>0.058620</td>\n",
              "      <td>0.050251</td>\n",
              "      <td>0</td>\n",
              "    </tr>\n",
              "    <tr>\n",
              "      <th>2969</th>\n",
              "      <td>0.053881</td>\n",
              "      <td>0.046497</td>\n",
              "      <td>0.041733</td>\n",
              "      <td>0.038112</td>\n",
              "      <td>0.044051</td>\n",
              "      <td>0.051820</td>\n",
              "      <td>0.057746</td>\n",
              "      <td>0.048656</td>\n",
              "      <td>0.054371</td>\n",
              "      <td>0.048471</td>\n",
              "      <td>0</td>\n",
              "    </tr>\n",
              "  </tbody>\n",
              "</table>\n",
              "<p>2970 rows × 11 columns</p>\n",
              "</div>"
            ],
            "text/plain": [
              "           t_0       t_1       t_2       t_3       t_4       t_5       t_6  \\\n",
              "0     1.000000  0.987600  0.785896  0.841577  0.832249  0.782339  1.098576   \n",
              "1     1.344950  1.361417  1.454124  1.481221  1.739084  1.824354  1.865991   \n",
              "2     2.136767  1.900910  1.842975  1.392468  0.936490  1.009156  1.114423   \n",
              "3     1.111971  1.152431  0.897187  0.842220  1.124429  1.031089  1.097192   \n",
              "4     1.148019  1.039919  1.102339  1.152287  1.061448  0.908979  0.846604   \n",
              "...        ...       ...       ...       ...       ...       ...       ...   \n",
              "2965  0.087812  0.062624  0.065280  0.052309  0.048366  0.055236  0.058978   \n",
              "2966  0.057390  0.063970  0.063839  0.053189  0.038101  0.037498  0.047341   \n",
              "2967  0.056596  0.056859  0.059152  0.059293  0.060328  0.054363  0.052793   \n",
              "2968  0.065167  0.055373  0.063792  0.072816  0.072152  0.065053  0.057493   \n",
              "2969  0.053881  0.046497  0.041733  0.038112  0.044051  0.051820  0.057746   \n",
              "\n",
              "           t_7       t_8       t_9  future_flare  \n",
              "0     1.034369  1.065688  1.396328             0  \n",
              "1     1.748245  2.016654  1.962600             0  \n",
              "2     1.093375  1.016034  1.035544             0  \n",
              "3     1.374208  1.586394  1.373240             0  \n",
              "4     0.678237  0.596491  0.666381             0  \n",
              "...        ...       ...       ...           ...  \n",
              "2965  0.063442  0.058054  0.055112             0  \n",
              "2966  0.045256  0.053053  0.052463             0  \n",
              "2967  0.051796  0.059634  0.063387             0  \n",
              "2968  0.055421  0.058620  0.050251             0  \n",
              "2969  0.048656  0.054371  0.048471             0  \n",
              "\n",
              "[2970 rows x 11 columns]"
            ]
          },
          "execution_count": 8,
          "metadata": {},
          "output_type": "execute_result"
        }
      ],
      "source": [
        "best_Xs = grid[:, bindexes[0], bindexes[1], bindexes[2], bindexes[3], :]\n",
        "best_labels = labels_best[:, bindexes[0], bindexes[1], bindexes[2], bindexes[3], :]\n",
        "\n",
        "window_size = 10\n",
        "overlap_size = 0\n",
        "label_treshold = 1\n",
        "stride = window_size - overlap_size\n",
        "num_windows = (best_Xs.shape[-1]-window_size)//stride + 1\n",
        "\n",
        "windows = np.zeros((best_Xs.shape[0]*(num_windows-1),window_size))\n",
        "windows_label = np.zeros((best_labels.shape[0]*(num_windows-1),window_size), dtype='bool')\n",
        "\n",
        "\n",
        "for i in range(best_Xs.shape[0]):\n",
        "    tmp_windows = np.array([best_Xs[i,j:j+window_size] for j in range(0,stride*num_windows,stride)])\n",
        "    tmp_windows_labels = np.array([best_labels[i,j:j+window_size] for j in range(0,stride*num_windows,stride)])\n",
        "    windows[i*(num_windows-1):(i+1)*(num_windows-1)] = tmp_windows[:-1,:]\n",
        "    windows_label[i*(num_windows-1):(i+1)*(num_windows-1)] = tmp_windows_labels[1:,:]\n",
        "\n",
        "windows_label = np.sum(windows_label, axis=-1)\n",
        "windows_label[windows_label<label_treshold] = 0\n",
        "windows_label[windows_label>=label_treshold] = 1\n",
        "\n",
        "windows_df = pd.DataFrame(windows, columns=[f't_{i}' for i in range(windows.shape[-1])])\n",
        "label_df = pd.DataFrame({'future_flare':windows_label})\n",
        "labelled_windows_df = pd.concat([windows_df, label_df], axis=1)\n",
        "\n",
        "labelled_windows_df\n",
        "\n"
      ]
    },
    {
      "cell_type": "code",
      "execution_count": null,
      "metadata": {
        "colab": {
          "base_uri": "https://localhost:8080/"
        },
        "id": "6mUunMkF-tKa",
        "outputId": "24771728-1b1a-47a9-d0dd-bda6772b04f8"
      },
      "outputs": [
        {
          "data": {
            "text/plain": [
              "0    2782\n",
              "1     188\n",
              "Name: future_flare, dtype: int64"
            ]
          },
          "execution_count": 9,
          "metadata": {},
          "output_type": "execute_result"
        }
      ],
      "source": [
        "labelled_windows_df['future_flare'].value_counts()"
      ]
    },
    {
      "cell_type": "code",
      "execution_count": null,
      "metadata": {
        "id": "RdkNXf8H-tKa"
      },
      "outputs": [],
      "source": [
        "test_size = 0.3\n",
        "random_state = 42\n",
        "\n",
        "X = labelled_windows_df.iloc[:,:-1].to_numpy()\n",
        "y = labelled_windows_df.future_flare.to_numpy()\n",
        "X_train, X_test, y_train, y_test = train_test_split(X, y, test_size=test_size, random_state=random_state)\n",
        "class_weights = {0: 1, 1: 5}\n"
      ]
    },
    {
      "cell_type": "markdown",
      "metadata": {
        "id": "10f6eWyl-Kq1"
      },
      "source": [
        "## Models"
      ]
    },
    {
      "cell_type": "markdown",
      "metadata": {
        "id": "xCcYSR-z-M3Q"
      },
      "source": [
        "### Simple models"
      ]
    },
    {
      "cell_type": "code",
      "execution_count": null,
      "metadata": {
        "id": "C__AnjSy_FFD"
      },
      "outputs": [],
      "source": [
        "class_weights = {0: 1, 1: 5}"
      ]
    },
    {
      "cell_type": "code",
      "execution_count": null,
      "metadata": {
        "id": "Nbxqjb4A-crf"
      },
      "outputs": [],
      "source": [
        "# TO DO: valutare se spostare queste funzioni nella libreria, e se tenere solo alcuni di questi modelli (i.e. quelli le cui predizioni probabilistiche non sono 1/0)"
      ]
    },
    {
      "cell_type": "code",
      "execution_count": null,
      "metadata": {
        "id": "eXHGzVqM9Mfu"
      },
      "outputs": [],
      "source": [
        "def train_classifier(X_train, y_train, class_weights):\n",
        "\n",
        "    model_svc = SVC(class_weight= class_weights, probability=True).fit(X_train, y_train)\n",
        "    model_rf = RandomForestClassifier(class_weight= class_weights).fit(X_train, y_train)\n",
        "    model_nb = GaussianNB().fit(X_train, y_train)\n",
        "    model_lr = LogisticRegression(class_weight= class_weights).fit(X_train, y_train)\n",
        "    model_knn = KNeighborsClassifier().fit(X_train, y_train)\n",
        "\n",
        "    return model_svc, model_rf, model_nb, model_lr, model_knn"
      ]
    },
    {
      "cell_type": "code",
      "execution_count": null,
      "metadata": {
        "id": "VCVs6emL9Mfv"
      },
      "outputs": [],
      "source": [
        "def test_predictions(model_svc, model_rf, model_nb, model_lr, model_knn):\n",
        "\n",
        "    y_pred_svc = model_svc.predict(X_test)\n",
        "    y_pred_rf = model_rf.predict(X_test)\n",
        "    y_pred_nb = model_nb.predict(X_test)\n",
        "    y_pred_lr = model_lr.predict(X_test)\n",
        "    y_pred_knn = model_knn.predict(X_test)\n",
        "\n",
        "    return y_pred_svc, y_pred_rf, y_pred_nb, y_pred_lr, y_pred_knn"
      ]
    },
    {
      "cell_type": "code",
      "execution_count": null,
      "metadata": {
        "id": "9jncHlme9Mfw"
      },
      "outputs": [],
      "source": [
        "def print_classification_reports(y_test, y_pred_svc, y_pred_rf, y_pred_nb, y_pred_lr, y_pred_knn):\n",
        "    \n",
        "    print(\"classification reports:\\n\")\n",
        "    print(\"SVC\\n\\n\")\n",
        "    print(classification_report(y_test, y_pred_svc))\n",
        "    report_svc = classification_report(y_test, y_pred_svc, output_dict=True)\n",
        "    print(\"\\nRANDOM FOREST\\n\\n\")\n",
        "    print(classification_report(y_test, y_pred_rf))\n",
        "    report_rf = classification_report(y_test, y_pred_rf, output_dict=True)\n",
        "    print(\"\\nNAIVE BAYES\\n\\n\")\n",
        "    print(classification_report(y_test, y_pred_nb))\n",
        "    report_nb = classification_report(y_test, y_pred_nb, output_dict=True)\n",
        "    print(\"\\nLOGISTIC REGRESSION\\n\\n\")\n",
        "    print(classification_report(y_test, y_pred_lr))\n",
        "    report_lr = classification_report(y_test, y_pred_lr, output_dict=True)\n",
        "    print(\"\\nKNN\\n\\n\")\n",
        "    print(classification_report(y_test, y_pred_knn))\n",
        "    report_knn = classification_report(y_test, y_pred_knn, output_dict=True)\n",
        "\n",
        "    return report_svc, report_rf, report_nb, report_lr, report_knn"
      ]
    },
    {
      "cell_type": "code",
      "execution_count": null,
      "metadata": {
        "id": "Q0bOzLA8-tKb"
      },
      "outputs": [],
      "source": [
        "def print_confusion_matrices(y_test, y_pred_svc, y_pred_rf, y_pred_nb, y_pred_lr, y_pred_knn):\n",
        "    \n",
        "    cm = []\n",
        "\n",
        "    print(\"classification reports:\\n\")\n",
        "    print(\"SVC\\n\\n\")\n",
        "    print(confusion_matrix(y_test, y_pred_svc))\n",
        "    cm.append(confusion_matrix(y_test, y_pred_svc))\n",
        "    print(\"\\nRANDOM FOREST\\n\\n\")\n",
        "    print(confusion_matrix(y_test, y_pred_rf))\n",
        "    cm.append(confusion_matrix(y_test, y_pred_rf))\n",
        "    print(\"\\nNAIVE BAYES\\n\\n\")\n",
        "    print(confusion_matrix(y_test, y_pred_nb))\n",
        "    cm.append(confusion_matrix(y_test, y_pred_nb))\n",
        "    print(\"\\nLOGISTIC REGRESSION\\n\\n\")\n",
        "    print(confusion_matrix(y_test, y_pred_lr))\n",
        "    cm.append(confusion_matrix(y_test, y_pred_lr))\n",
        "    print(\"\\nKNN\\n\\n\")\n",
        "    print(confusion_matrix(y_test, y_pred_knn))\n",
        "    cm.append(confusion_matrix(y_test, y_pred_knn))\n",
        "\n",
        "    return cm"
      ]
    },
    {
      "cell_type": "code",
      "execution_count": null,
      "metadata": {
        "id": "ghRNZOYX-vJn"
      },
      "outputs": [],
      "source": [
        "model_svc, model_rf, model_nb, model_lr, model_knn = train_classifier(X_train, y_train, class_weights)\n",
        "print(\"Probability prediction examples:\\n\")\n",
        "print(\"SVC\\n\\n\")\n",
        "print(model_svc.predict_proba(X_test))\n",
        "print(\"\\nRANDOM FOREST\\n\\n\")\n",
        "print(model_rf.predict_proba(X_test))\n",
        "print(\"\\nNAIVE BAYES\\n\\n\")\n",
        "print(model_nb.predict_proba(X_test))\n",
        "print(\"\\nLOGISTIC REGRESSION\\n\\n\")\n",
        "print(model_lr.predict_proba(X_test))\n",
        "print(\"\\nKNN\\n\\n\")\n",
        "print(model_knn.predict_proba(X_test))"
      ]
    },
    {
      "cell_type": "code",
      "execution_count": null,
      "metadata": {
        "id": "fCt1TzhS9Mfw"
      },
      "outputs": [],
      "source": [
        "y_pred_svc, y_pred_rf, y_pred_nb, y_pred_lr, y_pred_knn = test_predictions(model_svc, model_rf, model_nb, model_lr, model_knn)"
      ]
    },
    {
      "cell_type": "code",
      "execution_count": null,
      "metadata": {
        "id": "NS8cB63E9Mfx",
        "outputId": "84714991-2445-447c-d2d7-72f09b088e19"
      },
      "outputs": [
        {
          "name": "stdout",
          "output_type": "stream",
          "text": [
            "classification reports:\n",
            "\n",
            "SVC\n",
            "\n",
            "\n",
            "              precision    recall  f1-score   support\n",
            "\n",
            "           0       0.99      0.99      0.99       835\n",
            "           1       0.86      0.89      0.88        56\n",
            "\n",
            "    accuracy                           0.98       891\n",
            "   macro avg       0.93      0.94      0.93       891\n",
            "weighted avg       0.98      0.98      0.98       891\n",
            "\n",
            "\n",
            "RANDOM FOREST\n",
            "\n",
            "\n",
            "              precision    recall  f1-score   support\n",
            "\n",
            "           0       0.98      1.00      0.99       835\n",
            "           1       0.95      0.62      0.75        56\n",
            "\n",
            "    accuracy                           0.97       891\n",
            "   macro avg       0.96      0.81      0.87       891\n",
            "weighted avg       0.97      0.97      0.97       891\n",
            "\n",
            "\n",
            "NAIVE BAYES\n",
            "\n",
            "\n",
            "              precision    recall  f1-score   support\n",
            "\n",
            "           0       0.99      0.98      0.99       835\n",
            "           1       0.74      0.89      0.81        56\n",
            "\n",
            "    accuracy                           0.97       891\n",
            "   macro avg       0.86      0.94      0.90       891\n",
            "weighted avg       0.98      0.97      0.97       891\n",
            "\n",
            "\n",
            "LOGISTIC REGRESSION\n",
            "\n",
            "\n",
            "              precision    recall  f1-score   support\n",
            "\n",
            "           0       0.98      1.00      0.99       835\n",
            "           1       0.91      0.77      0.83        56\n",
            "\n",
            "    accuracy                           0.98       891\n",
            "   macro avg       0.95      0.88      0.91       891\n",
            "weighted avg       0.98      0.98      0.98       891\n",
            "\n",
            "\n",
            "KNN\n",
            "\n",
            "\n",
            "              precision    recall  f1-score   support\n",
            "\n",
            "           0       0.98      1.00      0.99       835\n",
            "           1       0.91      0.75      0.82        56\n",
            "\n",
            "    accuracy                           0.98       891\n",
            "   macro avg       0.95      0.87      0.91       891\n",
            "weighted avg       0.98      0.98      0.98       891\n",
            "\n"
          ]
        }
      ],
      "source": [
        "report_svc, report_rf, report_nb, report_lr, report_knn = print_classification_reports(y_test, y_pred_svc, y_pred_rf, y_pred_nb, y_pred_lr, y_pred_knn)"
      ]
    },
    {
      "cell_type": "code",
      "execution_count": null,
      "metadata": {
        "id": "Fd1OqVl99Mfz",
        "outputId": "4b3a2120-4896-438e-d978-79ffe7300b9d"
      },
      "outputs": [
        {
          "name": "stdout",
          "output_type": "stream",
          "text": [
            "classification reports:\n",
            "\n",
            "SVC\n",
            "\n",
            "\n",
            "[[827   8]\n",
            " [  6  50]]\n",
            "\n",
            "RANDOM FOREST\n",
            "\n",
            "\n",
            "[[833   2]\n",
            " [ 21  35]]\n",
            "\n",
            "NAIVE BAYES\n",
            "\n",
            "\n",
            "[[817  18]\n",
            " [  6  50]]\n",
            "\n",
            "LOGISTIC REGRESSION\n",
            "\n",
            "\n",
            "[[831   4]\n",
            " [ 13  43]]\n",
            "\n",
            "KNN\n",
            "\n",
            "\n",
            "[[831   4]\n",
            " [ 14  42]]\n"
          ]
        }
      ],
      "source": [
        "cm = print_confusion_matrices(y_test, y_pred_svc, y_pred_rf, y_pred_nb, y_pred_lr, y_pred_knn)"
      ]
    },
    {
      "cell_type": "markdown",
      "metadata": {
        "id": "sY415R-r-OkG"
      },
      "source": [
        "### LSTM"
      ]
    },
    {
      "cell_type": "code",
      "execution_count": null,
      "metadata": {},
      "outputs": [
        {
          "name": "stderr",
          "output_type": "stream",
          "text": [
            "2023-03-11 16:38:40.776540: I tensorflow/core/platform/cpu_feature_guard.cc:193] This TensorFlow binary is optimized with oneAPI Deep Neural Network Library (oneDNN) to use the following CPU instructions in performance-critical operations:  AVX2 FMA\n",
            "To enable them in other operations, rebuild TensorFlow with the appropriate compiler flags.\n",
            "2023-03-11 16:38:41.470247: W tensorflow/compiler/xla/stream_executor/platform/default/dso_loader.cc:64] Could not load dynamic library 'libcudart.so.11.0'; dlerror: libcudart.so.11.0: cannot open shared object file: No such file or directory\n",
            "2023-03-11 16:38:41.470340: I tensorflow/compiler/xla/stream_executor/cuda/cudart_stub.cc:29] Ignore above cudart dlerror if you do not have a GPU set up on your machine.\n",
            "2023-03-11 16:38:44.698281: W tensorflow/compiler/xla/stream_executor/platform/default/dso_loader.cc:64] Could not load dynamic library 'libnvinfer.so.7'; dlerror: libnvinfer.so.7: cannot open shared object file: No such file or directory\n",
            "2023-03-11 16:38:44.698501: W tensorflow/compiler/xla/stream_executor/platform/default/dso_loader.cc:64] Could not load dynamic library 'libnvinfer_plugin.so.7'; dlerror: libnvinfer_plugin.so.7: cannot open shared object file: No such file or directory\n",
            "2023-03-11 16:38:44.698517: W tensorflow/compiler/tf2tensorrt/utils/py_utils.cc:38] TF-TRT Warning: Cannot dlopen some TensorRT libraries. If you would like to use Nvidia GPU with TensorRT, please make sure the missing libraries mentioned above are installed properly.\n"
          ]
        }
      ],
      "source": [
        "import numpy as np\n",
        "import pandas as pd\n",
        "import os\n",
        "from sklearn.metrics import f1_score, accuracy_score, confusion_matrix\n",
        "\n",
        "from keras.models import Sequential\n",
        "from keras.layers import Dense, LSTM, Bidirectional\n",
        "from keras.callbacks import ModelCheckpoint, ReduceLROnPlateau, EarlyStopping\n",
        "from keras.initializers import Constant\n",
        "from itertools import product\n",
        "from tqdm import tqdm\n",
        "\n",
        "\n",
        "from Libs.load_data import ClassificationDataLoader, DataLoader, get_dataset_split\n",
        "from Libs.threshold import get_labels_physic\n",
        "from Libs.keras_f1score import f1_m"
      ]
    },
    {
      "attachments": {},
      "cell_type": "markdown",
      "metadata": {},
      "source": [
        "For this test we attempted the following configuration\n",
        "```\n",
        "{'run': 100,\n",
        " 'sigma': [0.5],\n",
        " 'theta': [0.01],\n",
        " 'mu': [1],\n",
        " 'delta': [0.2],\n",
        " 'N': 1000}\n",
        "```"
      ]
    },
    {
      "cell_type": "code",
      "execution_count": null,
      "metadata": {},
      "outputs": [
        {
          "data": {
            "text/plain": [
              "{'run': 100,\n",
              " 'sigma': [0.5],\n",
              " 'theta': [0.01],\n",
              " 'mu': [1],\n",
              " 'delta': [0.2],\n",
              " 'N': 1000}"
            ]
          },
          "metadata": {},
          "output_type": "display_data"
        }
      ],
      "source": [
        "data_loader = ClassificationDataLoader(run=100, N=1000, s=0.5, t=0.01, d=0.2, m=1)\n",
        "params = data_loader.get_params()\n",
        "params"
      ]
    },
    {
      "cell_type": "code",
      "execution_count": null,
      "metadata": {},
      "outputs": [
        {
          "name": "stdout",
          "output_type": "stream",
          "text": [
            "Loading Data\n"
          ]
        },
        {
          "name": "stderr",
          "output_type": "stream",
          "text": [
            "100%|██████████| 100/100 [00:00<00:00, 322.71it/s]"
          ]
        },
        {
          "name": "stdout",
          "output_type": "stream",
          "text": [
            "Loading Labels\n",
            "Labels Loaded\n"
          ]
        },
        {
          "name": "stderr",
          "output_type": "stream",
          "text": [
            "\n"
          ]
        }
      ],
      "source": [
        "Xs, best_labels = data_loader.load_data(override=True)"
      ]
    },
    {
      "cell_type": "code",
      "execution_count": null,
      "metadata": {},
      "outputs": [],
      "source": [
        "bindexes = data_loader.get_standard_indexes()\n",
        "df_train,df_val,df_test = get_dataset_split(Xs, best_labels, bindexes, window_size=20, overlap_size=19,\n",
        "                                            label_treshold=1, split_on_run=True, shuffle_run=False, \n",
        "                                            shuffle_window=False, test_size = 0.3, val_size=0.2, \n",
        "                                            get_validation=True, random_state=42)"
      ]
    },
    {
      "cell_type": "code",
      "execution_count": null,
      "metadata": {},
      "outputs": [
        {
          "name": "stdout",
          "output_type": "stream",
          "text": [
            "Training set:\n",
            "0    43768\n",
            "1     4252\n",
            "Name: future_flare, dtype: int64 \n",
            "\n",
            "validation set:\n",
            "0    18233\n",
            "1     2347\n",
            "Name: future_flare, dtype: int64 \n",
            "\n",
            "Test set:\n",
            "0    26357\n",
            "1     3043\n",
            "Name: future_flare, dtype: int64 \n",
            "\n"
          ]
        }
      ],
      "source": [
        "# number of classes\n",
        "print('Training set:')\n",
        "print(df_train['future_flare'].value_counts(), '\\n')\n",
        "pos = df_train['future_flare'].value_counts()[0]\n",
        "true = df_train['future_flare'].value_counts()[1]\n",
        "print('validation set:')\n",
        "print(df_val['future_flare'].value_counts(), '\\n')\n",
        "print('Test set:')\n",
        "print(df_test['future_flare'].value_counts(), '\\n')"
      ]
    },
    {
      "cell_type": "code",
      "execution_count": null,
      "metadata": {},
      "outputs": [
        {
          "name": "stdout",
          "output_type": "stream",
          "text": [
            "X ## Train: (48020, 20) Val: (20580, 20) Test: (29400, 20)\n",
            "y ## Train: (48020,) Val: (20580,) Test: (29400,)\n"
          ]
        }
      ],
      "source": [
        "X_train, y_train = df_train.iloc[:,:-1].to_numpy(), df_train.future_flare.to_numpy()\n",
        "X_val, y_val = df_val.iloc[:,:-1].to_numpy(), df_val.future_flare.to_numpy()\n",
        "X_test, y_test = df_test.iloc[:,:-1].to_numpy(), df_test.future_flare.to_numpy()\n",
        "X = np.vstack((X_train, X_val, X_test))\n",
        "y = np.hstack((y_train, y_val, y_test))\n",
        "print('X ## Train:', X_train.shape, 'Val:', X_val.shape, 'Test:', X_test.shape)\n",
        "print('y ## Train:', y_train.shape, 'Val:', y_val.shape, 'Test:', y_test.shape)"
      ]
    },
    {
      "cell_type": "code",
      "execution_count": null,
      "metadata": {},
      "outputs": [
        {
          "name": "stderr",
          "output_type": "stream",
          "text": [
            "2023-03-11 16:40:53.192431: W tensorflow/compiler/xla/stream_executor/platform/default/dso_loader.cc:64] Could not load dynamic library 'libcuda.so.1'; dlerror: libcuda.so.1: cannot open shared object file: No such file or directory\n",
            "2023-03-11 16:40:53.192637: W tensorflow/compiler/xla/stream_executor/cuda/cuda_driver.cc:265] failed call to cuInit: UNKNOWN ERROR (303)\n",
            "2023-03-11 16:40:53.192689: I tensorflow/compiler/xla/stream_executor/cuda/cuda_diagnostics.cc:156] kernel driver does not appear to be running on this host (83dc2cdd3c94): /proc/driver/nvidia/version does not exist\n",
            "2023-03-11 16:40:53.193367: I tensorflow/core/platform/cpu_feature_guard.cc:193] This TensorFlow binary is optimized with oneAPI Deep Neural Network Library (oneDNN) to use the following CPU instructions in performance-critical operations:  AVX2 FMA\n",
            "To enable them in other operations, rebuild TensorFlow with the appropriate compiler flags.\n"
          ]
        },
        {
          "name": "stdout",
          "output_type": "stream",
          "text": [
            "Model: \"sequential\"\n",
            "_________________________________________________________________\n",
            " Layer (type)                Output Shape              Param #   \n",
            "=================================================================\n",
            " bidirectional (Bidirectiona  (None, 40)               3520      \n",
            " l)                                                              \n",
            "                                                                 \n",
            " dense (Dense)               (None, 30)                1230      \n",
            "                                                                 \n",
            " dense_1 (Dense)             (None, 10)                310       \n",
            "                                                                 \n",
            " dense_2 (Dense)             (None, 1)                 11        \n",
            "                                                                 \n",
            "=================================================================\n",
            "Total params: 5,071\n",
            "Trainable params: 5,071\n",
            "Non-trainable params: 0\n",
            "_________________________________________________________________\n",
            "None\n"
          ]
        }
      ],
      "source": [
        "initial_bias = Constant([np.log(true/pos)])\n",
        "# define model\n",
        "model = Sequential()\n",
        "model.add(Bidirectional(LSTM(20, activation='relu'), input_shape=(X_train.shape[1], 1)))\n",
        "model.add(Dense(30, activation='relu'))\n",
        "model.add(Dense(10, activation='relu'))\n",
        "model.add(Dense(1, activation='sigmoid',bias_initializer=initial_bias))\n",
        "model.compile(loss='binary_crossentropy', \n",
        "              optimizer='adam', \n",
        "              metrics=[f1_m, 'accuracy'])\n",
        "\n",
        "print(model.summary())"
      ]
    },
    {
      "cell_type": "code",
      "execution_count": null,
      "metadata": {},
      "outputs": [
        {
          "name": "stdout",
          "output_type": "stream",
          "text": [
            "Epoch 1/20\n",
            "WARNING:tensorflow:From /usr/local/lib/python3.8/site-packages/tensorflow/python/autograph/pyct/static_analysis/liveness.py:83: Analyzer.lamba_check (from tensorflow.python.autograph.pyct.static_analysis.liveness) is deprecated and will be removed after 2023-09-23.\n",
            "Instructions for updating:\n",
            "Lambda fuctions will be no more assumed to be used in the statement where they are used, or at least in the same block. https://github.com/tensorflow/tensorflow/issues/56089\n",
            "1501/1501 [==============================] - 37s 22ms/step - loss: 0.0517 - f1_m: 0.8051 - accuracy: 0.9811 - val_loss: 0.0219 - val_f1_m: 0.1485 - val_accuracy: 0.9926\n",
            "Epoch 2/20\n",
            "1501/1501 [==============================] - 48s 32ms/step - loss: 0.0277 - f1_m: 0.8642 - accuracy: 0.9883 - val_loss: 0.0182 - val_f1_m: 0.1450 - val_accuracy: 0.9934\n",
            "Epoch 3/20\n",
            "1501/1501 [==============================] - 44s 29ms/step - loss: 0.0254 - f1_m: 0.8643 - accuracy: 0.9893 - val_loss: 0.0196 - val_f1_m: 0.1477 - val_accuracy: 0.9926\n",
            "Epoch 4/20\n",
            "1501/1501 [==============================] - 41s 28ms/step - loss: 0.0240 - f1_m: 0.8847 - accuracy: 0.9900 - val_loss: 0.0211 - val_f1_m: 0.1450 - val_accuracy: 0.9917\n",
            "Epoch 5/20\n",
            "1501/1501 [==============================] - 37s 25ms/step - loss: 0.0217 - f1_m: 0.8854 - accuracy: 0.9907 - val_loss: 0.0142 - val_f1_m: 0.1474 - val_accuracy: 0.9945\n",
            "Epoch 6/20\n",
            "1501/1501 [==============================] - 39s 26ms/step - loss: 0.0197 - f1_m: 0.8947 - accuracy: 0.9916 - val_loss: 0.0163 - val_f1_m: 0.1483 - val_accuracy: 0.9937\n",
            "Epoch 7/20\n",
            "1501/1501 [==============================] - 44s 29ms/step - loss: 0.0173 - f1_m: 0.9071 - accuracy: 0.9931 - val_loss: 0.0120 - val_f1_m: 0.1505 - val_accuracy: 0.9954\n",
            "Epoch 8/20\n",
            "1501/1501 [==============================] - 46s 31ms/step - loss: 0.0156 - f1_m: 0.9076 - accuracy: 0.9937 - val_loss: 0.0105 - val_f1_m: 0.1502 - val_accuracy: 0.9963\n",
            "Epoch 9/20\n",
            "1501/1501 [==============================] - 39s 26ms/step - loss: 0.0143 - f1_m: 0.9182 - accuracy: 0.9946 - val_loss: 0.0095 - val_f1_m: 0.1513 - val_accuracy: 0.9967\n",
            "Epoch 10/20\n",
            "1501/1501 [==============================] - 38s 25ms/step - loss: 0.0124 - f1_m: 0.9158 - accuracy: 0.9952 - val_loss: 0.0158 - val_f1_m: 0.1502 - val_accuracy: 0.9932\n",
            "Epoch 11/20\n",
            "1501/1501 [==============================] - 38s 25ms/step - loss: 0.0127 - f1_m: 0.9207 - accuracy: 0.9947 - val_loss: 0.0083 - val_f1_m: 0.1513 - val_accuracy: 0.9970\n",
            "Epoch 12/20\n",
            "1501/1501 [==============================] - 43s 29ms/step - loss: 0.0116 - f1_m: 0.9208 - accuracy: 0.9953 - val_loss: 0.0104 - val_f1_m: 0.1511 - val_accuracy: 0.9961\n",
            "Epoch 13/20\n",
            "1501/1501 [==============================] - 40s 26ms/step - loss: 0.0109 - f1_m: 0.9161 - accuracy: 0.9957 - val_loss: 0.0152 - val_f1_m: 0.1507 - val_accuracy: 0.9944\n",
            "Epoch 14/20\n",
            "1501/1501 [==============================] - 39s 26ms/step - loss: 0.0110 - f1_m: 0.9237 - accuracy: 0.9959 - val_loss: 0.0078 - val_f1_m: 0.1520 - val_accuracy: 0.9975\n",
            "Epoch 15/20\n",
            "1501/1501 [==============================] - 43s 29ms/step - loss: 0.0102 - f1_m: 0.9215 - accuracy: 0.9960 - val_loss: 0.0074 - val_f1_m: 0.1520 - val_accuracy: 0.9974\n",
            "Epoch 16/20\n",
            "1501/1501 [==============================] - 41s 27ms/step - loss: 0.0102 - f1_m: 0.9358 - accuracy: 0.9963 - val_loss: 0.0077 - val_f1_m: 0.1511 - val_accuracy: 0.9970\n",
            "Epoch 17/20\n",
            "1501/1501 [==============================] - 43s 29ms/step - loss: 0.0094 - f1_m: 0.9317 - accuracy: 0.9965 - val_loss: 0.0096 - val_f1_m: 0.1517 - val_accuracy: 0.9960\n",
            "Epoch 18/20\n",
            "1501/1501 [==============================] - 41s 27ms/step - loss: 0.0092 - f1_m: 0.9289 - accuracy: 0.9965 - val_loss: 0.0068 - val_f1_m: 0.1516 - val_accuracy: 0.9978\n",
            "Epoch 19/20\n",
            "1501/1501 [==============================] - 42s 28ms/step - loss: 0.0088 - f1_m: 0.9239 - accuracy: 0.9969 - val_loss: 0.0073 - val_f1_m: 0.1522 - val_accuracy: 0.9972\n",
            "Epoch 20/20\n",
            "1501/1501 [==============================] - 39s 26ms/step - loss: 0.0088 - f1_m: 0.9270 - accuracy: 0.9967 - val_loss: 0.0074 - val_f1_m: 0.1519 - val_accuracy: 0.9975\n"
          ]
        },
        {
          "data": {
            "text/plain": [
              "<keras.callbacks.History at 0x7fc1182b0040>"
            ]
          },
          "metadata": {},
          "output_type": "display_data"
        }
      ],
      "source": [
        "epochs = 20\n",
        "batch_size = 32\n",
        "# define callbacks\n",
        "callbacks = [\n",
        "    ModelCheckpoint(\n",
        "        os.path.join(\"models\", \"LSTM_best_weights.h5\"), save_weights_only=True, monitor=\"val_loss\"\n",
        "    ),\n",
        "    EarlyStopping(monitor=\"val_loss\", patience=3, verbose=1),\n",
        "]\n",
        "# fit model\n",
        "model.fit(\n",
        "    X_train,\n",
        "    y_train,\n",
        "    batch_size=batch_size,\n",
        "    epochs=epochs,\n",
        "    callbacks=callbacks,\n",
        "    validation_data=(X_val, y_val),\n",
        "    verbose=1,\n",
        ")"
      ]
    },
    {
      "cell_type": "code",
      "execution_count": null,
      "metadata": {},
      "outputs": [
        {
          "name": "stdout",
          "output_type": "stream",
          "text": [
            "919/919 [==============================] - 8s 9ms/step\n",
            "### Evaluation on test set ###\n",
            "Accuracy: 1.00\n",
            "F1 score: 0.99\n",
            "[[26313    44]\n",
            " [   45  2998]]\n"
          ]
        }
      ],
      "source": [
        "scores = model.evaluate(X_test, y_test, verbose=0)\n",
        "y_pred = np.round(model.predict(X_test), 0)\n",
        "\n",
        "print(\"### Evaluation on test set ###\")\n",
        "print(\"Accuracy: %.2f\" % (accuracy_score(y_pred, y_test)))\n",
        "print(\"F1 score: %.2f\" % (f1_score(y_pred, y_test)))\n",
        "#Create confusion matrix and normalizes it over predicted (columns)\n",
        "result = confusion_matrix(y_test, y_pred)\n",
        "print(result)\n"
      ]
    },
    {
      "cell_type": "code",
      "execution_count": null,
      "metadata": {},
      "outputs": [
        {
          "name": "stdout",
          "output_type": "stream",
          "text": [
            "644/644 [==============================] - 5s 8ms/step\n",
            "### Evaluation on validation set ###\n",
            "Accuracy: 1.00\n",
            "F1 score: 0.99\n",
            "[[18206    27]\n",
            " [   25  2322]]\n"
          ]
        }
      ],
      "source": [
        "scores = model.evaluate(X_val, y_val, verbose=0)\n",
        "y_pred = np.round(model.predict(X_val), 0)\n",
        "\n",
        "print(\"### Evaluation on validation set ###\")\n",
        "print(\"Accuracy: %.2f\" % (accuracy_score(y_pred, y_val)))\n",
        "print(\"F1 score: %.2f\" % (f1_score(y_pred, y_val)))\n",
        "#Create confusion matrix and normalizes it over predicted (columns)\n",
        "result = confusion_matrix(y_val, y_pred)\n",
        "print(result)\n"
      ]
    },
    {
      "cell_type": "markdown",
      "metadata": {
        "id": "X8cvMgAF-QUJ"
      },
      "source": [
        "### CNN"
      ]
    },
    {
      "cell_type": "markdown",
      "metadata": {
        "id": "P15_tKow_ZEO"
      },
      "source": [
        "## Extra"
      ]
    },
    {
      "cell_type": "markdown",
      "metadata": {
        "id": "WXx3UW7U_eRC"
      },
      "source": [
        "### Model comparison"
      ]
    },
    {
      "cell_type": "code",
      "execution_count": null,
      "metadata": {
        "id": "6ymdQUDt-3Sw"
      },
      "outputs": [],
      "source": [
        "# TO DO: eventuale confronto finale tra i migliori modelli ?"
      ]
    },
    {
      "cell_type": "code",
      "execution_count": null,
      "metadata": {
        "id": "0Z_krlwh9Mfx",
        "outputId": "7e309468-82e4-4606-f242-76b92687d910"
      },
      "outputs": [
        {
          "data": {
            "application/vnd.plotly.v1+json": {
              "config": {
                "plotlyServerURL": "https://plot.ly"
              },
              "data": [
                {
                  "type": "bar",
                  "x": [
                    "SVC",
                    "RF",
                    "NB",
                    "LR",
                    "KNN"
                  ],
                  "y": [
                    0.9343998485422188,
                    0.8695353234400962,
                    0.8959881707459435,
                    0.9124131909308013,
                    0.90640756302521
                  ]
                }
              ],
              "layout": {
                "template": {
                  "data": {
                    "bar": [
                      {
                        "error_x": {
                          "color": "#2a3f5f"
                        },
                        "error_y": {
                          "color": "#2a3f5f"
                        },
                        "marker": {
                          "line": {
                            "color": "#E5ECF6",
                            "width": 0.5
                          },
                          "pattern": {
                            "fillmode": "overlay",
                            "size": 10,
                            "solidity": 0.2
                          }
                        },
                        "type": "bar"
                      }
                    ],
                    "barpolar": [
                      {
                        "marker": {
                          "line": {
                            "color": "#E5ECF6",
                            "width": 0.5
                          },
                          "pattern": {
                            "fillmode": "overlay",
                            "size": 10,
                            "solidity": 0.2
                          }
                        },
                        "type": "barpolar"
                      }
                    ],
                    "carpet": [
                      {
                        "aaxis": {
                          "endlinecolor": "#2a3f5f",
                          "gridcolor": "white",
                          "linecolor": "white",
                          "minorgridcolor": "white",
                          "startlinecolor": "#2a3f5f"
                        },
                        "baxis": {
                          "endlinecolor": "#2a3f5f",
                          "gridcolor": "white",
                          "linecolor": "white",
                          "minorgridcolor": "white",
                          "startlinecolor": "#2a3f5f"
                        },
                        "type": "carpet"
                      }
                    ],
                    "choropleth": [
                      {
                        "colorbar": {
                          "outlinewidth": 0,
                          "ticks": ""
                        },
                        "type": "choropleth"
                      }
                    ],
                    "contour": [
                      {
                        "colorbar": {
                          "outlinewidth": 0,
                          "ticks": ""
                        },
                        "colorscale": [
                          [
                            0,
                            "#0d0887"
                          ],
                          [
                            0.1111111111111111,
                            "#46039f"
                          ],
                          [
                            0.2222222222222222,
                            "#7201a8"
                          ],
                          [
                            0.3333333333333333,
                            "#9c179e"
                          ],
                          [
                            0.4444444444444444,
                            "#bd3786"
                          ],
                          [
                            0.5555555555555556,
                            "#d8576b"
                          ],
                          [
                            0.6666666666666666,
                            "#ed7953"
                          ],
                          [
                            0.7777777777777778,
                            "#fb9f3a"
                          ],
                          [
                            0.8888888888888888,
                            "#fdca26"
                          ],
                          [
                            1,
                            "#f0f921"
                          ]
                        ],
                        "type": "contour"
                      }
                    ],
                    "contourcarpet": [
                      {
                        "colorbar": {
                          "outlinewidth": 0,
                          "ticks": ""
                        },
                        "type": "contourcarpet"
                      }
                    ],
                    "heatmap": [
                      {
                        "colorbar": {
                          "outlinewidth": 0,
                          "ticks": ""
                        },
                        "colorscale": [
                          [
                            0,
                            "#0d0887"
                          ],
                          [
                            0.1111111111111111,
                            "#46039f"
                          ],
                          [
                            0.2222222222222222,
                            "#7201a8"
                          ],
                          [
                            0.3333333333333333,
                            "#9c179e"
                          ],
                          [
                            0.4444444444444444,
                            "#bd3786"
                          ],
                          [
                            0.5555555555555556,
                            "#d8576b"
                          ],
                          [
                            0.6666666666666666,
                            "#ed7953"
                          ],
                          [
                            0.7777777777777778,
                            "#fb9f3a"
                          ],
                          [
                            0.8888888888888888,
                            "#fdca26"
                          ],
                          [
                            1,
                            "#f0f921"
                          ]
                        ],
                        "type": "heatmap"
                      }
                    ],
                    "heatmapgl": [
                      {
                        "colorbar": {
                          "outlinewidth": 0,
                          "ticks": ""
                        },
                        "colorscale": [
                          [
                            0,
                            "#0d0887"
                          ],
                          [
                            0.1111111111111111,
                            "#46039f"
                          ],
                          [
                            0.2222222222222222,
                            "#7201a8"
                          ],
                          [
                            0.3333333333333333,
                            "#9c179e"
                          ],
                          [
                            0.4444444444444444,
                            "#bd3786"
                          ],
                          [
                            0.5555555555555556,
                            "#d8576b"
                          ],
                          [
                            0.6666666666666666,
                            "#ed7953"
                          ],
                          [
                            0.7777777777777778,
                            "#fb9f3a"
                          ],
                          [
                            0.8888888888888888,
                            "#fdca26"
                          ],
                          [
                            1,
                            "#f0f921"
                          ]
                        ],
                        "type": "heatmapgl"
                      }
                    ],
                    "histogram": [
                      {
                        "marker": {
                          "pattern": {
                            "fillmode": "overlay",
                            "size": 10,
                            "solidity": 0.2
                          }
                        },
                        "type": "histogram"
                      }
                    ],
                    "histogram2d": [
                      {
                        "colorbar": {
                          "outlinewidth": 0,
                          "ticks": ""
                        },
                        "colorscale": [
                          [
                            0,
                            "#0d0887"
                          ],
                          [
                            0.1111111111111111,
                            "#46039f"
                          ],
                          [
                            0.2222222222222222,
                            "#7201a8"
                          ],
                          [
                            0.3333333333333333,
                            "#9c179e"
                          ],
                          [
                            0.4444444444444444,
                            "#bd3786"
                          ],
                          [
                            0.5555555555555556,
                            "#d8576b"
                          ],
                          [
                            0.6666666666666666,
                            "#ed7953"
                          ],
                          [
                            0.7777777777777778,
                            "#fb9f3a"
                          ],
                          [
                            0.8888888888888888,
                            "#fdca26"
                          ],
                          [
                            1,
                            "#f0f921"
                          ]
                        ],
                        "type": "histogram2d"
                      }
                    ],
                    "histogram2dcontour": [
                      {
                        "colorbar": {
                          "outlinewidth": 0,
                          "ticks": ""
                        },
                        "colorscale": [
                          [
                            0,
                            "#0d0887"
                          ],
                          [
                            0.1111111111111111,
                            "#46039f"
                          ],
                          [
                            0.2222222222222222,
                            "#7201a8"
                          ],
                          [
                            0.3333333333333333,
                            "#9c179e"
                          ],
                          [
                            0.4444444444444444,
                            "#bd3786"
                          ],
                          [
                            0.5555555555555556,
                            "#d8576b"
                          ],
                          [
                            0.6666666666666666,
                            "#ed7953"
                          ],
                          [
                            0.7777777777777778,
                            "#fb9f3a"
                          ],
                          [
                            0.8888888888888888,
                            "#fdca26"
                          ],
                          [
                            1,
                            "#f0f921"
                          ]
                        ],
                        "type": "histogram2dcontour"
                      }
                    ],
                    "mesh3d": [
                      {
                        "colorbar": {
                          "outlinewidth": 0,
                          "ticks": ""
                        },
                        "type": "mesh3d"
                      }
                    ],
                    "parcoords": [
                      {
                        "line": {
                          "colorbar": {
                            "outlinewidth": 0,
                            "ticks": ""
                          }
                        },
                        "type": "parcoords"
                      }
                    ],
                    "pie": [
                      {
                        "automargin": true,
                        "type": "pie"
                      }
                    ],
                    "scatter": [
                      {
                        "fillpattern": {
                          "fillmode": "overlay",
                          "size": 10,
                          "solidity": 0.2
                        },
                        "type": "scatter"
                      }
                    ],
                    "scatter3d": [
                      {
                        "line": {
                          "colorbar": {
                            "outlinewidth": 0,
                            "ticks": ""
                          }
                        },
                        "marker": {
                          "colorbar": {
                            "outlinewidth": 0,
                            "ticks": ""
                          }
                        },
                        "type": "scatter3d"
                      }
                    ],
                    "scattercarpet": [
                      {
                        "marker": {
                          "colorbar": {
                            "outlinewidth": 0,
                            "ticks": ""
                          }
                        },
                        "type": "scattercarpet"
                      }
                    ],
                    "scattergeo": [
                      {
                        "marker": {
                          "colorbar": {
                            "outlinewidth": 0,
                            "ticks": ""
                          }
                        },
                        "type": "scattergeo"
                      }
                    ],
                    "scattergl": [
                      {
                        "marker": {
                          "colorbar": {
                            "outlinewidth": 0,
                            "ticks": ""
                          }
                        },
                        "type": "scattergl"
                      }
                    ],
                    "scattermapbox": [
                      {
                        "marker": {
                          "colorbar": {
                            "outlinewidth": 0,
                            "ticks": ""
                          }
                        },
                        "type": "scattermapbox"
                      }
                    ],
                    "scatterpolar": [
                      {
                        "marker": {
                          "colorbar": {
                            "outlinewidth": 0,
                            "ticks": ""
                          }
                        },
                        "type": "scatterpolar"
                      }
                    ],
                    "scatterpolargl": [
                      {
                        "marker": {
                          "colorbar": {
                            "outlinewidth": 0,
                            "ticks": ""
                          }
                        },
                        "type": "scatterpolargl"
                      }
                    ],
                    "scatterternary": [
                      {
                        "marker": {
                          "colorbar": {
                            "outlinewidth": 0,
                            "ticks": ""
                          }
                        },
                        "type": "scatterternary"
                      }
                    ],
                    "surface": [
                      {
                        "colorbar": {
                          "outlinewidth": 0,
                          "ticks": ""
                        },
                        "colorscale": [
                          [
                            0,
                            "#0d0887"
                          ],
                          [
                            0.1111111111111111,
                            "#46039f"
                          ],
                          [
                            0.2222222222222222,
                            "#7201a8"
                          ],
                          [
                            0.3333333333333333,
                            "#9c179e"
                          ],
                          [
                            0.4444444444444444,
                            "#bd3786"
                          ],
                          [
                            0.5555555555555556,
                            "#d8576b"
                          ],
                          [
                            0.6666666666666666,
                            "#ed7953"
                          ],
                          [
                            0.7777777777777778,
                            "#fb9f3a"
                          ],
                          [
                            0.8888888888888888,
                            "#fdca26"
                          ],
                          [
                            1,
                            "#f0f921"
                          ]
                        ],
                        "type": "surface"
                      }
                    ],
                    "table": [
                      {
                        "cells": {
                          "fill": {
                            "color": "#EBF0F8"
                          },
                          "line": {
                            "color": "white"
                          }
                        },
                        "header": {
                          "fill": {
                            "color": "#C8D4E3"
                          },
                          "line": {
                            "color": "white"
                          }
                        },
                        "type": "table"
                      }
                    ]
                  },
                  "layout": {
                    "annotationdefaults": {
                      "arrowcolor": "#2a3f5f",
                      "arrowhead": 0,
                      "arrowwidth": 1
                    },
                    "autotypenumbers": "strict",
                    "coloraxis": {
                      "colorbar": {
                        "outlinewidth": 0,
                        "ticks": ""
                      }
                    },
                    "colorscale": {
                      "diverging": [
                        [
                          0,
                          "#8e0152"
                        ],
                        [
                          0.1,
                          "#c51b7d"
                        ],
                        [
                          0.2,
                          "#de77ae"
                        ],
                        [
                          0.3,
                          "#f1b6da"
                        ],
                        [
                          0.4,
                          "#fde0ef"
                        ],
                        [
                          0.5,
                          "#f7f7f7"
                        ],
                        [
                          0.6,
                          "#e6f5d0"
                        ],
                        [
                          0.7,
                          "#b8e186"
                        ],
                        [
                          0.8,
                          "#7fbc41"
                        ],
                        [
                          0.9,
                          "#4d9221"
                        ],
                        [
                          1,
                          "#276419"
                        ]
                      ],
                      "sequential": [
                        [
                          0,
                          "#0d0887"
                        ],
                        [
                          0.1111111111111111,
                          "#46039f"
                        ],
                        [
                          0.2222222222222222,
                          "#7201a8"
                        ],
                        [
                          0.3333333333333333,
                          "#9c179e"
                        ],
                        [
                          0.4444444444444444,
                          "#bd3786"
                        ],
                        [
                          0.5555555555555556,
                          "#d8576b"
                        ],
                        [
                          0.6666666666666666,
                          "#ed7953"
                        ],
                        [
                          0.7777777777777778,
                          "#fb9f3a"
                        ],
                        [
                          0.8888888888888888,
                          "#fdca26"
                        ],
                        [
                          1,
                          "#f0f921"
                        ]
                      ],
                      "sequentialminus": [
                        [
                          0,
                          "#0d0887"
                        ],
                        [
                          0.1111111111111111,
                          "#46039f"
                        ],
                        [
                          0.2222222222222222,
                          "#7201a8"
                        ],
                        [
                          0.3333333333333333,
                          "#9c179e"
                        ],
                        [
                          0.4444444444444444,
                          "#bd3786"
                        ],
                        [
                          0.5555555555555556,
                          "#d8576b"
                        ],
                        [
                          0.6666666666666666,
                          "#ed7953"
                        ],
                        [
                          0.7777777777777778,
                          "#fb9f3a"
                        ],
                        [
                          0.8888888888888888,
                          "#fdca26"
                        ],
                        [
                          1,
                          "#f0f921"
                        ]
                      ]
                    },
                    "colorway": [
                      "#636efa",
                      "#EF553B",
                      "#00cc96",
                      "#ab63fa",
                      "#FFA15A",
                      "#19d3f3",
                      "#FF6692",
                      "#B6E880",
                      "#FF97FF",
                      "#FECB52"
                    ],
                    "font": {
                      "color": "#2a3f5f"
                    },
                    "geo": {
                      "bgcolor": "white",
                      "lakecolor": "white",
                      "landcolor": "#E5ECF6",
                      "showlakes": true,
                      "showland": true,
                      "subunitcolor": "white"
                    },
                    "hoverlabel": {
                      "align": "left"
                    },
                    "hovermode": "closest",
                    "mapbox": {
                      "style": "light"
                    },
                    "paper_bgcolor": "white",
                    "plot_bgcolor": "#E5ECF6",
                    "polar": {
                      "angularaxis": {
                        "gridcolor": "white",
                        "linecolor": "white",
                        "ticks": ""
                      },
                      "bgcolor": "#E5ECF6",
                      "radialaxis": {
                        "gridcolor": "white",
                        "linecolor": "white",
                        "ticks": ""
                      }
                    },
                    "scene": {
                      "xaxis": {
                        "backgroundcolor": "#E5ECF6",
                        "gridcolor": "white",
                        "gridwidth": 2,
                        "linecolor": "white",
                        "showbackground": true,
                        "ticks": "",
                        "zerolinecolor": "white"
                      },
                      "yaxis": {
                        "backgroundcolor": "#E5ECF6",
                        "gridcolor": "white",
                        "gridwidth": 2,
                        "linecolor": "white",
                        "showbackground": true,
                        "ticks": "",
                        "zerolinecolor": "white"
                      },
                      "zaxis": {
                        "backgroundcolor": "#E5ECF6",
                        "gridcolor": "white",
                        "gridwidth": 2,
                        "linecolor": "white",
                        "showbackground": true,
                        "ticks": "",
                        "zerolinecolor": "white"
                      }
                    },
                    "shapedefaults": {
                      "line": {
                        "color": "#2a3f5f"
                      }
                    },
                    "ternary": {
                      "aaxis": {
                        "gridcolor": "white",
                        "linecolor": "white",
                        "ticks": ""
                      },
                      "baxis": {
                        "gridcolor": "white",
                        "linecolor": "white",
                        "ticks": ""
                      },
                      "bgcolor": "#E5ECF6",
                      "caxis": {
                        "gridcolor": "white",
                        "linecolor": "white",
                        "ticks": ""
                      }
                    },
                    "title": {
                      "x": 0.05
                    },
                    "xaxis": {
                      "automargin": true,
                      "gridcolor": "white",
                      "linecolor": "white",
                      "ticks": "",
                      "title": {
                        "standoff": 15
                      },
                      "zerolinecolor": "white",
                      "zerolinewidth": 2
                    },
                    "yaxis": {
                      "automargin": true,
                      "gridcolor": "white",
                      "linecolor": "white",
                      "ticks": "",
                      "title": {
                        "standoff": 15
                      },
                      "zerolinecolor": "white",
                      "zerolinewidth": 2
                    }
                  }
                },
                "title": {
                  "text": "F!-macro for each model"
                }
              }
            }
          },
          "metadata": {},
          "output_type": "display_data"
        }
      ],
      "source": [
        "models = ['SVC', 'RF', 'NB', 'LR', 'KNN']\n",
        "\n",
        "fig = go.Figure([go.Bar(x=models, y=[report_svc['macro avg']['f1-score'], report_rf['macro avg']['f1-score'], report_nb['macro avg']['f1-score'], report_lr['macro avg']['f1-score'], report_knn['macro avg']['f1-score']])])\n",
        "fig.update_layout(title_text='F!-macro for each model')\n",
        "fig.show()"
      ]
    },
    {
      "cell_type": "code",
      "execution_count": null,
      "metadata": {
        "id": "y6fmLY9d9Mfz",
        "outputId": "ff2678f7-8c15-4514-d832-572c61c66fdc"
      },
      "outputs": [
        {
          "data": {
            "application/vnd.plotly.v1+json": {
              "config": {
                "plotlyServerURL": "https://plot.ly"
              },
              "data": [
                {
                  "text": [
                    [
                      "827",
                      "8"
                    ],
                    [
                      "6",
                      "50"
                    ]
                  ],
                  "type": "heatmap",
                  "xaxis": "x",
                  "yaxis": "y",
                  "z": [
                    [
                      827,
                      8
                    ],
                    [
                      6,
                      50
                    ]
                  ]
                },
                {
                  "text": [
                    [
                      "833",
                      "2"
                    ],
                    [
                      "21",
                      "35"
                    ]
                  ],
                  "type": "heatmap",
                  "xaxis": "x2",
                  "yaxis": "y2",
                  "z": [
                    [
                      833,
                      2
                    ],
                    [
                      21,
                      35
                    ]
                  ]
                },
                {
                  "text": [
                    [
                      "817",
                      "18"
                    ],
                    [
                      "6",
                      "50"
                    ]
                  ],
                  "type": "heatmap",
                  "xaxis": "x3",
                  "yaxis": "y3",
                  "z": [
                    [
                      817,
                      18
                    ],
                    [
                      6,
                      50
                    ]
                  ]
                },
                {
                  "text": [
                    [
                      "831",
                      "4"
                    ],
                    [
                      "13",
                      "43"
                    ]
                  ],
                  "type": "heatmap",
                  "xaxis": "x4",
                  "yaxis": "y4",
                  "z": [
                    [
                      831,
                      4
                    ],
                    [
                      13,
                      43
                    ]
                  ]
                },
                {
                  "text": [
                    [
                      "831",
                      "4"
                    ],
                    [
                      "14",
                      "42"
                    ]
                  ],
                  "type": "heatmap",
                  "xaxis": "x5",
                  "yaxis": "y5",
                  "z": [
                    [
                      831,
                      4
                    ],
                    [
                      14,
                      42
                    ]
                  ]
                }
              ],
              "layout": {
                "height": 800,
                "template": {
                  "data": {
                    "bar": [
                      {
                        "error_x": {
                          "color": "#2a3f5f"
                        },
                        "error_y": {
                          "color": "#2a3f5f"
                        },
                        "marker": {
                          "line": {
                            "color": "#E5ECF6",
                            "width": 0.5
                          },
                          "pattern": {
                            "fillmode": "overlay",
                            "size": 10,
                            "solidity": 0.2
                          }
                        },
                        "type": "bar"
                      }
                    ],
                    "barpolar": [
                      {
                        "marker": {
                          "line": {
                            "color": "#E5ECF6",
                            "width": 0.5
                          },
                          "pattern": {
                            "fillmode": "overlay",
                            "size": 10,
                            "solidity": 0.2
                          }
                        },
                        "type": "barpolar"
                      }
                    ],
                    "carpet": [
                      {
                        "aaxis": {
                          "endlinecolor": "#2a3f5f",
                          "gridcolor": "white",
                          "linecolor": "white",
                          "minorgridcolor": "white",
                          "startlinecolor": "#2a3f5f"
                        },
                        "baxis": {
                          "endlinecolor": "#2a3f5f",
                          "gridcolor": "white",
                          "linecolor": "white",
                          "minorgridcolor": "white",
                          "startlinecolor": "#2a3f5f"
                        },
                        "type": "carpet"
                      }
                    ],
                    "choropleth": [
                      {
                        "colorbar": {
                          "outlinewidth": 0,
                          "ticks": ""
                        },
                        "type": "choropleth"
                      }
                    ],
                    "contour": [
                      {
                        "colorbar": {
                          "outlinewidth": 0,
                          "ticks": ""
                        },
                        "colorscale": [
                          [
                            0,
                            "#0d0887"
                          ],
                          [
                            0.1111111111111111,
                            "#46039f"
                          ],
                          [
                            0.2222222222222222,
                            "#7201a8"
                          ],
                          [
                            0.3333333333333333,
                            "#9c179e"
                          ],
                          [
                            0.4444444444444444,
                            "#bd3786"
                          ],
                          [
                            0.5555555555555556,
                            "#d8576b"
                          ],
                          [
                            0.6666666666666666,
                            "#ed7953"
                          ],
                          [
                            0.7777777777777778,
                            "#fb9f3a"
                          ],
                          [
                            0.8888888888888888,
                            "#fdca26"
                          ],
                          [
                            1,
                            "#f0f921"
                          ]
                        ],
                        "type": "contour"
                      }
                    ],
                    "contourcarpet": [
                      {
                        "colorbar": {
                          "outlinewidth": 0,
                          "ticks": ""
                        },
                        "type": "contourcarpet"
                      }
                    ],
                    "heatmap": [
                      {
                        "colorbar": {
                          "outlinewidth": 0,
                          "ticks": ""
                        },
                        "colorscale": [
                          [
                            0,
                            "#0d0887"
                          ],
                          [
                            0.1111111111111111,
                            "#46039f"
                          ],
                          [
                            0.2222222222222222,
                            "#7201a8"
                          ],
                          [
                            0.3333333333333333,
                            "#9c179e"
                          ],
                          [
                            0.4444444444444444,
                            "#bd3786"
                          ],
                          [
                            0.5555555555555556,
                            "#d8576b"
                          ],
                          [
                            0.6666666666666666,
                            "#ed7953"
                          ],
                          [
                            0.7777777777777778,
                            "#fb9f3a"
                          ],
                          [
                            0.8888888888888888,
                            "#fdca26"
                          ],
                          [
                            1,
                            "#f0f921"
                          ]
                        ],
                        "type": "heatmap"
                      }
                    ],
                    "heatmapgl": [
                      {
                        "colorbar": {
                          "outlinewidth": 0,
                          "ticks": ""
                        },
                        "colorscale": [
                          [
                            0,
                            "#0d0887"
                          ],
                          [
                            0.1111111111111111,
                            "#46039f"
                          ],
                          [
                            0.2222222222222222,
                            "#7201a8"
                          ],
                          [
                            0.3333333333333333,
                            "#9c179e"
                          ],
                          [
                            0.4444444444444444,
                            "#bd3786"
                          ],
                          [
                            0.5555555555555556,
                            "#d8576b"
                          ],
                          [
                            0.6666666666666666,
                            "#ed7953"
                          ],
                          [
                            0.7777777777777778,
                            "#fb9f3a"
                          ],
                          [
                            0.8888888888888888,
                            "#fdca26"
                          ],
                          [
                            1,
                            "#f0f921"
                          ]
                        ],
                        "type": "heatmapgl"
                      }
                    ],
                    "histogram": [
                      {
                        "marker": {
                          "pattern": {
                            "fillmode": "overlay",
                            "size": 10,
                            "solidity": 0.2
                          }
                        },
                        "type": "histogram"
                      }
                    ],
                    "histogram2d": [
                      {
                        "colorbar": {
                          "outlinewidth": 0,
                          "ticks": ""
                        },
                        "colorscale": [
                          [
                            0,
                            "#0d0887"
                          ],
                          [
                            0.1111111111111111,
                            "#46039f"
                          ],
                          [
                            0.2222222222222222,
                            "#7201a8"
                          ],
                          [
                            0.3333333333333333,
                            "#9c179e"
                          ],
                          [
                            0.4444444444444444,
                            "#bd3786"
                          ],
                          [
                            0.5555555555555556,
                            "#d8576b"
                          ],
                          [
                            0.6666666666666666,
                            "#ed7953"
                          ],
                          [
                            0.7777777777777778,
                            "#fb9f3a"
                          ],
                          [
                            0.8888888888888888,
                            "#fdca26"
                          ],
                          [
                            1,
                            "#f0f921"
                          ]
                        ],
                        "type": "histogram2d"
                      }
                    ],
                    "histogram2dcontour": [
                      {
                        "colorbar": {
                          "outlinewidth": 0,
                          "ticks": ""
                        },
                        "colorscale": [
                          [
                            0,
                            "#0d0887"
                          ],
                          [
                            0.1111111111111111,
                            "#46039f"
                          ],
                          [
                            0.2222222222222222,
                            "#7201a8"
                          ],
                          [
                            0.3333333333333333,
                            "#9c179e"
                          ],
                          [
                            0.4444444444444444,
                            "#bd3786"
                          ],
                          [
                            0.5555555555555556,
                            "#d8576b"
                          ],
                          [
                            0.6666666666666666,
                            "#ed7953"
                          ],
                          [
                            0.7777777777777778,
                            "#fb9f3a"
                          ],
                          [
                            0.8888888888888888,
                            "#fdca26"
                          ],
                          [
                            1,
                            "#f0f921"
                          ]
                        ],
                        "type": "histogram2dcontour"
                      }
                    ],
                    "mesh3d": [
                      {
                        "colorbar": {
                          "outlinewidth": 0,
                          "ticks": ""
                        },
                        "type": "mesh3d"
                      }
                    ],
                    "parcoords": [
                      {
                        "line": {
                          "colorbar": {
                            "outlinewidth": 0,
                            "ticks": ""
                          }
                        },
                        "type": "parcoords"
                      }
                    ],
                    "pie": [
                      {
                        "automargin": true,
                        "type": "pie"
                      }
                    ],
                    "scatter": [
                      {
                        "fillpattern": {
                          "fillmode": "overlay",
                          "size": 10,
                          "solidity": 0.2
                        },
                        "type": "scatter"
                      }
                    ],
                    "scatter3d": [
                      {
                        "line": {
                          "colorbar": {
                            "outlinewidth": 0,
                            "ticks": ""
                          }
                        },
                        "marker": {
                          "colorbar": {
                            "outlinewidth": 0,
                            "ticks": ""
                          }
                        },
                        "type": "scatter3d"
                      }
                    ],
                    "scattercarpet": [
                      {
                        "marker": {
                          "colorbar": {
                            "outlinewidth": 0,
                            "ticks": ""
                          }
                        },
                        "type": "scattercarpet"
                      }
                    ],
                    "scattergeo": [
                      {
                        "marker": {
                          "colorbar": {
                            "outlinewidth": 0,
                            "ticks": ""
                          }
                        },
                        "type": "scattergeo"
                      }
                    ],
                    "scattergl": [
                      {
                        "marker": {
                          "colorbar": {
                            "outlinewidth": 0,
                            "ticks": ""
                          }
                        },
                        "type": "scattergl"
                      }
                    ],
                    "scattermapbox": [
                      {
                        "marker": {
                          "colorbar": {
                            "outlinewidth": 0,
                            "ticks": ""
                          }
                        },
                        "type": "scattermapbox"
                      }
                    ],
                    "scatterpolar": [
                      {
                        "marker": {
                          "colorbar": {
                            "outlinewidth": 0,
                            "ticks": ""
                          }
                        },
                        "type": "scatterpolar"
                      }
                    ],
                    "scatterpolargl": [
                      {
                        "marker": {
                          "colorbar": {
                            "outlinewidth": 0,
                            "ticks": ""
                          }
                        },
                        "type": "scatterpolargl"
                      }
                    ],
                    "scatterternary": [
                      {
                        "marker": {
                          "colorbar": {
                            "outlinewidth": 0,
                            "ticks": ""
                          }
                        },
                        "type": "scatterternary"
                      }
                    ],
                    "surface": [
                      {
                        "colorbar": {
                          "outlinewidth": 0,
                          "ticks": ""
                        },
                        "colorscale": [
                          [
                            0,
                            "#0d0887"
                          ],
                          [
                            0.1111111111111111,
                            "#46039f"
                          ],
                          [
                            0.2222222222222222,
                            "#7201a8"
                          ],
                          [
                            0.3333333333333333,
                            "#9c179e"
                          ],
                          [
                            0.4444444444444444,
                            "#bd3786"
                          ],
                          [
                            0.5555555555555556,
                            "#d8576b"
                          ],
                          [
                            0.6666666666666666,
                            "#ed7953"
                          ],
                          [
                            0.7777777777777778,
                            "#fb9f3a"
                          ],
                          [
                            0.8888888888888888,
                            "#fdca26"
                          ],
                          [
                            1,
                            "#f0f921"
                          ]
                        ],
                        "type": "surface"
                      }
                    ],
                    "table": [
                      {
                        "cells": {
                          "fill": {
                            "color": "#EBF0F8"
                          },
                          "line": {
                            "color": "white"
                          }
                        },
                        "header": {
                          "fill": {
                            "color": "#C8D4E3"
                          },
                          "line": {
                            "color": "white"
                          }
                        },
                        "type": "table"
                      }
                    ]
                  },
                  "layout": {
                    "annotationdefaults": {
                      "arrowcolor": "#2a3f5f",
                      "arrowhead": 0,
                      "arrowwidth": 1
                    },
                    "autotypenumbers": "strict",
                    "coloraxis": {
                      "colorbar": {
                        "outlinewidth": 0,
                        "ticks": ""
                      }
                    },
                    "colorscale": {
                      "diverging": [
                        [
                          0,
                          "#8e0152"
                        ],
                        [
                          0.1,
                          "#c51b7d"
                        ],
                        [
                          0.2,
                          "#de77ae"
                        ],
                        [
                          0.3,
                          "#f1b6da"
                        ],
                        [
                          0.4,
                          "#fde0ef"
                        ],
                        [
                          0.5,
                          "#f7f7f7"
                        ],
                        [
                          0.6,
                          "#e6f5d0"
                        ],
                        [
                          0.7,
                          "#b8e186"
                        ],
                        [
                          0.8,
                          "#7fbc41"
                        ],
                        [
                          0.9,
                          "#4d9221"
                        ],
                        [
                          1,
                          "#276419"
                        ]
                      ],
                      "sequential": [
                        [
                          0,
                          "#0d0887"
                        ],
                        [
                          0.1111111111111111,
                          "#46039f"
                        ],
                        [
                          0.2222222222222222,
                          "#7201a8"
                        ],
                        [
                          0.3333333333333333,
                          "#9c179e"
                        ],
                        [
                          0.4444444444444444,
                          "#bd3786"
                        ],
                        [
                          0.5555555555555556,
                          "#d8576b"
                        ],
                        [
                          0.6666666666666666,
                          "#ed7953"
                        ],
                        [
                          0.7777777777777778,
                          "#fb9f3a"
                        ],
                        [
                          0.8888888888888888,
                          "#fdca26"
                        ],
                        [
                          1,
                          "#f0f921"
                        ]
                      ],
                      "sequentialminus": [
                        [
                          0,
                          "#0d0887"
                        ],
                        [
                          0.1111111111111111,
                          "#46039f"
                        ],
                        [
                          0.2222222222222222,
                          "#7201a8"
                        ],
                        [
                          0.3333333333333333,
                          "#9c179e"
                        ],
                        [
                          0.4444444444444444,
                          "#bd3786"
                        ],
                        [
                          0.5555555555555556,
                          "#d8576b"
                        ],
                        [
                          0.6666666666666666,
                          "#ed7953"
                        ],
                        [
                          0.7777777777777778,
                          "#fb9f3a"
                        ],
                        [
                          0.8888888888888888,
                          "#fdca26"
                        ],
                        [
                          1,
                          "#f0f921"
                        ]
                      ]
                    },
                    "colorway": [
                      "#636efa",
                      "#EF553B",
                      "#00cc96",
                      "#ab63fa",
                      "#FFA15A",
                      "#19d3f3",
                      "#FF6692",
                      "#B6E880",
                      "#FF97FF",
                      "#FECB52"
                    ],
                    "font": {
                      "color": "#2a3f5f"
                    },
                    "geo": {
                      "bgcolor": "white",
                      "lakecolor": "white",
                      "landcolor": "#E5ECF6",
                      "showlakes": true,
                      "showland": true,
                      "subunitcolor": "white"
                    },
                    "hoverlabel": {
                      "align": "left"
                    },
                    "hovermode": "closest",
                    "mapbox": {
                      "style": "light"
                    },
                    "paper_bgcolor": "white",
                    "plot_bgcolor": "#E5ECF6",
                    "polar": {
                      "angularaxis": {
                        "gridcolor": "white",
                        "linecolor": "white",
                        "ticks": ""
                      },
                      "bgcolor": "#E5ECF6",
                      "radialaxis": {
                        "gridcolor": "white",
                        "linecolor": "white",
                        "ticks": ""
                      }
                    },
                    "scene": {
                      "xaxis": {
                        "backgroundcolor": "#E5ECF6",
                        "gridcolor": "white",
                        "gridwidth": 2,
                        "linecolor": "white",
                        "showbackground": true,
                        "ticks": "",
                        "zerolinecolor": "white"
                      },
                      "yaxis": {
                        "backgroundcolor": "#E5ECF6",
                        "gridcolor": "white",
                        "gridwidth": 2,
                        "linecolor": "white",
                        "showbackground": true,
                        "ticks": "",
                        "zerolinecolor": "white"
                      },
                      "zaxis": {
                        "backgroundcolor": "#E5ECF6",
                        "gridcolor": "white",
                        "gridwidth": 2,
                        "linecolor": "white",
                        "showbackground": true,
                        "ticks": "",
                        "zerolinecolor": "white"
                      }
                    },
                    "shapedefaults": {
                      "line": {
                        "color": "#2a3f5f"
                      }
                    },
                    "ternary": {
                      "aaxis": {
                        "gridcolor": "white",
                        "linecolor": "white",
                        "ticks": ""
                      },
                      "baxis": {
                        "gridcolor": "white",
                        "linecolor": "white",
                        "ticks": ""
                      },
                      "bgcolor": "#E5ECF6",
                      "caxis": {
                        "gridcolor": "white",
                        "linecolor": "white",
                        "ticks": ""
                      }
                    },
                    "title": {
                      "x": 0.05
                    },
                    "xaxis": {
                      "automargin": true,
                      "gridcolor": "white",
                      "linecolor": "white",
                      "ticks": "",
                      "title": {
                        "standoff": 15
                      },
                      "zerolinecolor": "white",
                      "zerolinewidth": 2
                    },
                    "yaxis": {
                      "automargin": true,
                      "gridcolor": "white",
                      "linecolor": "white",
                      "ticks": "",
                      "title": {
                        "standoff": 15
                      },
                      "zerolinecolor": "white",
                      "zerolinewidth": 2
                    }
                  }
                },
                "title": {
                  "text": "Confusion matrices"
                },
                "width": 1000,
                "xaxis": {
                  "anchor": "y",
                  "domain": [
                    0,
                    0.45
                  ]
                },
                "xaxis2": {
                  "anchor": "y2",
                  "domain": [
                    0.55,
                    1
                  ]
                },
                "xaxis3": {
                  "anchor": "y3",
                  "domain": [
                    0,
                    0.45
                  ]
                },
                "xaxis4": {
                  "anchor": "y4",
                  "domain": [
                    0.55,
                    1
                  ]
                },
                "xaxis5": {
                  "anchor": "y5",
                  "domain": [
                    0,
                    0.45
                  ]
                },
                "xaxis6": {
                  "anchor": "y6",
                  "domain": [
                    0.55,
                    1
                  ]
                },
                "yaxis": {
                  "anchor": "x",
                  "domain": [
                    0.7333333333333333,
                    1
                  ]
                },
                "yaxis2": {
                  "anchor": "x2",
                  "domain": [
                    0.7333333333333333,
                    1
                  ]
                },
                "yaxis3": {
                  "anchor": "x3",
                  "domain": [
                    0.36666666666666664,
                    0.6333333333333333
                  ]
                },
                "yaxis4": {
                  "anchor": "x4",
                  "domain": [
                    0.36666666666666664,
                    0.6333333333333333
                  ]
                },
                "yaxis5": {
                  "anchor": "x5",
                  "domain": [
                    0,
                    0.26666666666666666
                  ]
                },
                "yaxis6": {
                  "anchor": "x6",
                  "domain": [
                    0,
                    0.26666666666666666
                  ]
                }
              }
            }
          },
          "metadata": {},
          "output_type": "display_data"
        }
      ],
      "source": [
        "rows, cols = 3, 2\n",
        "\n",
        "fig = make_subplots(rows=rows, cols=cols)\n",
        "\n",
        "index = 0\n",
        "\n",
        "for i in range(rows):\n",
        "    for j in range(cols):\n",
        "        \n",
        "        if index == 5: break\n",
        "\n",
        "        m = [[cm[index][0][0], cm[index][0][1]], [cm[index][1][0], cm[index][1][1]]]\n",
        "\n",
        "        fig.append_trace(go.Heatmap(z=m), row=i+1, col=j+1)\n",
        "\n",
        "        index += 1\n",
        "\n",
        "\n",
        "fig.update_layout(height=800, width=1000,title_text=\"Confusion matrices\")\n",
        "fig.show()"
      ]
    },
    {
      "cell_type": "markdown",
      "metadata": {
        "id": "q7RuDDpA_lCv"
      },
      "source": [
        "### Intrapolation vs Extrapolation"
      ]
    },
    {
      "cell_type": "code",
      "execution_count": null,
      "metadata": {
        "id": "P-amghM9_nqM"
      },
      "outputs": [],
      "source": [
        "# TO DO: inserire codice Ricc e spiegare differenza tra intrapolation ed extrapolation e perché con una migliorano i risultati"
      ]
    }
  ],
  "metadata": {
    "colab": {
      "collapsed_sections": [
        "6GqkMZPr-ETk"
      ],
      "provenance": []
    },
    "kernelspec": {
      "display_name": "Python 3 (ipykernel)",
      "language": "python",
      "name": "python3"
    },
    "language_info": {
      "codemirror_mode": {
        "name": "ipython",
        "version": 3
      },
      "file_extension": ".py",
      "mimetype": "text/x-python",
      "name": "python",
      "nbconvert_exporter": "python",
      "pygments_lexer": "ipython3",
      "version": "3.10.7"
    },
    "vscode": {
      "interpreter": {
        "hash": "ad2bdc8ecc057115af97d19610ffacc2b4e99fae6737bb82f5d7fb13d2f2c186"
      }
    }
  },
  "nbformat": 4,
  "nbformat_minor": 0
}
