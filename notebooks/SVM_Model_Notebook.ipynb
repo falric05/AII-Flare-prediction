{
  "cells": [
    {
      "cell_type": "code",
      "source": [
        "#io qui montavo il drive con le relative funzioni utili"
      ],
      "metadata": {
        "id": "m4GeHvYxhhxz"
      },
      "execution_count": null,
      "outputs": []
    },
    {
      "cell_type": "markdown",
      "metadata": {
        "id": "BZUhJEvf-tKM"
      },
      "source": [
        "## SVM Model\n"
      ]
    },
    {
      "cell_type": "code",
      "execution_count": null,
      "metadata": {
        "id": "IMy1hxhX-tKP"
      },
      "outputs": [],
      "source": [
        "%load_ext autoreload\n",
        "%autoreload 2\n",
        "from load_data import DataLoader\n",
        "import flares_plot as fplt\n",
        "from threshold import get_labels_physic"
      ]
    },
    {
      "cell_type": "code",
      "execution_count": null,
      "metadata": {
        "colab": {
          "base_uri": "https://localhost:8080/"
        },
        "id": "_U1MES1n-tKR",
        "outputId": "a66ff44b-6117-466f-bd3b-4b14fe265c75"
      },
      "outputs": [
        {
          "output_type": "execute_result",
          "data": {
            "text/plain": [
              "{'run': 30,\n",
              " 'sigma': [0.3, 0.4, 0.5, 0.6],\n",
              " 'theta': [0.01, 0.1, 0.5, 3],\n",
              " 'mu': [0.8, 0.9, 1, 1.1],\n",
              " 'delta': [0.01, 0.05, 0.1, 0.2, 0.25, 0.3, 0.4, 0.5, 0.6, 0.7],\n",
              " 'N': 1000}"
            ]
          },
          "metadata": {},
          "execution_count": 4
        }
      ],
      "source": [
        "# initialize data loader\n",
        "data_loader = DataLoader()\n",
        "# get the grid\n",
        "grid = data_loader.get_grid()\n",
        "# get params dictionary\n",
        "params = data_loader.get_params()\n",
        "\n",
        "params"
      ]
    },
    {
      "cell_type": "code",
      "execution_count": null,
      "metadata": {
        "id": "w8PjUwCE-tKV"
      },
      "outputs": [],
      "source": [
        "# get labels following physics method\n",
        "physic_labels = get_labels_physic(grid, params, alpha=2)\n"
      ]
    },
    {
      "cell_type": "markdown",
      "metadata": {
        "id": "9wHi1fGi-tKY"
      },
      "source": [
        "## Dataframe Building"
      ]
    },
    {
      "cell_type": "code",
      "execution_count": null,
      "metadata": {
        "colab": {
          "base_uri": "https://localhost:8080/",
          "height": 423
        },
        "id": "THGpACKh-tKZ",
        "outputId": "0f3f7e29-6cb4-4941-8aa6-b45b3dea4c8d"
      },
      "outputs": [
        {
          "output_type": "execute_result",
          "data": {
            "text/plain": [
              "           t_0       t_1       t_2       t_3       t_4       t_5       t_6  \\\n",
              "0     1.000000  0.987600  0.785896  0.841577  0.832249  0.782339  1.098576   \n",
              "1     1.344950  1.361417  1.454124  1.481221  1.739084  1.824354  1.865991   \n",
              "2     2.136767  1.900910  1.842975  1.392468  0.936490  1.009156  1.114423   \n",
              "3     1.111971  1.152431  0.897187  0.842220  1.124429  1.031089  1.097192   \n",
              "4     1.148019  1.039919  1.102339  1.152287  1.061448  0.908979  0.846604   \n",
              "...        ...       ...       ...       ...       ...       ...       ...   \n",
              "2965  0.087812  0.062624  0.065280  0.052309  0.048366  0.055236  0.058978   \n",
              "2966  0.057390  0.063970  0.063839  0.053189  0.038101  0.037498  0.047341   \n",
              "2967  0.056596  0.056859  0.059152  0.059293  0.060328  0.054363  0.052793   \n",
              "2968  0.065167  0.055373  0.063792  0.072816  0.072152  0.065053  0.057493   \n",
              "2969  0.053881  0.046497  0.041733  0.038112  0.044051  0.051820  0.057746   \n",
              "\n",
              "           t_7       t_8       t_9  future_flare  \n",
              "0     1.034369  1.065688  1.396328             0  \n",
              "1     1.748245  2.016654  1.962600             0  \n",
              "2     1.093375  1.016034  1.035544             0  \n",
              "3     1.374208  1.586394  1.373240             0  \n",
              "4     0.678237  0.596491  0.666381             0  \n",
              "...        ...       ...       ...           ...  \n",
              "2965  0.063442  0.058054  0.055112             0  \n",
              "2966  0.045256  0.053053  0.052463             0  \n",
              "2967  0.051796  0.059634  0.063387             0  \n",
              "2968  0.055421  0.058620  0.050251             0  \n",
              "2969  0.048656  0.054371  0.048471             0  \n",
              "\n",
              "[2970 rows x 11 columns]"
            ],
            "text/html": [
              "\n",
              "  <div id=\"df-7bf49a93-3373-42a7-93cf-f02001f4c20e\">\n",
              "    <div class=\"colab-df-container\">\n",
              "      <div>\n",
              "<style scoped>\n",
              "    .dataframe tbody tr th:only-of-type {\n",
              "        vertical-align: middle;\n",
              "    }\n",
              "\n",
              "    .dataframe tbody tr th {\n",
              "        vertical-align: top;\n",
              "    }\n",
              "\n",
              "    .dataframe thead th {\n",
              "        text-align: right;\n",
              "    }\n",
              "</style>\n",
              "<table border=\"1\" class=\"dataframe\">\n",
              "  <thead>\n",
              "    <tr style=\"text-align: right;\">\n",
              "      <th></th>\n",
              "      <th>t_0</th>\n",
              "      <th>t_1</th>\n",
              "      <th>t_2</th>\n",
              "      <th>t_3</th>\n",
              "      <th>t_4</th>\n",
              "      <th>t_5</th>\n",
              "      <th>t_6</th>\n",
              "      <th>t_7</th>\n",
              "      <th>t_8</th>\n",
              "      <th>t_9</th>\n",
              "      <th>future_flare</th>\n",
              "    </tr>\n",
              "  </thead>\n",
              "  <tbody>\n",
              "    <tr>\n",
              "      <th>0</th>\n",
              "      <td>1.000000</td>\n",
              "      <td>0.987600</td>\n",
              "      <td>0.785896</td>\n",
              "      <td>0.841577</td>\n",
              "      <td>0.832249</td>\n",
              "      <td>0.782339</td>\n",
              "      <td>1.098576</td>\n",
              "      <td>1.034369</td>\n",
              "      <td>1.065688</td>\n",
              "      <td>1.396328</td>\n",
              "      <td>0</td>\n",
              "    </tr>\n",
              "    <tr>\n",
              "      <th>1</th>\n",
              "      <td>1.344950</td>\n",
              "      <td>1.361417</td>\n",
              "      <td>1.454124</td>\n",
              "      <td>1.481221</td>\n",
              "      <td>1.739084</td>\n",
              "      <td>1.824354</td>\n",
              "      <td>1.865991</td>\n",
              "      <td>1.748245</td>\n",
              "      <td>2.016654</td>\n",
              "      <td>1.962600</td>\n",
              "      <td>0</td>\n",
              "    </tr>\n",
              "    <tr>\n",
              "      <th>2</th>\n",
              "      <td>2.136767</td>\n",
              "      <td>1.900910</td>\n",
              "      <td>1.842975</td>\n",
              "      <td>1.392468</td>\n",
              "      <td>0.936490</td>\n",
              "      <td>1.009156</td>\n",
              "      <td>1.114423</td>\n",
              "      <td>1.093375</td>\n",
              "      <td>1.016034</td>\n",
              "      <td>1.035544</td>\n",
              "      <td>0</td>\n",
              "    </tr>\n",
              "    <tr>\n",
              "      <th>3</th>\n",
              "      <td>1.111971</td>\n",
              "      <td>1.152431</td>\n",
              "      <td>0.897187</td>\n",
              "      <td>0.842220</td>\n",
              "      <td>1.124429</td>\n",
              "      <td>1.031089</td>\n",
              "      <td>1.097192</td>\n",
              "      <td>1.374208</td>\n",
              "      <td>1.586394</td>\n",
              "      <td>1.373240</td>\n",
              "      <td>0</td>\n",
              "    </tr>\n",
              "    <tr>\n",
              "      <th>4</th>\n",
              "      <td>1.148019</td>\n",
              "      <td>1.039919</td>\n",
              "      <td>1.102339</td>\n",
              "      <td>1.152287</td>\n",
              "      <td>1.061448</td>\n",
              "      <td>0.908979</td>\n",
              "      <td>0.846604</td>\n",
              "      <td>0.678237</td>\n",
              "      <td>0.596491</td>\n",
              "      <td>0.666381</td>\n",
              "      <td>0</td>\n",
              "    </tr>\n",
              "    <tr>\n",
              "      <th>...</th>\n",
              "      <td>...</td>\n",
              "      <td>...</td>\n",
              "      <td>...</td>\n",
              "      <td>...</td>\n",
              "      <td>...</td>\n",
              "      <td>...</td>\n",
              "      <td>...</td>\n",
              "      <td>...</td>\n",
              "      <td>...</td>\n",
              "      <td>...</td>\n",
              "      <td>...</td>\n",
              "    </tr>\n",
              "    <tr>\n",
              "      <th>2965</th>\n",
              "      <td>0.087812</td>\n",
              "      <td>0.062624</td>\n",
              "      <td>0.065280</td>\n",
              "      <td>0.052309</td>\n",
              "      <td>0.048366</td>\n",
              "      <td>0.055236</td>\n",
              "      <td>0.058978</td>\n",
              "      <td>0.063442</td>\n",
              "      <td>0.058054</td>\n",
              "      <td>0.055112</td>\n",
              "      <td>0</td>\n",
              "    </tr>\n",
              "    <tr>\n",
              "      <th>2966</th>\n",
              "      <td>0.057390</td>\n",
              "      <td>0.063970</td>\n",
              "      <td>0.063839</td>\n",
              "      <td>0.053189</td>\n",
              "      <td>0.038101</td>\n",
              "      <td>0.037498</td>\n",
              "      <td>0.047341</td>\n",
              "      <td>0.045256</td>\n",
              "      <td>0.053053</td>\n",
              "      <td>0.052463</td>\n",
              "      <td>0</td>\n",
              "    </tr>\n",
              "    <tr>\n",
              "      <th>2967</th>\n",
              "      <td>0.056596</td>\n",
              "      <td>0.056859</td>\n",
              "      <td>0.059152</td>\n",
              "      <td>0.059293</td>\n",
              "      <td>0.060328</td>\n",
              "      <td>0.054363</td>\n",
              "      <td>0.052793</td>\n",
              "      <td>0.051796</td>\n",
              "      <td>0.059634</td>\n",
              "      <td>0.063387</td>\n",
              "      <td>0</td>\n",
              "    </tr>\n",
              "    <tr>\n",
              "      <th>2968</th>\n",
              "      <td>0.065167</td>\n",
              "      <td>0.055373</td>\n",
              "      <td>0.063792</td>\n",
              "      <td>0.072816</td>\n",
              "      <td>0.072152</td>\n",
              "      <td>0.065053</td>\n",
              "      <td>0.057493</td>\n",
              "      <td>0.055421</td>\n",
              "      <td>0.058620</td>\n",
              "      <td>0.050251</td>\n",
              "      <td>0</td>\n",
              "    </tr>\n",
              "    <tr>\n",
              "      <th>2969</th>\n",
              "      <td>0.053881</td>\n",
              "      <td>0.046497</td>\n",
              "      <td>0.041733</td>\n",
              "      <td>0.038112</td>\n",
              "      <td>0.044051</td>\n",
              "      <td>0.051820</td>\n",
              "      <td>0.057746</td>\n",
              "      <td>0.048656</td>\n",
              "      <td>0.054371</td>\n",
              "      <td>0.048471</td>\n",
              "      <td>0</td>\n",
              "    </tr>\n",
              "  </tbody>\n",
              "</table>\n",
              "<p>2970 rows × 11 columns</p>\n",
              "</div>\n",
              "      <button class=\"colab-df-convert\" onclick=\"convertToInteractive('df-7bf49a93-3373-42a7-93cf-f02001f4c20e')\"\n",
              "              title=\"Convert this dataframe to an interactive table.\"\n",
              "              style=\"display:none;\">\n",
              "        \n",
              "  <svg xmlns=\"http://www.w3.org/2000/svg\" height=\"24px\"viewBox=\"0 0 24 24\"\n",
              "       width=\"24px\">\n",
              "    <path d=\"M0 0h24v24H0V0z\" fill=\"none\"/>\n",
              "    <path d=\"M18.56 5.44l.94 2.06.94-2.06 2.06-.94-2.06-.94-.94-2.06-.94 2.06-2.06.94zm-11 1L8.5 8.5l.94-2.06 2.06-.94-2.06-.94L8.5 2.5l-.94 2.06-2.06.94zm10 10l.94 2.06.94-2.06 2.06-.94-2.06-.94-.94-2.06-.94 2.06-2.06.94z\"/><path d=\"M17.41 7.96l-1.37-1.37c-.4-.4-.92-.59-1.43-.59-.52 0-1.04.2-1.43.59L10.3 9.45l-7.72 7.72c-.78.78-.78 2.05 0 2.83L4 21.41c.39.39.9.59 1.41.59.51 0 1.02-.2 1.41-.59l7.78-7.78 2.81-2.81c.8-.78.8-2.07 0-2.86zM5.41 20L4 18.59l7.72-7.72 1.47 1.35L5.41 20z\"/>\n",
              "  </svg>\n",
              "      </button>\n",
              "      \n",
              "  <style>\n",
              "    .colab-df-container {\n",
              "      display:flex;\n",
              "      flex-wrap:wrap;\n",
              "      gap: 12px;\n",
              "    }\n",
              "\n",
              "    .colab-df-convert {\n",
              "      background-color: #E8F0FE;\n",
              "      border: none;\n",
              "      border-radius: 50%;\n",
              "      cursor: pointer;\n",
              "      display: none;\n",
              "      fill: #1967D2;\n",
              "      height: 32px;\n",
              "      padding: 0 0 0 0;\n",
              "      width: 32px;\n",
              "    }\n",
              "\n",
              "    .colab-df-convert:hover {\n",
              "      background-color: #E2EBFA;\n",
              "      box-shadow: 0px 1px 2px rgba(60, 64, 67, 0.3), 0px 1px 3px 1px rgba(60, 64, 67, 0.15);\n",
              "      fill: #174EA6;\n",
              "    }\n",
              "\n",
              "    [theme=dark] .colab-df-convert {\n",
              "      background-color: #3B4455;\n",
              "      fill: #D2E3FC;\n",
              "    }\n",
              "\n",
              "    [theme=dark] .colab-df-convert:hover {\n",
              "      background-color: #434B5C;\n",
              "      box-shadow: 0px 1px 3px 1px rgba(0, 0, 0, 0.15);\n",
              "      filter: drop-shadow(0px 1px 2px rgba(0, 0, 0, 0.3));\n",
              "      fill: #FFFFFF;\n",
              "    }\n",
              "  </style>\n",
              "\n",
              "      <script>\n",
              "        const buttonEl =\n",
              "          document.querySelector('#df-7bf49a93-3373-42a7-93cf-f02001f4c20e button.colab-df-convert');\n",
              "        buttonEl.style.display =\n",
              "          google.colab.kernel.accessAllowed ? 'block' : 'none';\n",
              "\n",
              "        async function convertToInteractive(key) {\n",
              "          const element = document.querySelector('#df-7bf49a93-3373-42a7-93cf-f02001f4c20e');\n",
              "          const dataTable =\n",
              "            await google.colab.kernel.invokeFunction('convertToInteractive',\n",
              "                                                     [key], {});\n",
              "          if (!dataTable) return;\n",
              "\n",
              "          const docLinkHtml = 'Like what you see? Visit the ' +\n",
              "            '<a target=\"_blank\" href=https://colab.research.google.com/notebooks/data_table.ipynb>data table notebook</a>'\n",
              "            + ' to learn more about interactive tables.';\n",
              "          element.innerHTML = '';\n",
              "          dataTable['output_type'] = 'display_data';\n",
              "          await google.colab.output.renderOutput(dataTable, element);\n",
              "          const docLink = document.createElement('div');\n",
              "          docLink.innerHTML = docLinkHtml;\n",
              "          element.appendChild(docLink);\n",
              "        }\n",
              "      </script>\n",
              "    </div>\n",
              "  </div>\n",
              "  "
            ]
          },
          "metadata": {},
          "execution_count": 10
        }
      ],
      "source": [
        "import numpy as np\n",
        "import pandas as pd\n",
        "\n",
        "best_Xs = grid[:, bindexes[0], bindexes[1], bindexes[2], bindexes[3], :]\n",
        "best_labels = labels_best[:, bindexes[0], bindexes[1], bindexes[2], bindexes[3], :]\n",
        "\n",
        "window_size = 10\n",
        "overlap_size = 0\n",
        "label_treshold = 1\n",
        "stride = window_size - overlap_size\n",
        "num_windows = (best_Xs.shape[-1]-window_size)//stride + 1\n",
        "\n",
        "windows = np.zeros((best_Xs.shape[0]*(num_windows-1),window_size))\n",
        "windows_label = np.zeros((best_labels.shape[0]*(num_windows-1),window_size), dtype='bool')\n",
        "\n",
        "\n",
        "for i in range(best_Xs.shape[0]):\n",
        "    tmp_windows = np.array([best_Xs[i,j:j+window_size] for j in range(0,stride*num_windows,stride)])\n",
        "    tmp_windows_labels = np.array([best_labels[i,j:j+window_size] for j in range(0,stride*num_windows,stride)])\n",
        "    windows[i*(num_windows-1):(i+1)*(num_windows-1)] = tmp_windows[:-1,:]\n",
        "    windows_label[i*(num_windows-1):(i+1)*(num_windows-1)] = tmp_windows_labels[1:,:]\n",
        "\n",
        "windows_label = np.sum(windows_label, axis=-1)\n",
        "windows_label[windows_label<label_treshold] = 0\n",
        "windows_label[windows_label>=label_treshold] = 1\n",
        "\n",
        "windows_df = pd.DataFrame(windows, columns=[f't_{i}' for i in range(windows.shape[-1])])\n",
        "label_df = pd.DataFrame({'future_flare':windows_label})\n",
        "labelled_windows_df = pd.concat([windows_df, label_df], axis=1)\n",
        "\n",
        "labelled_windows_df\n",
        "\n"
      ]
    },
    {
      "cell_type": "code",
      "execution_count": null,
      "metadata": {
        "colab": {
          "base_uri": "https://localhost:8080/"
        },
        "id": "6mUunMkF-tKa",
        "outputId": "24771728-1b1a-47a9-d0dd-bda6772b04f8"
      },
      "outputs": [
        {
          "output_type": "execute_result",
          "data": {
            "text/plain": [
              "0    2782\n",
              "1     188\n",
              "Name: future_flare, dtype: int64"
            ]
          },
          "metadata": {},
          "execution_count": 11
        }
      ],
      "source": [
        "labelled_windows_df['future_flare'].value_counts()"
      ]
    },
    {
      "cell_type": "code",
      "execution_count": null,
      "metadata": {
        "colab": {
          "base_uri": "https://localhost:8080/"
        },
        "id": "RdkNXf8H-tKa",
        "outputId": "2c632104-5999-45e6-82a5-459953c89c38"
      },
      "outputs": [
        {
          "output_type": "stream",
          "name": "stdout",
          "text": [
            "[[9.99630096e-01 3.69904102e-04]\n",
            " [9.89619101e-01 1.03808988e-02]\n",
            " [9.99637683e-01 3.62317091e-04]\n",
            " ...\n",
            " [9.99658646e-01 3.41354203e-04]\n",
            " [9.99583017e-01 4.16983350e-04]\n",
            " [9.99590497e-01 4.09502764e-04]]\n"
          ]
        }
      ],
      "source": [
        "from sklearn.svm import SVC\n",
        "from sklearn.model_selection import train_test_split\n",
        "from sklearn.metrics import f1_score, accuracy_score, classification_report, confusion_matrix\n",
        "\n",
        "test_size = 0.3\n",
        "random_state = 42\n",
        "\n",
        "X = labelled_windows_df.iloc[:,:-1].to_numpy()\n",
        "y = labelled_windows_df.future_flare.to_numpy()\n",
        "X_train, X_test, y_train, y_test = train_test_split(X, y, test_size=test_size, random_state=random_state)\n",
        "class_weights = {0: 1, 1: 5}\n",
        "#svm_model = SVC(class_weight='balanced', probability=True)\n",
        "svm_model = SVC(class_weight= class_weights, probability=True)\n",
        "svm_model.fit(X_train, y_train)\n",
        "print(svm_model.predict_proba(X_test))\n",
        "y_pred_train = svm_model.predict(X_train)\n",
        "y_pred_test = svm_model.predict(X_test)"
      ]
    },
    {
      "cell_type": "code",
      "source": [
        "print(classification_report(y_test, y_pred_test))"
      ],
      "metadata": {
        "colab": {
          "base_uri": "https://localhost:8080/"
        },
        "id": "hm65Hom1JyEd",
        "outputId": "9fffbf7b-48bb-45e7-8ebf-6862b66e80c1"
      },
      "execution_count": null,
      "outputs": [
        {
          "output_type": "stream",
          "name": "stdout",
          "text": [
            "              precision    recall  f1-score   support\n",
            "\n",
            "           0       0.99      0.99      0.99       835\n",
            "           1       0.86      0.89      0.88        56\n",
            "\n",
            "    accuracy                           0.98       891\n",
            "   macro avg       0.93      0.94      0.93       891\n",
            "weighted avg       0.98      0.98      0.98       891\n",
            "\n"
          ]
        }
      ]
    },
    {
      "cell_type": "code",
      "execution_count": null,
      "metadata": {
        "colab": {
          "base_uri": "https://localhost:8080/"
        },
        "id": "oVCpV3uY-tKb",
        "outputId": "a0358e19-7fda-43ce-e05d-c8946e72cf09"
      },
      "outputs": [
        {
          "output_type": "stream",
          "name": "stdout",
          "text": [
            "[0 0 0 0 0 0 0 0 1 0 0 0 0 0 0 0 1 1 1 0 0 0 0 0 0 0 0 1 0 0 0 0 0 0 0 0 1\n",
            " 0 0 0 0 0 0 1 0 0 0 0 0 0 0 0 1 0 0 0 0 0 0 0 0 0 0 0 0 0 0 0 0 0 0 0 0 0\n",
            " 0 0 0 0 0 0 0 0 0 0 0 0 0 0 0 0 0 0 0 1 0 0 0 0 1 0 0 0 0 0 0 0 1 0 0 0 0\n",
            " 0 0 0 0 0 0 0 0 0 0 0 0 0 0 0 0 0 0 0 0 0 0 0 0 0 0 0 0 0 0 0 0 0 0 0 0 0\n",
            " 1 0 0 0 0 0 0 0 1 0 0 0 0 0 0 0 0 0 0 0 0 0 0 0 0 0 0 0 0 0 0 0 0 0 0 0 0\n",
            " 0 0 0 0 0 0 0 0 1 0 0 1 0 0 0 0 0 0 0 1 0 0 0 0 0 0 0 0 0 0 0 0 0 0 0 0 0\n",
            " 0 0 0 0 0 0 0 0 0 0 0 0 0 1 0 0 0 0 0 0 0 0 0 0 0 0 0 1 0 0 0 0 0 0 0 0 0\n",
            " 0 1 0 1 0 0 0 0 0 0 0 0 0 0 0 0 1 1 0 0 0 0 0 0 0 0 0 0 0 0 0 0 0 0 0 0 0\n",
            " 0 0 0 0 0 0 0 0 0 0 0 1 0 0 0 0 0 0 0 0 0 0 0 1 0 0 0 0 1 0 0 0 0 0 0 0 0\n",
            " 0 0 0 0 0 1 0 0 1 0 1 0 0 0 0 0 0 0 0 0 0 0 0 0 0 0 0 0 0 0 0 0 1 0 1 0 0\n",
            " 0 0 0 0 0 0 0 0 0 0 0 0 0 0 0 0 0 1 0 0 0 0 0 0 0 0 0 0 0 0 0 0 0 1 0 0 0\n",
            " 0 0 0 0 0 0 0 0 0 0 0 0 0 0 1 0 0 0 0 0 0 0 0 0 0 0 0 0 0 0 0 1 0 0 0 0 0\n",
            " 0 0 0 0 0 0 0 0 0 0 0 0 0 0 0 0 0 0 0 0 0 0 0 0 0 0 0 0 0 0 0 0 1 0 0 0 0\n",
            " 0 0 0 0 0 0 0 1 0 0 0 0 0 0 0 0 0 0 0 0 0 0 0 0 0 0 0 0 0 0 0 0 0 0 0 0 0\n",
            " 0 0 0 0 0 0 0 0 0 0 0 0 0 0 0 0 0 0 0 0 1 1 0 0 0 0 0 0 0 0 0 0 0 0 0 0 0\n",
            " 0 0 0 0 0 0 0 0 0 0 0 0 0 0 0 0 0 0 0 0 0 0 0 0 0 0 1 0 0 0 0 0 0 0 0 0 0\n",
            " 0 1 0 0 0 1 0 0 1 0 0 1 0 0 0 0 0 0 0 0 1 0 0 0 0 0 0 0 0 0 1 1 0 1 0 0 0\n",
            " 1 0 0 1 0 0 0 0 0 0 0 0 0 0 0 0 0 0 1 0 0 1 0 1 0 0 0 1 0 0 0 0 0 0 0 0 0\n",
            " 0 0 0 0 0 0 0 0 0 0 0 0 0 0 0 0 0 1 0 0 0 0 0 1 0 0 0 0 0 0 0 0 0 0 0 0 0\n",
            " 0 0 1 0 0 0 0 0 0 0 0 0 0 0 0 0 0 0 0 0 0 0 0 0 0 0 0 0 0 0 1 0 0 0 0 0 0\n",
            " 0 0 0 0 0 0 0 0 0 0 0 0 0 0 0 0 0 0 0 0 0 0 0 0 0 0 0 0 1 0 1 0 0 0 0 0 0\n",
            " 0 0 1 0 0 0 0 0 0 0 0 0 1 0 0 0 0 0 0 0 0 0 0 1 0 0 0 0 0 0 0 0 0 1 0 0 0\n",
            " 0 0 0 0 0 0 0 0 0 0 0 1 0 0 1 0 0 0 0 0 0 0 0 0 0 0 0 0 0 0 0 1 0 0 1 0 1\n",
            " 0 0 0 0 0 0 0 0 1 0 0 0 1 0 0 0 0 0 0 0 0 1 0 0 0 0 0 0 0 1 0 1 0 0 1 0 0\n",
            " 0 0 0]\n"
          ]
        }
      ],
      "source": [
        "print(svm_model.predict(X_test))"
      ]
    },
    {
      "cell_type": "code",
      "execution_count": null,
      "metadata": {
        "id": "Q0bOzLA8-tKb",
        "colab": {
          "base_uri": "https://localhost:8080/"
        },
        "outputId": "69ddc806-ec76-49d8-b231-9c2b890d6e5b"
      },
      "outputs": [
        {
          "output_type": "stream",
          "name": "stdout",
          "text": [
            "[[814  21]\n",
            " [  3  53]]\n"
          ]
        }
      ],
      "source": [
        "print(confusion_matrix(y_test, y_pred_test))"
      ]
    }
  ],
  "metadata": {
    "kernelspec": {
      "display_name": "Python 3 (ipykernel)",
      "language": "python",
      "name": "python3"
    },
    "language_info": {
      "codemirror_mode": {
        "name": "ipython",
        "version": 3
      },
      "file_extension": ".py",
      "mimetype": "text/x-python",
      "name": "python",
      "nbconvert_exporter": "python",
      "pygments_lexer": "ipython3",
      "version": "3.8.16"
    },
    "vscode": {
      "interpreter": {
        "hash": "ad2bdc8ecc057115af97d19610ffacc2b4e99fae6737bb82f5d7fb13d2f2c186"
      }
    },
    "colab": {
      "provenance": []
    }
  },
  "nbformat": 4,
  "nbformat_minor": 0
}